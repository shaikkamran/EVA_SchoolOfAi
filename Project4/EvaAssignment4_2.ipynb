{
  "nbformat": 4,
  "nbformat_minor": 0,
  "metadata": {
    "colab": {
      "name": "EvaAssignemnt4_2.ipynb",
      "version": "0.3.2",
      "provenance": [],
      "collapsed_sections": []
    },
    "kernelspec": {
      "name": "python3",
      "display_name": "Python 3"
    },
    "accelerator": "GPU"
  },
  "cells": [
    {
      "cell_type": "markdown",
      "metadata": {
        "id": "aNyZv-Ec52ot",
        "colab_type": "text"
      },
      "source": [
        "# **Import Libraries and modules**"
      ]
    },
    {
      "cell_type": "code",
      "metadata": {
        "id": "Eso6UHE080D4",
        "colab_type": "code",
        "outputId": "19f62074-4e45-4647-861a-34bd567bb32d",
        "colab": {
          "base_uri": "https://localhost:8080/",
          "height": 35
        }
      },
      "source": [
        "import numpy as np\n",
        "\n",
        "from keras.models import Sequential\n",
        "from keras.layers import Dense, Dropout, Activation, Flatten, Add, BatchNormalization\n",
        "from keras.layers import Convolution2D, MaxPooling2D\n",
        "from keras.utils import np_utils\n",
        "from keras.datasets import mnist"
      ],
      "execution_count": 1,
      "outputs": [
        {
          "output_type": "stream",
          "text": [
            "Using TensorFlow backend.\n"
          ],
          "name": "stderr"
        }
      ]
    },
    {
      "cell_type": "markdown",
      "metadata": {
        "id": "zByEi95J86RD",
        "colab_type": "text"
      },
      "source": [
        "### Load pre-shuffled MNIST data into train and test sets"
      ]
    },
    {
      "cell_type": "code",
      "metadata": {
        "id": "7eRM0QWN83PV",
        "colab_type": "code",
        "colab": {}
      },
      "source": [
        "(X_train, y_train), (X_test, y_test) = mnist.load_data()"
      ],
      "execution_count": 0,
      "outputs": []
    },
    {
      "cell_type": "code",
      "metadata": {
        "id": "4a4Be72j8-ZC",
        "colab_type": "code",
        "outputId": "ca723286-1dbd-4120-becc-15e0bb05f3a3",
        "colab": {
          "base_uri": "https://localhost:8080/",
          "height": 305
        }
      },
      "source": [
        "print (X_train.shape)\n",
        "from matplotlib import pyplot as plt\n",
        "%matplotlib inline\n",
        "plt.imshow(X_train[0])"
      ],
      "execution_count": 3,
      "outputs": [
        {
          "output_type": "stream",
          "text": [
            "(60000, 28, 28)\n"
          ],
          "name": "stdout"
        },
        {
          "output_type": "execute_result",
          "data": {
            "text/plain": [
              "<matplotlib.image.AxesImage at 0x7fa79f2431d0>"
            ]
          },
          "metadata": {
            "tags": []
          },
          "execution_count": 3
        },
        {
          "output_type": "display_data",
          "data": {
            "image/png": "[encoded data removed]",
            "text/plain": [
              "<Figure size 432x288 with 1 Axes>"
            ]
          },
          "metadata": {
            "tags": []
          }
        }
      ]
    },
    {
      "cell_type": "code",
      "metadata": {
        "id": "dkmprriw9AnZ",
        "colab_type": "code",
        "colab": {}
      },
      "source": [
        "X_train = X_train.reshape(X_train.shape[0], 28, 28,1)\n",
        "X_test = X_test.reshape(X_test.shape[0], 28, 28,1)"
      ],
      "execution_count": 0,
      "outputs": []
    },
    {
      "cell_type": "code",
      "metadata": {
        "id": "X2m4YS4E9CRh",
        "colab_type": "code",
        "colab": {}
      },
      "source": [
        "X_train = X_train.astype('float32')\n",
        "X_test = X_test.astype('float32')\n",
        "X_train /= 255\n",
        "X_test /= 255"
      ],
      "execution_count": 0,
      "outputs": []
    },
    {
      "cell_type": "code",
      "metadata": {
        "id": "0Mn0vAYD9DvB",
        "colab_type": "code",
        "outputId": "1be2b166-edf5-4d94-fe72-9dc63557018d",
        "colab": {
          "base_uri": "https://localhost:8080/",
          "height": 35
        }
      },
      "source": [
        "y_train[:10]"
      ],
      "execution_count": 6,
      "outputs": [
        {
          "output_type": "execute_result",
          "data": {
            "text/plain": [
              "array([5, 0, 4, 1, 9, 2, 1, 3, 1, 4], dtype=uint8)"
            ]
          },
          "metadata": {
            "tags": []
          },
          "execution_count": 6
        }
      ]
    },
    {
      "cell_type": "code",
      "metadata": {
        "id": "ZG8JiXR39FHC",
        "colab_type": "code",
        "colab": {}
      },
      "source": [
        "# Convert 1-dimensional class arrays to 10-dimensional class matrices\n",
        "Y_train = np_utils.to_categorical(y_train, 10)\n",
        "Y_test = np_utils.to_categorical(y_test, 10)"
      ],
      "execution_count": 0,
      "outputs": []
    },
    {
      "cell_type": "code",
      "metadata": {
        "id": "fYlFRvKS9HMB",
        "colab_type": "code",
        "outputId": "bae82d5d-fc56-4473-d114-6f3124737284",
        "colab": {
          "base_uri": "https://localhost:8080/",
          "height": 199
        }
      },
      "source": [
        "Y_train[:10]\n"
      ],
      "execution_count": 8,
      "outputs": [
        {
          "output_type": "execute_result",
          "data": {
            "text/plain": [
              "array([[0., 0., 0., 0., 0., 1., 0., 0., 0., 0.],\n",
              "       [1., 0., 0., 0., 0., 0., 0., 0., 0., 0.],\n",
              "       [0., 0., 0., 0., 1., 0., 0., 0., 0., 0.],\n",
              "       [0., 1., 0., 0., 0., 0., 0., 0., 0., 0.],\n",
              "       [0., 0., 0., 0., 0., 0., 0., 0., 0., 1.],\n",
              "       [0., 0., 1., 0., 0., 0., 0., 0., 0., 0.],\n",
              "       [0., 1., 0., 0., 0., 0., 0., 0., 0., 0.],\n",
              "       [0., 0., 0., 1., 0., 0., 0., 0., 0., 0.],\n",
              "       [0., 1., 0., 0., 0., 0., 0., 0., 0., 0.],\n",
              "       [0., 0., 0., 0., 1., 0., 0., 0., 0., 0.]], dtype=float32)"
            ]
          },
          "metadata": {
            "tags": []
          },
          "execution_count": 8
        }
      ]
    },
    {
      "cell_type": "code",
      "metadata": {
        "id": "zoT9jI-69Oeq",
        "colab_type": "code",
        "colab": {}
      },
      "source": [
        ""
      ],
      "execution_count": 0,
      "outputs": []
    },
    {
      "cell_type": "code",
      "metadata": {
        "id": "Uz46b7lLzWuy",
        "colab_type": "code",
        "colab": {}
      },
      "source": [
        "def ConvBnDropout(model,size,dout=0.2,K=(3,3)):\n",
        "  \n",
        "  model.add(Convolution2D(size, kernel_size=K, activation='relu'))\n",
        "  model.add(BatchNormalization())\n",
        "  model.add(Dropout(dout))\n",
        "  return model  \n",
        "  \n",
        "  \n",
        "  "
      ],
      "execution_count": 0,
      "outputs": []
    },
    {
      "cell_type": "markdown",
      "metadata": {
        "id": "hmtl6juwBDkh",
        "colab_type": "text"
      },
      "source": [
        "### No architectural changes \n",
        "### Adding \n",
        "            1) Batch Normalization \n",
        "            2) Dropout\n",
        "            3) Avoiding dropouts at 1*1 transitions"
      ]
    },
    {
      "cell_type": "code",
      "metadata": {
        "id": "osKqT73Q9JJB",
        "colab_type": "code",
        "colab": {}
      },
      "source": [
        ""
      ],
      "execution_count": 0,
      "outputs": []
    },
    {
      "cell_type": "code",
      "metadata": {
        "id": "HeGqhm2y21Qx",
        "colab_type": "code",
        "outputId": "32c5ec06-472c-429c-9dc7-0b8830a19066",
        "colab": {
          "base_uri": "https://localhost:8080/",
          "height": 74
        }
      },
      "source": [
        "from keras.layers import Activation\n",
        "model = Sequential()\n",
        "\n",
        " \n",
        "model.add(Convolution2D(10, 3, 3, activation='relu', input_shape=(28,28,1))) # 26\n",
        "model.add(BatchNormalization())\n",
        "\n",
        "model=ConvBnDropout(model,16)\n",
        "model=ConvBnDropout(model,24)\n",
        "\n",
        "model.add(MaxPooling2D(pool_size=(2, 2))) # 11\n",
        "model=ConvBnDropout(model,10,0,K=(1,1))\n",
        "\n",
        "model=ConvBnDropout(model,16)\n",
        "model=ConvBnDropout(model,24)\n",
        "\n",
        "model=ConvBnDropout(model,10,0,K=(1,1))\n",
        "\n",
        "model.add(Convolution2D(10, 7))\n",
        "model.add(Flatten())\n",
        "model.add(Activation('softmax'))"
      ],
      "execution_count": 13,
      "outputs": [
        {
          "output_type": "stream",
          "text": [
            "/usr/local/lib/python3.6/dist-packages/ipykernel_launcher.py:5: UserWarning: Update your `Conv2D` call to the Keras 2 API: `Conv2D(10, (3, 3), activation=\"relu\", input_shape=(28, 28, 1...)`\n",
            "  \"\"\"\n"
          ],
          "name": "stderr"
        }
      ]
    },
    {
      "cell_type": "code",
      "metadata": {
        "id": "TzdAYg1k9K7Z",
        "colab_type": "code",
        "outputId": "8e1ea106-1446-4265-ce33-88681f8e15f2",
        "colab": {
          "base_uri": "https://localhost:8080/",
          "height": 1017
        }
      },
      "source": [
        "model.summary()"
      ],
      "execution_count": 14,
      "outputs": [
        {
          "output_type": "stream",
          "text": [
            "_________________________________________________________________\n",
            "Layer (type)                 Output Shape              Param #   \n",
            "=================================================================\n",
            "conv2d_9 (Conv2D)            (None, 26, 26, 10)        100       \n",
            "_________________________________________________________________\n",
            "batch_normalization_8 (Batch (None, 26, 26, 10)        40        \n",
            "_________________________________________________________________\n",
            "conv2d_10 (Conv2D)           (None, 24, 24, 16)        1456      \n",
            "_________________________________________________________________\n",
            "batch_normalization_9 (Batch (None, 24, 24, 16)        64        \n",
            "_________________________________________________________________\n",
            "dropout_7 (Dropout)          (None, 24, 24, 16)        0         \n",
            "_________________________________________________________________\n",
            "conv2d_11 (Conv2D)           (None, 22, 22, 24)        3480      \n",
            "_________________________________________________________________\n",
            "batch_normalization_10 (Batc (None, 22, 22, 24)        96        \n",
            "_________________________________________________________________\n",
            "dropout_8 (Dropout)          (None, 22, 22, 24)        0         \n",
            "_________________________________________________________________\n",
            "max_pooling2d_2 (MaxPooling2 (None, 11, 11, 24)        0         \n",
            "_________________________________________________________________\n",
            "conv2d_12 (Conv2D)           (None, 11, 11, 10)        250       \n",
            "_________________________________________________________________\n",
            "batch_normalization_11 (Batc (None, 11, 11, 10)        40        \n",
            "_________________________________________________________________\n",
            "dropout_9 (Dropout)          (None, 11, 11, 10)        0         \n",
            "_________________________________________________________________\n",
            "conv2d_13 (Conv2D)           (None, 9, 9, 16)          1456      \n",
            "_________________________________________________________________\n",
            "batch_normalization_12 (Batc (None, 9, 9, 16)          64        \n",
            "_________________________________________________________________\n",
            "dropout_10 (Dropout)         (None, 9, 9, 16)          0         \n",
            "_________________________________________________________________\n",
            "conv2d_14 (Conv2D)           (None, 7, 7, 24)          3480      \n",
            "_________________________________________________________________\n",
            "batch_normalization_13 (Batc (None, 7, 7, 24)          96        \n",
            "_________________________________________________________________\n",
            "dropout_11 (Dropout)         (None, 7, 7, 24)          0         \n",
            "_________________________________________________________________\n",
            "conv2d_15 (Conv2D)           (None, 7, 7, 10)          250       \n",
            "_________________________________________________________________\n",
            "batch_normalization_14 (Batc (None, 7, 7, 10)          40        \n",
            "_________________________________________________________________\n",
            "dropout_12 (Dropout)         (None, 7, 7, 10)          0         \n",
            "_________________________________________________________________\n",
            "conv2d_16 (Conv2D)           (None, 1, 1, 10)          4910      \n",
            "_________________________________________________________________\n",
            "flatten_2 (Flatten)          (None, 10)                0         \n",
            "_________________________________________________________________\n",
            "activation_2 (Activation)    (None, 10)                0         \n",
            "=================================================================\n",
            "Total params: 15,822\n",
            "Trainable params: 15,602\n",
            "Non-trainable params: 220\n",
            "_________________________________________________________________\n"
          ],
          "name": "stdout"
        }
      ]
    },
    {
      "cell_type": "code",
      "metadata": {
        "id": "U6BMWovKhJEW",
        "colab_type": "code",
        "colab": {}
      },
      "source": [
        "model.compile(loss='categorical_crossentropy',\n",
        "             optimizer='adam',\n",
        "             metrics=['accuracy'])\n"
      ],
      "execution_count": 0,
      "outputs": []
    },
    {
      "cell_type": "code",
      "metadata": {
        "id": "Zp6SuGrL9M3h",
        "colab_type": "code",
        "outputId": "d729283f-3db6-4b9b-f955-78126e350d13",
        "colab": {
          "base_uri": "https://localhost:8080/",
          "height": 855
        }
      },
      "source": [
        "model.fit(X_train, Y_train, batch_size=32, \n",
        "          epochs=20, verbose=1, \n",
        "          validation_data=(X_test, Y_test))"
      ],
      "execution_count": 16,
      "outputs": [
        {
          "output_type": "stream",
          "text": [
            "WARNING:tensorflow:From /usr/local/lib/python3.6/dist-packages/tensorflow/python/ops/math_ops.py:3066: to_int32 (from tensorflow.python.ops.math_ops) is deprecated and will be removed in a future version.\n",
            "Instructions for updating:\n",
            "Use tf.cast instead.\n",
            "Train on 60000 samples, validate on 10000 samples\n",
            "Epoch 1/20\n",
            "60000/60000 [==============================] - 24s 397us/step - loss: 0.2113 - acc: 0.9339 - val_loss: 0.0622 - val_acc: 0.9798\n",
            "Epoch 2/20\n",
            "60000/60000 [==============================] - 22s 367us/step - loss: 0.0691 - acc: 0.9788 - val_loss: 0.0410 - val_acc: 0.9874\n",
            "Epoch 3/20\n",
            "60000/60000 [==============================] - 21s 351us/step - loss: 0.0550 - acc: 0.9828 - val_loss: 0.0350 - val_acc: 0.9885\n",
            "Epoch 4/20\n",
            "60000/60000 [==============================] - 21s 348us/step - loss: 0.0480 - acc: 0.9849 - val_loss: 0.0365 - val_acc: 0.9870\n",
            "Epoch 5/20\n",
            "60000/60000 [==============================] - 21s 345us/step - loss: 0.0430 - acc: 0.9863 - val_loss: 0.0326 - val_acc: 0.9898\n",
            "Epoch 6/20\n",
            "60000/60000 [==============================] - 22s 362us/step - loss: 0.0382 - acc: 0.9879 - val_loss: 0.0327 - val_acc: 0.9890\n",
            "Epoch 7/20\n",
            "60000/60000 [==============================] - 21s 343us/step - loss: 0.0368 - acc: 0.9888 - val_loss: 0.0335 - val_acc: 0.9900\n",
            "Epoch 8/20\n",
            "60000/60000 [==============================] - 21s 343us/step - loss: 0.0322 - acc: 0.9894 - val_loss: 0.0281 - val_acc: 0.9915\n",
            "Epoch 9/20\n",
            "60000/60000 [==============================] - 21s 344us/step - loss: 0.0329 - acc: 0.9893 - val_loss: 0.0311 - val_acc: 0.9905\n",
            "Epoch 10/20\n",
            "60000/60000 [==============================] - 23s 376us/step - loss: 0.0291 - acc: 0.9909 - val_loss: 0.0250 - val_acc: 0.9929\n",
            "Epoch 11/20\n",
            "60000/60000 [==============================] - 21s 350us/step - loss: 0.0298 - acc: 0.9905 - val_loss: 0.0237 - val_acc: 0.9921\n",
            "Epoch 12/20\n",
            "60000/60000 [==============================] - 23s 390us/step - loss: 0.0265 - acc: 0.9911 - val_loss: 0.0231 - val_acc: 0.9930\n",
            "Epoch 13/20\n",
            "60000/60000 [==============================] - 22s 360us/step - loss: 0.0271 - acc: 0.9915 - val_loss: 0.0244 - val_acc: 0.9920\n",
            "Epoch 14/20\n",
            "60000/60000 [==============================] - 21s 357us/step - loss: 0.0255 - acc: 0.9918 - val_loss: 0.0303 - val_acc: 0.9905\n",
            "Epoch 15/20\n",
            "60000/60000 [==============================] - 21s 348us/step - loss: 0.0249 - acc: 0.9919 - val_loss: 0.0240 - val_acc: 0.9930\n",
            "Epoch 16/20\n",
            "60000/60000 [==============================] - 21s 348us/step - loss: 0.0227 - acc: 0.9925 - val_loss: 0.0262 - val_acc: 0.9924\n",
            "Epoch 17/20\n",
            "60000/60000 [==============================] - 22s 368us/step - loss: 0.0225 - acc: 0.9927 - val_loss: 0.0253 - val_acc: 0.9920\n",
            "Epoch 18/20\n",
            "60000/60000 [==============================] - 21s 347us/step - loss: 0.0227 - acc: 0.9924 - val_loss: 0.0228 - val_acc: 0.9929\n",
            "Epoch 19/20\n",
            "60000/60000 [==============================] - 21s 347us/step - loss: 0.0220 - acc: 0.9928 - val_loss: 0.0221 - val_acc: 0.9932\n",
            "Epoch 20/20\n",
            "60000/60000 [==============================] - 21s 347us/step - loss: 0.0201 - acc: 0.9934 - val_loss: 0.0247 - val_acc: 0.9919\n"
          ],
          "name": "stdout"
        },
        {
          "output_type": "execute_result",
          "data": {
            "text/plain": [
              "<keras.callbacks.History at 0x7fa76f0839e8>"
            ]
          },
          "metadata": {
            "tags": []
          },
          "execution_count": 16
        }
      ]
    },
    {
      "cell_type": "code",
      "metadata": {
        "id": "AtsH-lLk-eLb",
        "colab_type": "code",
        "colab": {}
      },
      "source": [
        "score = model.evaluate(X_test, Y_test, verbose=0)"
      ],
      "execution_count": 0,
      "outputs": []
    },
    {
      "cell_type": "code",
      "metadata": {
        "id": "mkX8JMv79q9r",
        "colab_type": "code",
        "outputId": "12734400-2a8e-47bd-e95f-0e1a5569991c",
        "colab": {
          "base_uri": "https://localhost:8080/",
          "height": 35
        }
      },
      "source": [
        "print(score)"
      ],
      "execution_count": 18,
      "outputs": [
        {
          "output_type": "stream",
          "text": [
            "[0.024732927495142214, 0.9919]\n"
          ],
          "name": "stdout"
        }
      ]
    },
    {
      "cell_type": "code",
      "metadata": {
        "id": "XWoQoGV4dBJC",
        "colab_type": "code",
        "outputId": "091bacbe-f844-4bc8-ca30-6aa55ee7c2c4",
        "colab": {
          "base_uri": "https://localhost:8080/",
          "height": 781
        }
      },
      "source": [
        "model.fit(X_train, Y_train, batch_size=32, \n",
        "          epochs=20, verbose=1, \n",
        "          validation_data=(X_test, Y_test))"
      ],
      "execution_count": 23,
      "outputs": [
        {
          "output_type": "stream",
          "text": [
            "Train on 60000 samples, validate on 10000 samples\n",
            "Epoch 1/20\n",
            "60000/60000 [==============================] - 22s 366us/step - loss: 0.0201 - acc: 0.9931 - val_loss: 0.0245 - val_acc: 0.9930\n",
            "Epoch 2/20\n",
            "60000/60000 [==============================] - 21s 346us/step - loss: 0.0206 - acc: 0.9935 - val_loss: 0.0208 - val_acc: 0.9935\n",
            "Epoch 3/20\n",
            "60000/60000 [==============================] - 21s 346us/step - loss: 0.0184 - acc: 0.9942 - val_loss: 0.0222 - val_acc: 0.9931\n",
            "Epoch 4/20\n",
            "60000/60000 [==============================] - 22s 363us/step - loss: 0.0188 - acc: 0.9937 - val_loss: 0.0218 - val_acc: 0.9935\n",
            "Epoch 5/20\n",
            "60000/60000 [==============================] - 22s 374us/step - loss: 0.0195 - acc: 0.9934 - val_loss: 0.0224 - val_acc: 0.9928\n",
            "Epoch 6/20\n",
            "60000/60000 [==============================] - 21s 351us/step - loss: 0.0181 - acc: 0.9940 - val_loss: 0.0239 - val_acc: 0.9921\n",
            "Epoch 7/20\n",
            "60000/60000 [==============================] - 21s 343us/step - loss: 0.0176 - acc: 0.9942 - val_loss: 0.0227 - val_acc: 0.9933\n",
            "Epoch 8/20\n",
            "60000/60000 [==============================] - 22s 363us/step - loss: 0.0169 - acc: 0.9942 - val_loss: 0.0210 - val_acc: 0.9935\n",
            "Epoch 9/20\n",
            "60000/60000 [==============================] - 21s 343us/step - loss: 0.0178 - acc: 0.9942 - val_loss: 0.0266 - val_acc: 0.9927\n",
            "Epoch 10/20\n",
            "60000/60000 [==============================] - 21s 342us/step - loss: 0.0165 - acc: 0.9947 - val_loss: 0.0223 - val_acc: 0.9927\n",
            "Epoch 11/20\n",
            "60000/60000 [==============================] - 21s 342us/step - loss: 0.0163 - acc: 0.9946 - val_loss: 0.0204 - val_acc: 0.9936\n",
            "Epoch 12/20\n",
            "60000/60000 [==============================] - 22s 364us/step - loss: 0.0173 - acc: 0.9942 - val_loss: 0.0209 - val_acc: 0.9940\n",
            "Epoch 13/20\n",
            "60000/60000 [==============================] - 20s 341us/step - loss: 0.0160 - acc: 0.9946 - val_loss: 0.0203 - val_acc: 0.9933\n",
            "Epoch 14/20\n",
            "60000/60000 [==============================] - 20s 341us/step - loss: 0.0150 - acc: 0.9951 - val_loss: 0.0237 - val_acc: 0.9930\n",
            "Epoch 15/20\n",
            "60000/60000 [==============================] - 20s 341us/step - loss: 0.0158 - acc: 0.9947 - val_loss: 0.0195 - val_acc: 0.9942\n",
            "Epoch 16/20\n",
            "60000/60000 [==============================] - 22s 362us/step - loss: 0.0154 - acc: 0.9947 - val_loss: 0.0254 - val_acc: 0.9929\n",
            "Epoch 17/20\n",
            "60000/60000 [==============================] - 20s 341us/step - loss: 0.0151 - acc: 0.9947 - val_loss: 0.0226 - val_acc: 0.9931\n",
            "Epoch 18/20\n",
            "60000/60000 [==============================] - 20s 341us/step - loss: 0.0150 - acc: 0.9950 - val_loss: 0.0258 - val_acc: 0.9925\n",
            "Epoch 19/20\n",
            "60000/60000 [==============================] - 21s 353us/step - loss: 0.0146 - acc: 0.9950 - val_loss: 0.0202 - val_acc: 0.9937\n",
            "Epoch 20/20\n",
            "60000/60000 [==============================] - 23s 389us/step - loss: 0.0144 - acc: 0.9948 - val_loss: 0.0217 - val_acc: 0.9938\n"
          ],
          "name": "stdout"
        },
        {
          "output_type": "execute_result",
          "data": {
            "text/plain": [
              "<keras.callbacks.History at 0x7fa76f083320>"
            ]
          },
          "metadata": {
            "tags": []
          },
          "execution_count": 23
        }
      ]
    },
    {
      "cell_type": "code",
      "metadata": {
        "id": "jLY31UM1GvrG",
        "colab_type": "code",
        "colab": {
          "base_uri": "https://localhost:8080/",
          "height": 35
        },
        "outputId": "e817d513-7858-422b-ebfd-a45b57d8713f"
      },
      "source": [
        "score = model.evaluate(X_test, Y_test, verbose=0)\n",
        "print(score)"
      ],
      "execution_count": 26,
      "outputs": [
        {
          "output_type": "stream",
          "text": [
            "[0.021712733812696387, 0.9938]\n"
          ],
          "name": "stdout"
        }
      ]
    },
    {
      "cell_type": "markdown",
      "metadata": {
        "id": "SlJ1fyL6G3n9",
        "colab_type": "text"
      },
      "source": [
        "### The highest accuracy achieved is 99.4"
      ]
    },
    {
      "cell_type": "code",
      "metadata": {
        "id": "OCWoJkwE9suh",
        "colab_type": "code",
        "colab": {}
      },
      "source": [
        "y_pred = model.predict(X_test)"
      ],
      "execution_count": 0,
      "outputs": []
    },
    {
      "cell_type": "code",
      "metadata": {
        "id": "Ym7iCFBm9uBs",
        "colab_type": "code",
        "outputId": "195d76f5-8a90-41b3-d3c9-2a9060b02667",
        "colab": {
          "base_uri": "https://localhost:8080/",
          "height": 526
        }
      },
      "source": [
        "print(y_pred[:9])\n",
        "print(y_test[:9])"
      ],
      "execution_count": 25,
      "outputs": [
        {
          "output_type": "stream",
          "text": [
            "[[3.38841436e-14 9.65216882e-12 8.91998653e-09 9.71065148e-08\n",
            "  4.34960038e-13 1.71765445e-12 4.46948031e-15 9.99999762e-01\n",
            "  8.03541966e-13 1.60611137e-07]\n",
            " [3.78389373e-08 1.16221554e-06 9.99958634e-01 1.76450632e-09\n",
            "  1.99397499e-09 2.32824204e-13 4.02060250e-05 1.58971239e-11\n",
            "  4.51575943e-10 1.94869659e-11]\n",
            " [7.31671557e-10 9.99999046e-01 5.50213386e-08 1.05708644e-07\n",
            "  1.07452195e-07 1.29242153e-07 1.29013841e-07 4.01585197e-07\n",
            "  1.88162907e-08 8.15749246e-08]\n",
            " [9.99994636e-01 4.04445141e-13 2.16153531e-08 2.53451371e-09\n",
            "  4.32713310e-11 1.33561454e-10 3.16144951e-06 1.25331134e-10\n",
            "  9.32993682e-09 2.18745913e-06]\n",
            " [1.62184519e-11 5.77031738e-12 7.70575184e-12 2.32182936e-12\n",
            "  1.00000000e+00 4.63529327e-14 2.02925254e-09 2.65095476e-12\n",
            "  7.57608004e-11 2.62122022e-08]\n",
            " [7.17244111e-11 9.99994874e-01 9.27908133e-08 1.32634517e-08\n",
            "  5.19517698e-07 1.74534664e-09 2.43539837e-08 4.23478286e-06\n",
            "  4.76769424e-09 2.72872796e-07]\n",
            " [1.68778870e-14 1.75791577e-08 5.20469605e-11 3.09075492e-13\n",
            "  9.99931574e-01 5.97962346e-10 5.18360908e-13 5.00730746e-09\n",
            "  1.36417439e-05 5.47385534e-05]\n",
            " [3.63630515e-10 8.29882135e-11 3.16084867e-11 1.02079474e-08\n",
            "  1.74427200e-07 1.99736827e-09 6.37659752e-14 1.24562527e-09\n",
            "  1.63659280e-07 9.99999642e-01]\n",
            " [4.59375613e-08 1.67550208e-12 8.70229055e-10 4.97618515e-08\n",
            "  7.82838794e-11 9.35923755e-01 6.39530420e-02 4.13009427e-12\n",
            "  1.22934536e-04 1.78810595e-07]]\n",
            "[7 2 1 0 4 1 4 9 5]\n"
          ],
          "name": "stdout"
        }
      ]
    },
    {
      "cell_type": "code",
      "metadata": {
        "id": "CT--y98_dr2T",
        "colab_type": "code",
        "colab": {}
      },
      "source": [
        "layer_dict = dict([(layer.name, layer) for layer in model.layers])"
      ],
      "execution_count": 0,
      "outputs": []
    },
    {
      "cell_type": "code",
      "metadata": {
        "id": "2GY4Upv4dsUR",
        "colab_type": "code",
        "outputId": "cd019d93-5348-4ea1-d8ff-3f407842fc97",
        "colab": {
          "base_uri": "https://localhost:8080/",
          "height": 837
        }
      },
      "source": [
        "import numpy as np\n",
        "from matplotlib import pyplot as plt\n",
        "from keras import backend as K\n",
        "%matplotlib inline\n",
        "# util function to convert a tensor into a valid image\n",
        "def deprocess_image(x):\n",
        "    # normalize tensor: center on 0., ensure std is 0.1\n",
        "    x -= x.mean()\n",
        "    x /= (x.std() + 1e-5)\n",
        "    x *= 0.1\n",
        "\n",
        "    # clip to [0, 1]\n",
        "    x += 0.5\n",
        "    x = np.clip(x, 0, 1)\n",
        "\n",
        "    # convert to RGB array\n",
        "    x *= 255\n",
        "    #x = x.transpose((1, 2, 0))\n",
        "    x = np.clip(x, 0, 255).astype('uint8')\n",
        "    return x\n",
        "\n",
        "def vis_img_in_filter(img = np.array(X_train[2]).reshape((1, 28, 28, 1)).astype(np.float64), \n",
        "                      layer_name = 'conv2d_14'):\n",
        "    layer_output = layer_dict[layer_name].output\n",
        "    img_ascs = list()\n",
        "    for filter_index in range(layer_output.shape[3]):\n",
        "        # build a loss function that maximizes the activation\n",
        "        # of the nth filter of the layer considered\n",
        "        loss = K.mean(layer_output[:, :, :, filter_index])\n",
        "\n",
        "        # compute the gradient of the input picture wrt this loss\n",
        "        grads = K.gradients(loss, model.input)[0]\n",
        "\n",
        "        # normalization trick: we normalize the gradient\n",
        "        grads /= (K.sqrt(K.mean(K.square(grads))) + 1e-5)\n",
        "\n",
        "        # this function returns the loss and grads given the input picture\n",
        "        iterate = K.function([model.input], [loss, grads])\n",
        "\n",
        "        # step size for gradient ascent\n",
        "        step = 5.\n",
        "\n",
        "        img_asc = np.array(img)\n",
        "        # run gradient ascent for 20 steps\n",
        "        for i in range(20):\n",
        "            loss_value, grads_value = iterate([img_asc])\n",
        "            img_asc += grads_value * step\n",
        "\n",
        "        img_asc = img_asc[0]\n",
        "        img_ascs.append(deprocess_image(img_asc).reshape((28, 28)))\n",
        "        \n",
        "    if layer_output.shape[3] >= 35:\n",
        "        plot_x, plot_y = 6, 6\n",
        "    elif layer_output.shape[3] >= 23:\n",
        "        plot_x, plot_y = 4, 6\n",
        "    elif layer_output.shape[3] >= 11:\n",
        "        plot_x, plot_y = 2, 6\n",
        "    else:\n",
        "        plot_x, plot_y = 1, 2\n",
        "    fig, ax = plt.subplots(plot_x, plot_y, figsize = (12, 12))\n",
        "    ax[0, 0].imshow(img.reshape((28, 28)), cmap = 'gray')\n",
        "    ax[0, 0].set_title('Input image')\n",
        "    fig.suptitle('Input image and %s filters' % (layer_name,))\n",
        "    fig.tight_layout(pad = 0.3, rect = [0, 0, 0.9, 0.9])\n",
        "    for (x, y) in [(i, j) for i in range(plot_x) for j in range(plot_y)]:\n",
        "        if x == 0 and y == 0:\n",
        "            continue\n",
        "        ax[x, y].imshow(img_ascs[x * plot_y + y - 1], cmap = 'gray')\n",
        "        ax[x, y].set_title('filter %d' % (x * plot_y + y - 1))\n",
        "\n",
        "vis_img_in_filter()"
      ],
      "execution_count": 22,
      "outputs": [
        {
          "output_type": "display_data",
          "data": {
            "image/png": "[encoded data removed]",
            "text/plain": [
              "<Figure size 864x864 with 24 Axes>"
            ]
          },
          "metadata": {
            "tags": []
          }
        }
      ]
    },
    {
      "cell_type": "code",
      "metadata": {
        "id": "9tvptcn8dxvp",
        "colab_type": "code",
        "colab": {}
      },
      "source": [
        ""
      ],
      "execution_count": 0,
      "outputs": []
    }
  ]
}