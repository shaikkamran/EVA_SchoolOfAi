{
  "nbformat": 4,
  "nbformat_minor": 0,
  "metadata": {
    "colab": {
      "name": "EvaAssignemnt4_3.ipynb",
      "version": "0.3.2",
      "provenance": [],
      "collapsed_sections": []
    },
    "kernelspec": {
      "name": "python3",
      "display_name": "Python 3"
    },
    "accelerator": "GPU"
  },
  "cells": [
    {
      "cell_type": "markdown",
      "metadata": {
        "id": "aNyZv-Ec52ot",
        "colab_type": "text"
      },
      "source": [
        "# **Import Libraries and modules**"
      ]
    },
    {
      "cell_type": "code",
      "metadata": {
        "id": "Eso6UHE080D4",
        "colab_type": "code",
        "colab": {}
      },
      "source": [
        "import numpy as np\n",
        "\n",
        "from keras.models import Sequential\n",
        "from keras.layers import Dense, Dropout, Activation, Flatten, Add, BatchNormalization\n",
        "from keras.layers import Convolution2D, MaxPooling2D\n",
        "from keras.utils import np_utils\n",
        "from keras.datasets import mnist"
      ],
      "execution_count": 0,
      "outputs": []
    },
    {
      "cell_type": "markdown",
      "metadata": {
        "id": "zByEi95J86RD",
        "colab_type": "text"
      },
      "source": [
        "### Load pre-shuffled MNIST data into train and test sets"
      ]
    },
    {
      "cell_type": "code",
      "metadata": {
        "id": "7eRM0QWN83PV",
        "colab_type": "code",
        "colab": {}
      },
      "source": [
        "(X_train, y_train), (X_test, y_test) = mnist.load_data()"
      ],
      "execution_count": 0,
      "outputs": []
    },
    {
      "cell_type": "code",
      "metadata": {
        "id": "4a4Be72j8-ZC",
        "colab_type": "code",
        "outputId": "97edc34d-a3d3-41ef-f90c-b92f746c3052",
        "colab": {
          "base_uri": "https://localhost:8080/",
          "height": 305
        }
      },
      "source": [
        "print (X_train.shape)\n",
        "from matplotlib import pyplot as plt\n",
        "%matplotlib inline\n",
        "plt.imshow(X_train[0])"
      ],
      "execution_count": 8,
      "outputs": [
        {
          "output_type": "stream",
          "text": [
            "(60000, 28, 28)\n"
          ],
          "name": "stdout"
        },
        {
          "output_type": "execute_result",
          "data": {
            "text/plain": [
              "<matplotlib.image.AxesImage at 0x7f4d1ac895c0>"
            ]
          },
          "metadata": {
            "tags": []
          },
          "execution_count": 8
        },
        {
          "output_type": "display_data",
          "data": {
            "image/png": "[encoded data removed]",
            "text/plain": [
              "<Figure size 432x288 with 1 Axes>"
            ]
          },
          "metadata": {
            "tags": []
          }
        }
      ]
    },
    {
      "cell_type": "code",
      "metadata": {
        "id": "dkmprriw9AnZ",
        "colab_type": "code",
        "colab": {}
      },
      "source": [
        "X_train = X_train.reshape(X_train.shape[0], 28, 28,1)\n",
        "X_test = X_test.reshape(X_test.shape[0], 28, 28,1)"
      ],
      "execution_count": 0,
      "outputs": []
    },
    {
      "cell_type": "code",
      "metadata": {
        "id": "X2m4YS4E9CRh",
        "colab_type": "code",
        "colab": {}
      },
      "source": [
        "X_train = X_train.astype('float32')\n",
        "X_test = X_test.astype('float32')\n",
        "X_train /= 255\n",
        "X_test /= 255"
      ],
      "execution_count": 0,
      "outputs": []
    },
    {
      "cell_type": "code",
      "metadata": {
        "id": "0Mn0vAYD9DvB",
        "colab_type": "code",
        "outputId": "a366a847-ec77-4824-ee5d-c2a2922bffdb",
        "colab": {
          "base_uri": "https://localhost:8080/",
          "height": 35
        }
      },
      "source": [
        "y_train[:10]"
      ],
      "execution_count": 11,
      "outputs": [
        {
          "output_type": "execute_result",
          "data": {
            "text/plain": [
              "array([5, 0, 4, 1, 9, 2, 1, 3, 1, 4], dtype=uint8)"
            ]
          },
          "metadata": {
            "tags": []
          },
          "execution_count": 11
        }
      ]
    },
    {
      "cell_type": "code",
      "metadata": {
        "id": "ZG8JiXR39FHC",
        "colab_type": "code",
        "colab": {}
      },
      "source": [
        "# Convert 1-dimensional class arrays to 10-dimensional class matrices\n",
        "Y_train = np_utils.to_categorical(y_train, 10)\n",
        "Y_test = np_utils.to_categorical(y_test, 10)"
      ],
      "execution_count": 0,
      "outputs": []
    },
    {
      "cell_type": "code",
      "metadata": {
        "id": "fYlFRvKS9HMB",
        "colab_type": "code",
        "outputId": "ff1c7981-0bc3-42d7-e284-dc5ec9695cc3",
        "colab": {
          "base_uri": "https://localhost:8080/",
          "height": 199
        }
      },
      "source": [
        "Y_train[:10]\n"
      ],
      "execution_count": 13,
      "outputs": [
        {
          "output_type": "execute_result",
          "data": {
            "text/plain": [
              "array([[0., 0., 0., 0., 0., 1., 0., 0., 0., 0.],\n",
              "       [1., 0., 0., 0., 0., 0., 0., 0., 0., 0.],\n",
              "       [0., 0., 0., 0., 1., 0., 0., 0., 0., 0.],\n",
              "       [0., 1., 0., 0., 0., 0., 0., 0., 0., 0.],\n",
              "       [0., 0., 0., 0., 0., 0., 0., 0., 0., 1.],\n",
              "       [0., 0., 1., 0., 0., 0., 0., 0., 0., 0.],\n",
              "       [0., 1., 0., 0., 0., 0., 0., 0., 0., 0.],\n",
              "       [0., 0., 0., 1., 0., 0., 0., 0., 0., 0.],\n",
              "       [0., 1., 0., 0., 0., 0., 0., 0., 0., 0.],\n",
              "       [0., 0., 0., 0., 1., 0., 0., 0., 0., 0.]], dtype=float32)"
            ]
          },
          "metadata": {
            "tags": []
          },
          "execution_count": 13
        }
      ]
    },
    {
      "cell_type": "markdown",
      "metadata": {
        "id": "P1yksF9SFh31",
        "colab_type": "text"
      },
      "source": [
        "### Now that we know that from our observations from the last notebook ,it gave me the val Accuracy of 99.4 while training with the same batch size , \n",
        "###Increments \n",
        "\n",
        "            1)Trying to train on a larger batch size(experiment with batch size)\n",
        "            2) Trying to reduce the parameters in order to fit into the required constraint of < 15K  ,\n",
        "            3) We can observe that in previous network for the last convolution before flatten we were creating way too many parameters for the network ,and here there is scope of reducing parameters by adding one more conv and then keeping everything same,i.e,\n",
        "            also from the previous notebook's observations we get to know that the dropouts are very well suiting the network bcause the gap between training and vall accuracy is not getting bigger ,same with the loss ,they are very much nearby,\n",
        "            Hence we need not worry about dropout values now"
      ]
    },
    {
      "cell_type": "code",
      "metadata": {
        "id": "zoT9jI-69Oeq",
        "colab_type": "code",
        "colab": {}
      },
      "source": [
        ""
      ],
      "execution_count": 0,
      "outputs": []
    },
    {
      "cell_type": "code",
      "metadata": {
        "id": "Uz46b7lLzWuy",
        "colab_type": "code",
        "colab": {}
      },
      "source": [
        "def ConvBnDropout(model,size,dout=0.2,K=(3,3)):\n",
        "  \n",
        "  model.add(Convolution2D(size, kernel_size=K, activation='relu'))\n",
        "  model.add(BatchNormalization())\n",
        "  model.add(Dropout(dout))\n",
        "  return model  \n",
        "  \n",
        "  \n",
        "  "
      ],
      "execution_count": 0,
      "outputs": []
    },
    {
      "cell_type": "code",
      "metadata": {
        "id": "osKqT73Q9JJB",
        "colab_type": "code",
        "colab": {}
      },
      "source": [
        "from keras.layers import *"
      ],
      "execution_count": 0,
      "outputs": []
    },
    {
      "cell_type": "code",
      "metadata": {
        "id": "HeGqhm2y21Qx",
        "colab_type": "code",
        "outputId": "366d0fe7-3fea-4951-bef6-fd2ff1157aad",
        "colab": {
          "base_uri": "https://localhost:8080/",
          "height": 74
        }
      },
      "source": [
        "\n",
        "model = Sequential()\n",
        "\n",
        " \n",
        "model.add(Convolution2D(10, 3, 3, activation='relu', input_shape=(28,28,1))) # 26\n",
        "model.add(BatchNormalization())\n",
        "\n",
        "model=ConvBnDropout(model,16)\n",
        "model=ConvBnDropout(model,24)\n",
        "\n",
        "model.add(MaxPooling2D(pool_size=(2, 2))) # 11\n",
        "model=ConvBnDropout(model,10,0,K=(1,1))\n",
        "\n",
        "model=ConvBnDropout(model,16)\n",
        "model=ConvBnDropout(model,16)\n",
        "model=ConvBnDropout(model,10)\n",
        "# model=ConvBnDropout(model,16)\n",
        "\n",
        "\n",
        "# model=ConvBnDropout(model,10,0,K=(1,1))\n",
        "\n",
        "model.add(Convolution2D(10, 5))\n",
        "model.add(Flatten())\n",
        "model.add(Activation('softmax'))"
      ],
      "execution_count": 20,
      "outputs": [
        {
          "output_type": "stream",
          "text": [
            "/usr/local/lib/python3.6/dist-packages/ipykernel_launcher.py:5: UserWarning: Update your `Conv2D` call to the Keras 2 API: `Conv2D(10, (3, 3), activation=\"relu\", input_shape=(28, 28, 1...)`\n",
            "  \"\"\"\n"
          ],
          "name": "stderr"
        }
      ]
    },
    {
      "cell_type": "code",
      "metadata": {
        "id": "TzdAYg1k9K7Z",
        "colab_type": "code",
        "outputId": "68286e6f-4108-4b59-e8c3-a277a7adec9e",
        "colab": {
          "base_uri": "https://localhost:8080/",
          "height": 1017
        }
      },
      "source": [
        "model.summary()"
      ],
      "execution_count": 21,
      "outputs": [
        {
          "output_type": "stream",
          "text": [
            "_________________________________________________________________\n",
            "Layer (type)                 Output Shape              Param #   \n",
            "=================================================================\n",
            "conv2d_17 (Conv2D)           (None, 26, 26, 10)        100       \n",
            "_________________________________________________________________\n",
            "batch_normalization_16 (Batc (None, 26, 26, 10)        40        \n",
            "_________________________________________________________________\n",
            "conv2d_18 (Conv2D)           (None, 24, 24, 16)        1456      \n",
            "_________________________________________________________________\n",
            "batch_normalization_17 (Batc (None, 24, 24, 16)        64        \n",
            "_________________________________________________________________\n",
            "dropout_14 (Dropout)         (None, 24, 24, 16)        0         \n",
            "_________________________________________________________________\n",
            "conv2d_19 (Conv2D)           (None, 22, 22, 24)        3480      \n",
            "_________________________________________________________________\n",
            "batch_normalization_18 (Batc (None, 22, 22, 24)        96        \n",
            "_________________________________________________________________\n",
            "dropout_15 (Dropout)         (None, 22, 22, 24)        0         \n",
            "_________________________________________________________________\n",
            "max_pooling2d_3 (MaxPooling2 (None, 11, 11, 24)        0         \n",
            "_________________________________________________________________\n",
            "conv2d_20 (Conv2D)           (None, 11, 11, 10)        250       \n",
            "_________________________________________________________________\n",
            "batch_normalization_19 (Batc (None, 11, 11, 10)        40        \n",
            "_________________________________________________________________\n",
            "dropout_16 (Dropout)         (None, 11, 11, 10)        0         \n",
            "_________________________________________________________________\n",
            "conv2d_21 (Conv2D)           (None, 9, 9, 16)          1456      \n",
            "_________________________________________________________________\n",
            "batch_normalization_20 (Batc (None, 9, 9, 16)          64        \n",
            "_________________________________________________________________\n",
            "dropout_17 (Dropout)         (None, 9, 9, 16)          0         \n",
            "_________________________________________________________________\n",
            "conv2d_22 (Conv2D)           (None, 7, 7, 16)          2320      \n",
            "_________________________________________________________________\n",
            "batch_normalization_21 (Batc (None, 7, 7, 16)          64        \n",
            "_________________________________________________________________\n",
            "dropout_18 (Dropout)         (None, 7, 7, 16)          0         \n",
            "_________________________________________________________________\n",
            "conv2d_23 (Conv2D)           (None, 5, 5, 10)          1450      \n",
            "_________________________________________________________________\n",
            "batch_normalization_22 (Batc (None, 5, 5, 10)          40        \n",
            "_________________________________________________________________\n",
            "dropout_19 (Dropout)         (None, 5, 5, 10)          0         \n",
            "_________________________________________________________________\n",
            "conv2d_24 (Conv2D)           (None, 1, 1, 10)          2510      \n",
            "_________________________________________________________________\n",
            "flatten_2 (Flatten)          (None, 10)                0         \n",
            "_________________________________________________________________\n",
            "activation_2 (Activation)    (None, 10)                0         \n",
            "=================================================================\n",
            "Total params: 13,430\n",
            "Trainable params: 13,226\n",
            "Non-trainable params: 204\n",
            "_________________________________________________________________\n"
          ],
          "name": "stdout"
        }
      ]
    },
    {
      "cell_type": "markdown",
      "metadata": {
        "id": "U_K3Qq8ML1IO",
        "colab_type": "text"
      },
      "source": [
        "Adding checkpoints "
      ]
    },
    {
      "cell_type": "code",
      "metadata": {
        "id": "U6BMWovKhJEW",
        "colab_type": "code",
        "colab": {}
      },
      "source": [
        "from keras.callbacks import ModelCheckpoint\n",
        "model.compile(loss='categorical_crossentropy',\n",
        "             optimizer='adam',\n",
        "             metrics=['accuracy'])\n",
        "filepath=\"Best_weights.hdf5\"\n",
        "checkpoint = ModelCheckpoint(filepath, monitor='val_acc', verbose=1, save_best_only=True, mode='max')\n",
        "callbacks_list = [checkpoint]"
      ],
      "execution_count": 0,
      "outputs": []
    },
    {
      "cell_type": "code",
      "metadata": {
        "id": "Zp6SuGrL9M3h",
        "colab_type": "code",
        "outputId": "c039edde-efcf-4d32-d7f0-67616b85888b",
        "colab": {
          "base_uri": "https://localhost:8080/",
          "height": 1583
        }
      },
      "source": [
        "model.fit(X_train, Y_train, batch_size=32, \n",
        "          epochs=20, verbose=1, \n",
        "          validation_data=(X_test, Y_test),callbacks=callbacks_list)"
      ],
      "execution_count": 26,
      "outputs": [
        {
          "output_type": "stream",
          "text": [
            "WARNING:tensorflow:From /usr/local/lib/python3.6/dist-packages/tensorflow/python/ops/math_ops.py:3066: to_int32 (from tensorflow.python.ops.math_ops) is deprecated and will be removed in a future version.\n",
            "Instructions for updating:\n",
            "Use tf.cast instead.\n",
            "Train on 60000 samples, validate on 10000 samples\n",
            "Epoch 1/20\n",
            "60000/60000 [==============================] - 25s 422us/step - loss: 0.2642 - acc: 0.9164 - val_loss: 0.0848 - val_acc: 0.9745\n",
            "\n",
            "Epoch 00001: val_acc improved from -inf to 0.97450, saving model to Best_weights.hdf5\n",
            "Epoch 2/20\n",
            "60000/60000 [==============================] - 21s 356us/step - loss: 0.0973 - acc: 0.9703 - val_loss: 0.0662 - val_acc: 0.9799\n",
            "\n",
            "Epoch 00002: val_acc improved from 0.97450 to 0.97990, saving model to Best_weights.hdf5\n",
            "Epoch 3/20\n",
            "60000/60000 [==============================] - 21s 355us/step - loss: 0.0736 - acc: 0.9768 - val_loss: 0.0491 - val_acc: 0.9853\n",
            "\n",
            "Epoch 00003: val_acc improved from 0.97990 to 0.98530, saving model to Best_weights.hdf5\n",
            "Epoch 4/20\n",
            "60000/60000 [==============================] - 21s 355us/step - loss: 0.0642 - acc: 0.9797 - val_loss: 0.0398 - val_acc: 0.9871\n",
            "\n",
            "Epoch 00004: val_acc improved from 0.98530 to 0.98710, saving model to Best_weights.hdf5\n",
            "Epoch 5/20\n",
            "60000/60000 [==============================] - 22s 372us/step - loss: 0.0612 - acc: 0.9809 - val_loss: 0.0327 - val_acc: 0.9899\n",
            "\n",
            "Epoch 00005: val_acc improved from 0.98710 to 0.98990, saving model to Best_weights.hdf5\n",
            "Epoch 6/20\n",
            "60000/60000 [==============================] - 22s 367us/step - loss: 0.0513 - acc: 0.9839 - val_loss: 0.0295 - val_acc: 0.9916\n",
            "\n",
            "Epoch 00006: val_acc improved from 0.98990 to 0.99160, saving model to Best_weights.hdf5\n",
            "Epoch 7/20\n",
            "60000/60000 [==============================] - 21s 353us/step - loss: 0.0497 - acc: 0.9846 - val_loss: 0.0299 - val_acc: 0.9903\n",
            "\n",
            "Epoch 00007: val_acc did not improve from 0.99160\n",
            "Epoch 8/20\n",
            "60000/60000 [==============================] - 23s 382us/step - loss: 0.0471 - acc: 0.9851 - val_loss: 0.0308 - val_acc: 0.9896\n",
            "\n",
            "Epoch 00008: val_acc did not improve from 0.99160\n",
            "Epoch 9/20\n",
            "60000/60000 [==============================] - 22s 367us/step - loss: 0.0449 - acc: 0.9860 - val_loss: 0.0263 - val_acc: 0.9911\n",
            "\n",
            "Epoch 00009: val_acc did not improve from 0.99160\n",
            "Epoch 10/20\n",
            "60000/60000 [==============================] - 21s 350us/step - loss: 0.0424 - acc: 0.9867 - val_loss: 0.0239 - val_acc: 0.9918\n",
            "\n",
            "Epoch 00010: val_acc improved from 0.99160 to 0.99180, saving model to Best_weights.hdf5\n",
            "Epoch 11/20\n",
            "60000/60000 [==============================] - 21s 350us/step - loss: 0.0393 - acc: 0.9875 - val_loss: 0.0248 - val_acc: 0.9913\n",
            "\n",
            "Epoch 00011: val_acc did not improve from 0.99180\n",
            "Epoch 12/20\n",
            "60000/60000 [==============================] - 22s 363us/step - loss: 0.0396 - acc: 0.9874 - val_loss: 0.0232 - val_acc: 0.9930\n",
            "\n",
            "Epoch 00012: val_acc improved from 0.99180 to 0.99300, saving model to Best_weights.hdf5\n",
            "Epoch 13/20\n",
            "60000/60000 [==============================] - 21s 358us/step - loss: 0.0387 - acc: 0.9882 - val_loss: 0.0254 - val_acc: 0.9920\n",
            "\n",
            "Epoch 00013: val_acc did not improve from 0.99300\n",
            "Epoch 14/20\n",
            "60000/60000 [==============================] - 21s 350us/step - loss: 0.0375 - acc: 0.9886 - val_loss: 0.0205 - val_acc: 0.9937\n",
            "\n",
            "Epoch 00014: val_acc improved from 0.99300 to 0.99370, saving model to Best_weights.hdf5\n",
            "Epoch 15/20\n",
            "60000/60000 [==============================] - 21s 349us/step - loss: 0.0356 - acc: 0.9885 - val_loss: 0.0209 - val_acc: 0.9934\n",
            "\n",
            "Epoch 00015: val_acc did not improve from 0.99370\n",
            "Epoch 16/20\n",
            "60000/60000 [==============================] - 22s 369us/step - loss: 0.0348 - acc: 0.9889 - val_loss: 0.0219 - val_acc: 0.9933\n",
            "\n",
            "Epoch 00016: val_acc did not improve from 0.99370\n",
            "Epoch 17/20\n",
            "60000/60000 [==============================] - 21s 348us/step - loss: 0.0337 - acc: 0.9892 - val_loss: 0.0203 - val_acc: 0.9935\n",
            "\n",
            "Epoch 00017: val_acc did not improve from 0.99370\n",
            "Epoch 18/20\n",
            "60000/60000 [==============================] - 21s 349us/step - loss: 0.0340 - acc: 0.9897 - val_loss: 0.0207 - val_acc: 0.9935\n",
            "\n",
            "Epoch 00018: val_acc did not improve from 0.99370\n",
            "Epoch 19/20\n",
            "60000/60000 [==============================] - 21s 349us/step - loss: 0.0334 - acc: 0.9896 - val_loss: 0.0229 - val_acc: 0.9927\n",
            "\n",
            "Epoch 00019: val_acc did not improve from 0.99370\n",
            "Epoch 20/20\n",
            "60000/60000 [==============================] - 23s 379us/step - loss: 0.0314 - acc: 0.9902 - val_loss: 0.0219 - val_acc: 0.9923\n",
            "\n",
            "Epoch 00020: val_acc did not improve from 0.99370\n"
          ],
          "name": "stdout"
        },
        {
          "output_type": "execute_result",
          "data": {
            "text/plain": [
              "<keras.callbacks.History at 0x7f4d00152748>"
            ]
          },
          "metadata": {
            "tags": []
          },
          "execution_count": 26
        }
      ]
    },
    {
      "cell_type": "markdown",
      "metadata": {
        "id": "AB41gA_yJAHv",
        "colab_type": "text"
      },
      "source": [
        "## Changing the batch size to 128 and checking the difference"
      ]
    },
    {
      "cell_type": "code",
      "metadata": {
        "id": "C-eX_6TwI76z",
        "colab_type": "code",
        "colab": {
          "base_uri": "https://localhost:8080/",
          "height": 1508
        },
        "outputId": "a805ca74-dabb-4787-ee05-d042e95282bc"
      },
      "source": [
        "model.fit(X_train, Y_train, batch_size=128, \n",
        "          epochs=20, verbose=1, \n",
        "          validation_data=(X_test, Y_test),callbacks=callbacks_list)"
      ],
      "execution_count": 27,
      "outputs": [
        {
          "output_type": "stream",
          "text": [
            "Train on 60000 samples, validate on 10000 samples\n",
            "Epoch 1/20\n",
            "60000/60000 [==============================] - 7s 112us/step - loss: 0.0234 - acc: 0.9927 - val_loss: 0.0177 - val_acc: 0.9942\n",
            "\n",
            "Epoch 00001: val_acc improved from 0.99370 to 0.99420, saving model to Best_weights.hdf5\n",
            "Epoch 2/20\n",
            "60000/60000 [==============================] - 6s 107us/step - loss: 0.0229 - acc: 0.9931 - val_loss: 0.0171 - val_acc: 0.9942\n",
            "\n",
            "Epoch 00002: val_acc did not improve from 0.99420\n",
            "Epoch 3/20\n",
            "60000/60000 [==============================] - 6s 107us/step - loss: 0.0206 - acc: 0.9935 - val_loss: 0.0175 - val_acc: 0.9946\n",
            "\n",
            "Epoch 00003: val_acc improved from 0.99420 to 0.99460, saving model to Best_weights.hdf5\n",
            "Epoch 4/20\n",
            "60000/60000 [==============================] - 7s 109us/step - loss: 0.0219 - acc: 0.9927 - val_loss: 0.0160 - val_acc: 0.9949\n",
            "\n",
            "Epoch 00004: val_acc improved from 0.99460 to 0.99490, saving model to Best_weights.hdf5\n",
            "Epoch 5/20\n",
            "60000/60000 [==============================] - 7s 121us/step - loss: 0.0219 - acc: 0.9926 - val_loss: 0.0185 - val_acc: 0.9934\n",
            "\n",
            "Epoch 00005: val_acc did not improve from 0.99490\n",
            "Epoch 6/20\n",
            "60000/60000 [==============================] - 7s 110us/step - loss: 0.0217 - acc: 0.9929 - val_loss: 0.0180 - val_acc: 0.9939\n",
            "\n",
            "Epoch 00006: val_acc did not improve from 0.99490\n",
            "Epoch 7/20\n",
            "60000/60000 [==============================] - 6s 107us/step - loss: 0.0215 - acc: 0.9935 - val_loss: 0.0168 - val_acc: 0.9939\n",
            "\n",
            "Epoch 00007: val_acc did not improve from 0.99490\n",
            "Epoch 8/20\n",
            "60000/60000 [==============================] - 7s 113us/step - loss: 0.0220 - acc: 0.9927 - val_loss: 0.0165 - val_acc: 0.9944\n",
            "\n",
            "Epoch 00008: val_acc did not improve from 0.99490\n",
            "Epoch 9/20\n",
            "60000/60000 [==============================] - 7s 115us/step - loss: 0.0227 - acc: 0.9928 - val_loss: 0.0162 - val_acc: 0.9942\n",
            "\n",
            "Epoch 00009: val_acc did not improve from 0.99490\n",
            "Epoch 10/20\n",
            "60000/60000 [==============================] - 6s 106us/step - loss: 0.0217 - acc: 0.9925 - val_loss: 0.0202 - val_acc: 0.9934\n",
            "\n",
            "Epoch 00010: val_acc did not improve from 0.99490\n",
            "Epoch 11/20\n",
            "60000/60000 [==============================] - 6s 106us/step - loss: 0.0225 - acc: 0.9926 - val_loss: 0.0181 - val_acc: 0.9937\n",
            "\n",
            "Epoch 00011: val_acc did not improve from 0.99490\n",
            "Epoch 12/20\n",
            "60000/60000 [==============================] - 6s 106us/step - loss: 0.0209 - acc: 0.9931 - val_loss: 0.0172 - val_acc: 0.9947\n",
            "\n",
            "Epoch 00012: val_acc did not improve from 0.99490\n",
            "Epoch 13/20\n",
            "60000/60000 [==============================] - 6s 106us/step - loss: 0.0202 - acc: 0.9937 - val_loss: 0.0167 - val_acc: 0.9942\n",
            "\n",
            "Epoch 00013: val_acc did not improve from 0.99490\n",
            "Epoch 14/20\n",
            "60000/60000 [==============================] - 6s 106us/step - loss: 0.0210 - acc: 0.9934 - val_loss: 0.0166 - val_acc: 0.9947\n",
            "\n",
            "Epoch 00014: val_acc did not improve from 0.99490\n",
            "Epoch 15/20\n",
            "60000/60000 [==============================] - 6s 106us/step - loss: 0.0206 - acc: 0.9931 - val_loss: 0.0182 - val_acc: 0.9943\n",
            "\n",
            "Epoch 00015: val_acc did not improve from 0.99490\n",
            "Epoch 16/20\n",
            "60000/60000 [==============================] - 6s 106us/step - loss: 0.0199 - acc: 0.9935 - val_loss: 0.0173 - val_acc: 0.9946\n",
            "\n",
            "Epoch 00016: val_acc did not improve from 0.99490\n",
            "Epoch 17/20\n",
            "60000/60000 [==============================] - 6s 106us/step - loss: 0.0202 - acc: 0.9935 - val_loss: 0.0182 - val_acc: 0.9943\n",
            "\n",
            "Epoch 00017: val_acc did not improve from 0.99490\n",
            "Epoch 18/20\n",
            "60000/60000 [==============================] - 6s 106us/step - loss: 0.0210 - acc: 0.9935 - val_loss: 0.0170 - val_acc: 0.9941\n",
            "\n",
            "Epoch 00018: val_acc did not improve from 0.99490\n",
            "Epoch 19/20\n",
            "60000/60000 [==============================] - 6s 106us/step - loss: 0.0198 - acc: 0.9939 - val_loss: 0.0171 - val_acc: 0.9941\n",
            "\n",
            "Epoch 00019: val_acc did not improve from 0.99490\n",
            "Epoch 20/20\n",
            "60000/60000 [==============================] - 6s 107us/step - loss: 0.0188 - acc: 0.9939 - val_loss: 0.0179 - val_acc: 0.9941\n",
            "\n",
            "Epoch 00020: val_acc did not improve from 0.99490\n"
          ],
          "name": "stdout"
        },
        {
          "output_type": "execute_result",
          "data": {
            "text/plain": [
              "<keras.callbacks.History at 0x7f4d00152a90>"
            ]
          },
          "metadata": {
            "tags": []
          },
          "execution_count": 27
        }
      ]
    },
    {
      "cell_type": "code",
      "metadata": {
        "id": "AtsH-lLk-eLb",
        "colab_type": "code",
        "colab": {}
      },
      "source": [
        "score = model.evaluate(X_test, Y_test, verbose=0)"
      ],
      "execution_count": 0,
      "outputs": []
    },
    {
      "cell_type": "code",
      "metadata": {
        "id": "mkX8JMv79q9r",
        "colab_type": "code",
        "outputId": "aca1a4b8-5ad7-493a-f0c5-5b5519441ee7",
        "colab": {
          "base_uri": "https://localhost:8080/",
          "height": 35
        }
      },
      "source": [
        "print(score)\n"
      ],
      "execution_count": 29,
      "outputs": [
        {
          "output_type": "stream",
          "text": [
            "[0.01787526904119295, 0.9941]\n"
          ],
          "name": "stdout"
        }
      ]
    },
    {
      "cell_type": "code",
      "metadata": {
        "id": "rpOtmVmwL9c9",
        "colab_type": "code",
        "colab": {
          "base_uri": "https://localhost:8080/",
          "height": 35
        },
        "outputId": "e0cce65c-8bf1-4d91-b4af-6247bd27dbcf"
      },
      "source": [
        "import keras\n",
        "model1=keras.models.load_model('Best_weights.hdf5')\n",
        "print(model1.evaluate(X_test, Y_test, verbose=0))"
      ],
      "execution_count": 33,
      "outputs": [
        {
          "output_type": "stream",
          "text": [
            "[0.015969968815942412, 0.9949]\n"
          ],
          "name": "stdout"
        }
      ]
    },
    {
      "cell_type": "code",
      "metadata": {
        "id": "OCWoJkwE9suh",
        "colab_type": "code",
        "colab": {}
      },
      "source": [
        "y_pred = model.predict(X_test)"
      ],
      "execution_count": 0,
      "outputs": []
    },
    {
      "cell_type": "code",
      "metadata": {
        "id": "Ym7iCFBm9uBs",
        "colab_type": "code",
        "outputId": "2d9ed74a-3e00-43c7-d18f-c8eed7d54da1",
        "colab": {
          "base_uri": "https://localhost:8080/",
          "height": 363
        }
      },
      "source": [
        "print(y_pred[:9])\n",
        "print(y_test[:9])"
      ],
      "execution_count": 35,
      "outputs": [
        {
          "output_type": "stream",
          "text": [
            "[[4.3011519e-12 2.0400837e-09 9.4525232e-09 2.0214528e-09 1.4130243e-10\n",
            "  5.2715905e-12 1.5116304e-15 9.9999988e-01 2.2539430e-11 6.4747496e-08]\n",
            " [3.4494468e-07 2.4400260e-06 9.9999630e-01 6.3118866e-10 1.1849448e-09\n",
            "  1.3814011e-13 9.5963651e-07 1.6017560e-10 3.9350905e-08 3.2446202e-11]\n",
            " [6.5965677e-09 9.9997270e-01 1.9383947e-07 9.2965102e-10 1.2270190e-05\n",
            "  6.4869687e-07 1.1034879e-07 1.3420979e-05 3.4714961e-07 2.9357363e-07]\n",
            " [9.9990356e-01 4.0281979e-11 1.3302603e-07 6.3067436e-09 2.1140515e-08\n",
            "  1.6101135e-06 9.3284398e-05 6.3686201e-10 4.6985582e-07 9.4446119e-07]\n",
            " [3.2238236e-11 9.7843317e-11 1.7377487e-12 2.2957981e-12 9.9999952e-01\n",
            "  5.0618707e-11 7.9119289e-09 4.4609488e-10 7.9032664e-10 4.5653593e-07]\n",
            " [4.3308619e-09 9.9993753e-01 2.0324871e-06 1.1788923e-09 1.3742736e-05\n",
            "  4.5463228e-08 1.5545895e-07 4.4672484e-05 1.3489064e-07 1.6673930e-06]\n",
            " [5.6242226e-11 2.0610573e-06 2.3512188e-08 5.8426361e-11 9.9997270e-01\n",
            "  2.8876830e-08 3.5859993e-09 5.6422446e-06 1.0756666e-05 8.8658790e-06]\n",
            " [2.4594851e-09 1.1353281e-07 4.9141455e-08 3.5361587e-08 4.5204340e-04\n",
            "  9.6113041e-08 1.0411889e-09 1.4858253e-07 6.3705426e-07 9.9954695e-01]\n",
            " [8.1466361e-08 3.9142504e-13 1.6715168e-08 1.5845206e-08 2.0909696e-11\n",
            "  9.9735487e-01 2.6439470e-03 4.0792737e-11 1.0950705e-06 1.8680471e-08]]\n",
            "[7 2 1 0 4 1 4 9 5]\n"
          ],
          "name": "stdout"
        }
      ]
    },
    {
      "cell_type": "code",
      "metadata": {
        "id": "CT--y98_dr2T",
        "colab_type": "code",
        "colab": {}
      },
      "source": [
        "layer_dict = dict([(layer.name, layer) for layer in model.layers])"
      ],
      "execution_count": 0,
      "outputs": []
    },
    {
      "cell_type": "code",
      "metadata": {
        "id": "2GY4Upv4dsUR",
        "colab_type": "code",
        "outputId": "0c7d46a8-cb66-4e48-d973-047880be3f4c",
        "colab": {
          "base_uri": "https://localhost:8080/",
          "height": 1022
        }
      },
      "source": [
        "import numpy as np\n",
        "from matplotlib import pyplot as plt\n",
        "from keras import backend as K\n",
        "%matplotlib inline\n",
        "# util function to convert a tensor into a valid image\n",
        "def deprocess_image(x):\n",
        "    # normalize tensor: center on 0., ensure std is 0.1\n",
        "    x -= x.mean()\n",
        "    x /= (x.std() + 1e-5)\n",
        "    x *= 0.1\n",
        "\n",
        "    # clip to [0, 1]\n",
        "    x += 0.5\n",
        "    x = np.clip(x, 0, 1)\n",
        "\n",
        "    # convert to RGB array\n",
        "    x *= 255\n",
        "    #x = x.transpose((1, 2, 0))\n",
        "    x = np.clip(x, 0, 255).astype('uint8')\n",
        "    return x\n",
        "\n",
        "def vis_img_in_filter(img = np.array(X_train[2]).reshape((1, 28, 28, 1)).astype(np.float64), \n",
        "                      layer_name = 'conv2d_24'):\n",
        "    layer_output = layer_dict[layer_name].output\n",
        "    img_ascs = list()\n",
        "    for filter_index in range(layer_output.shape[3]):\n",
        "        # build a loss function that maximizes the activation\n",
        "        # of the nth filter of the layer considered\n",
        "        loss = K.mean(layer_output[:, :, :, filter_index])\n",
        "\n",
        "        # compute the gradient of the input picture wrt this loss\n",
        "        grads = K.gradients(loss, model.input)[0]\n",
        "\n",
        "        # normalization trick: we normalize the gradient\n",
        "        grads /= (K.sqrt(K.mean(K.square(grads))) + 1e-5)\n",
        "\n",
        "        # this function returns the loss and grads given the input picture\n",
        "        iterate = K.function([model.input], [loss, grads])\n",
        "\n",
        "        # step size for gradient ascent\n",
        "        step = 5.\n",
        "\n",
        "        img_asc = np.array(img)\n",
        "        # run gradient ascent for 20 steps\n",
        "        for i in range(20):\n",
        "            loss_value, grads_value = iterate([img_asc])\n",
        "            img_asc += grads_value * step\n",
        "\n",
        "        img_asc = img_asc[0]\n",
        "        img_ascs.append(deprocess_image(img_asc).reshape((28, 28)))\n",
        "        \n",
        "    if layer_output.shape[3] >= 35:\n",
        "        plot_x, plot_y = 6, 6\n",
        "    elif layer_output.shape[3] >= 23:\n",
        "        plot_x, plot_y = 4, 6\n",
        "    elif layer_output.shape[3] >= 11:\n",
        "        plot_x, plot_y = 2, 6\n",
        "    else:\n",
        "        plot_x, plot_y = 1, 2\n",
        "    fig, ax = plt.subplots(plot_x, plot_y, figsize = (12, 12))\n",
        "    ax[0, 0].imshow(img.reshape((28, 28)), cmap = 'gray')\n",
        "    ax[0, 0].set_title('Input image')\n",
        "    fig.suptitle('Input image and %s filters' % (layer_name,))\n",
        "    fig.tight_layout(pad = 0.3, rect = [0, 0, 0.9, 0.9])\n",
        "    for (x, y) in [(i, j) for i in range(plot_x) for j in range(plot_y)]:\n",
        "        if x == 0 and y == 0:\n",
        "            continue\n",
        "        ax[x, y].imshow(img_ascs[x * plot_y + y - 1], cmap = 'gray')\n",
        "        ax[x, y].set_title('filter %d' % (x * plot_y + y - 1))\n",
        "\n",
        "vis_img_in_filter()"
      ],
      "execution_count": 38,
      "outputs": [
        {
          "output_type": "error",
          "ename": "IndexError",
          "evalue": "ignored",
          "traceback": [
            "\u001b[0;31m---------------------------------------------------------------------------\u001b[0m",
            "\u001b[0;31mIndexError\u001b[0m                                Traceback (most recent call last)",
            "\u001b[0;32m<ipython-input-38-ffd1c4aa1fee>\u001b[0m in \u001b[0;36m<module>\u001b[0;34m()\u001b[0m\n\u001b[1;32m     69\u001b[0m         \u001b[0max\u001b[0m\u001b[0;34m[\u001b[0m\u001b[0mx\u001b[0m\u001b[0;34m,\u001b[0m \u001b[0my\u001b[0m\u001b[0;34m]\u001b[0m\u001b[0;34m.\u001b[0m\u001b[0mset_title\u001b[0m\u001b[0;34m(\u001b[0m\u001b[0;34m'filter %d'\u001b[0m \u001b[0;34m%\u001b[0m \u001b[0;34m(\u001b[0m\u001b[0mx\u001b[0m \u001b[0;34m*\u001b[0m \u001b[0mplot_y\u001b[0m \u001b[0;34m+\u001b[0m \u001b[0my\u001b[0m \u001b[0;34m-\u001b[0m \u001b[0;36m1\u001b[0m\u001b[0;34m)\u001b[0m\u001b[0;34m)\u001b[0m\u001b[0;34m\u001b[0m\u001b[0;34m\u001b[0m\u001b[0m\n\u001b[1;32m     70\u001b[0m \u001b[0;34m\u001b[0m\u001b[0m\n\u001b[0;32m---> 71\u001b[0;31m \u001b[0mvis_img_in_filter\u001b[0m\u001b[0;34m(\u001b[0m\u001b[0;34m)\u001b[0m\u001b[0;34m\u001b[0m\u001b[0;34m\u001b[0m\u001b[0m\n\u001b[0m",
            "\u001b[0;32m<ipython-input-38-ffd1c4aa1fee>\u001b[0m in \u001b[0;36mvis_img_in_filter\u001b[0;34m(img, layer_name)\u001b[0m\n\u001b[1;32m     59\u001b[0m         \u001b[0mplot_x\u001b[0m\u001b[0;34m,\u001b[0m \u001b[0mplot_y\u001b[0m \u001b[0;34m=\u001b[0m \u001b[0;36m1\u001b[0m\u001b[0;34m,\u001b[0m \u001b[0;36m2\u001b[0m\u001b[0;34m\u001b[0m\u001b[0;34m\u001b[0m\u001b[0m\n\u001b[1;32m     60\u001b[0m     \u001b[0mfig\u001b[0m\u001b[0;34m,\u001b[0m \u001b[0max\u001b[0m \u001b[0;34m=\u001b[0m \u001b[0mplt\u001b[0m\u001b[0;34m.\u001b[0m\u001b[0msubplots\u001b[0m\u001b[0;34m(\u001b[0m\u001b[0mplot_x\u001b[0m\u001b[0;34m,\u001b[0m \u001b[0mplot_y\u001b[0m\u001b[0;34m,\u001b[0m \u001b[0mfigsize\u001b[0m \u001b[0;34m=\u001b[0m \u001b[0;34m(\u001b[0m\u001b[0;36m12\u001b[0m\u001b[0;34m,\u001b[0m \u001b[0;36m12\u001b[0m\u001b[0;34m)\u001b[0m\u001b[0;34m)\u001b[0m\u001b[0;34m\u001b[0m\u001b[0;34m\u001b[0m\u001b[0m\n\u001b[0;32m---> 61\u001b[0;31m     \u001b[0max\u001b[0m\u001b[0;34m[\u001b[0m\u001b[0;36m0\u001b[0m\u001b[0;34m,\u001b[0m \u001b[0;36m0\u001b[0m\u001b[0;34m]\u001b[0m\u001b[0;34m.\u001b[0m\u001b[0mimshow\u001b[0m\u001b[0;34m(\u001b[0m\u001b[0mimg\u001b[0m\u001b[0;34m.\u001b[0m\u001b[0mreshape\u001b[0m\u001b[0;34m(\u001b[0m\u001b[0;34m(\u001b[0m\u001b[0;36m28\u001b[0m\u001b[0;34m,\u001b[0m \u001b[0;36m28\u001b[0m\u001b[0;34m)\u001b[0m\u001b[0;34m)\u001b[0m\u001b[0;34m,\u001b[0m \u001b[0mcmap\u001b[0m \u001b[0;34m=\u001b[0m \u001b[0;34m'gray'\u001b[0m\u001b[0;34m)\u001b[0m\u001b[0;34m\u001b[0m\u001b[0;34m\u001b[0m\u001b[0m\n\u001b[0m\u001b[1;32m     62\u001b[0m     \u001b[0max\u001b[0m\u001b[0;34m[\u001b[0m\u001b[0;36m0\u001b[0m\u001b[0;34m,\u001b[0m \u001b[0;36m0\u001b[0m\u001b[0;34m]\u001b[0m\u001b[0;34m.\u001b[0m\u001b[0mset_title\u001b[0m\u001b[0;34m(\u001b[0m\u001b[0;34m'Input image'\u001b[0m\u001b[0;34m)\u001b[0m\u001b[0;34m\u001b[0m\u001b[0;34m\u001b[0m\u001b[0m\n\u001b[1;32m     63\u001b[0m     \u001b[0mfig\u001b[0m\u001b[0;34m.\u001b[0m\u001b[0msuptitle\u001b[0m\u001b[0;34m(\u001b[0m\u001b[0;34m'Input image and %s filters'\u001b[0m \u001b[0;34m%\u001b[0m \u001b[0;34m(\u001b[0m\u001b[0mlayer_name\u001b[0m\u001b[0;34m,\u001b[0m\u001b[0;34m)\u001b[0m\u001b[0;34m)\u001b[0m\u001b[0;34m\u001b[0m\u001b[0;34m\u001b[0m\u001b[0m\n",
            "\u001b[0;31mIndexError\u001b[0m: too many indices for array"
          ]
        },
        {
          "output_type": "display_data",
          "data": {
            "image/png": "[encoded data removed]",
            "text/plain": [
              "<Figure size 864x864 with 2 Axes>"
            ]
          },
          "metadata": {
            "tags": []
          }
        }
      ]
    },
    {
      "cell_type": "code",
      "metadata": {
        "id": "9tvptcn8dxvp",
        "colab_type": "code",
        "colab": {}
      },
      "source": [
        ""
      ],
      "execution_count": 0,
      "outputs": []
    }
  ]
}