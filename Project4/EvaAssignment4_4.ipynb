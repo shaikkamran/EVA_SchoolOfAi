{
  "nbformat": 4,
  "nbformat_minor": 0,
  "metadata": {
    "colab": {
      "name": "EvaAssignemnt4_4.ipynb",
      "version": "0.3.2",
      "provenance": [],
      "collapsed_sections": []
    },
    "kernelspec": {
      "name": "python3",
      "display_name": "Python 3"
    },
    "accelerator": "GPU"
  },
  "cells": [
    {
      "cell_type": "markdown",
      "metadata": {
        "id": "aNyZv-Ec52ot",
        "colab_type": "text"
      },
      "source": [
        "# **Import Libraries and modules**"
      ]
    },
    {
      "cell_type": "code",
      "metadata": {
        "id": "Eso6UHE080D4",
        "colab_type": "code",
        "colab": {
          "base_uri": "https://localhost:8080/",
          "height": 35
        },
        "outputId": "31a71fdd-c1d6-40ba-e82c-033c440be9f1"
      },
      "source": [
        "import numpy as np\n",
        "\n",
        "from keras.models import Sequential\n",
        "from keras.layers import Dense, Dropout, Activation, Flatten, Add, BatchNormalization\n",
        "from keras.layers import Convolution2D, MaxPooling2D\n",
        "from keras.utils import np_utils\n",
        "from keras.datasets import mnist"
      ],
      "execution_count": 1,
      "outputs": [
        {
          "output_type": "stream",
          "text": [
            "Using TensorFlow backend.\n"
          ],
          "name": "stderr"
        }
      ]
    },
    {
      "cell_type": "markdown",
      "metadata": {
        "id": "zByEi95J86RD",
        "colab_type": "text"
      },
      "source": [
        "### Load pre-shuffled MNIST data into train and test sets"
      ]
    },
    {
      "cell_type": "code",
      "metadata": {
        "id": "7eRM0QWN83PV",
        "colab_type": "code",
        "colab": {}
      },
      "source": [
        "(X_train, y_train), (X_test, y_test) = mnist.load_data()"
      ],
      "execution_count": 0,
      "outputs": []
    },
    {
      "cell_type": "code",
      "metadata": {
        "id": "4a4Be72j8-ZC",
        "colab_type": "code",
        "outputId": "52a6bac5-b256-4cb1-dba9-0d532dfa6eb5",
        "colab": {
          "base_uri": "https://localhost:8080/",
          "height": 305
        }
      },
      "source": [
        "print (X_train.shape)\n",
        "from matplotlib import pyplot as plt\n",
        "%matplotlib inline\n",
        "plt.imshow(X_train[0])"
      ],
      "execution_count": 3,
      "outputs": [
        {
          "output_type": "stream",
          "text": [
            "(60000, 28, 28)\n"
          ],
          "name": "stdout"
        },
        {
          "output_type": "execute_result",
          "data": {
            "text/plain": [
              "<matplotlib.image.AxesImage at 0x7f2716d58198>"
            ]
          },
          "metadata": {
            "tags": []
          },
          "execution_count": 3
        },
        {
          "output_type": "display_data",
          "data": {
            "image/png": "[encoded data removed]",
            "text/plain": [
              "<Figure size 432x288 with 1 Axes>"
            ]
          },
          "metadata": {
            "tags": []
          }
        }
      ]
    },
    {
      "cell_type": "code",
      "metadata": {
        "id": "dkmprriw9AnZ",
        "colab_type": "code",
        "colab": {}
      },
      "source": [
        "X_train = X_train.reshape(X_train.shape[0], 28, 28,1)\n",
        "X_test = X_test.reshape(X_test.shape[0], 28, 28,1)"
      ],
      "execution_count": 0,
      "outputs": []
    },
    {
      "cell_type": "code",
      "metadata": {
        "id": "X2m4YS4E9CRh",
        "colab_type": "code",
        "colab": {}
      },
      "source": [
        "X_train = X_train.astype('float32')\n",
        "X_test = X_test.astype('float32')\n",
        "X_train /= 255\n",
        "X_test /= 255"
      ],
      "execution_count": 0,
      "outputs": []
    },
    {
      "cell_type": "code",
      "metadata": {
        "id": "0Mn0vAYD9DvB",
        "colab_type": "code",
        "outputId": "c42b181e-2e01-48da-d7a4-f3a691dc3470",
        "colab": {
          "base_uri": "https://localhost:8080/",
          "height": 35
        }
      },
      "source": [
        "y_train[:10]"
      ],
      "execution_count": 6,
      "outputs": [
        {
          "output_type": "execute_result",
          "data": {
            "text/plain": [
              "array([5, 0, 4, 1, 9, 2, 1, 3, 1, 4], dtype=uint8)"
            ]
          },
          "metadata": {
            "tags": []
          },
          "execution_count": 6
        }
      ]
    },
    {
      "cell_type": "code",
      "metadata": {
        "id": "ZG8JiXR39FHC",
        "colab_type": "code",
        "colab": {}
      },
      "source": [
        "# Convert 1-dimensional class arrays to 10-dimensional class matrices\n",
        "Y_train = np_utils.to_categorical(y_train, 10)\n",
        "Y_test = np_utils.to_categorical(y_test, 10)"
      ],
      "execution_count": 0,
      "outputs": []
    },
    {
      "cell_type": "code",
      "metadata": {
        "id": "fYlFRvKS9HMB",
        "colab_type": "code",
        "outputId": "0cdf7094-e8a2-4fb0-c30b-0e11d1102bd2",
        "colab": {
          "base_uri": "https://localhost:8080/",
          "height": 199
        }
      },
      "source": [
        "Y_train[:10]\n"
      ],
      "execution_count": 8,
      "outputs": [
        {
          "output_type": "execute_result",
          "data": {
            "text/plain": [
              "array([[0., 0., 0., 0., 0., 1., 0., 0., 0., 0.],\n",
              "       [1., 0., 0., 0., 0., 0., 0., 0., 0., 0.],\n",
              "       [0., 0., 0., 0., 1., 0., 0., 0., 0., 0.],\n",
              "       [0., 1., 0., 0., 0., 0., 0., 0., 0., 0.],\n",
              "       [0., 0., 0., 0., 0., 0., 0., 0., 0., 1.],\n",
              "       [0., 0., 1., 0., 0., 0., 0., 0., 0., 0.],\n",
              "       [0., 1., 0., 0., 0., 0., 0., 0., 0., 0.],\n",
              "       [0., 0., 0., 1., 0., 0., 0., 0., 0., 0.],\n",
              "       [0., 1., 0., 0., 0., 0., 0., 0., 0., 0.],\n",
              "       [0., 0., 0., 0., 1., 0., 0., 0., 0., 0.]], dtype=float32)"
            ]
          },
          "metadata": {
            "tags": []
          },
          "execution_count": 8
        }
      ]
    },
    {
      "cell_type": "markdown",
      "metadata": {
        "id": "P1yksF9SFh31",
        "colab_type": "text"
      },
      "source": [
        "### Last notebook gave me the val Accuracy of 99.49 in 25 epochs with change in batch size ,with a paramter constraint  <15 K i.e., 13.2K ,Hence I can use the same architecture here and play around with the learning rate scheduler\n",
        "\n",
        "###Increments \n",
        "\n",
        "            1)Trying to train on only 128 batch size\n",
        "            2) Trying to train with a learning rate scheduler\n",
        "            "
      ]
    },
    {
      "cell_type": "code",
      "metadata": {
        "id": "zoT9jI-69Oeq",
        "colab_type": "code",
        "colab": {}
      },
      "source": [
        ""
      ],
      "execution_count": 0,
      "outputs": []
    },
    {
      "cell_type": "code",
      "metadata": {
        "id": "Uz46b7lLzWuy",
        "colab_type": "code",
        "colab": {}
      },
      "source": [
        "def ConvBnDropout(model,size,dout=0.2,K=(3,3)):\n",
        "  \n",
        "  model.add(Convolution2D(size, kernel_size=K, activation='relu'))\n",
        "  model.add(BatchNormalization())\n",
        "  model.add(Dropout(dout))\n",
        "  return model  \n",
        "  \n",
        "  \n",
        "  "
      ],
      "execution_count": 0,
      "outputs": []
    },
    {
      "cell_type": "code",
      "metadata": {
        "id": "osKqT73Q9JJB",
        "colab_type": "code",
        "colab": {}
      },
      "source": [
        "from keras.layers import *"
      ],
      "execution_count": 0,
      "outputs": []
    },
    {
      "cell_type": "code",
      "metadata": {
        "id": "HeGqhm2y21Qx",
        "colab_type": "code",
        "outputId": "7b436ac0-9608-4ab5-bba0-fa39ad797638",
        "colab": {
          "base_uri": "https://localhost:8080/",
          "height": 183
        }
      },
      "source": [
        "\n",
        "model = Sequential()\n",
        "\n",
        " \n",
        "model.add(Convolution2D(10, 3, 3, activation='relu', input_shape=(28,28,1))) # 26\n",
        "model.add(BatchNormalization())\n",
        "\n",
        "model=ConvBnDropout(model,16)\n",
        "model=ConvBnDropout(model,24)\n",
        "\n",
        "model.add(MaxPooling2D(pool_size=(2, 2))) # 11\n",
        "model=ConvBnDropout(model,10,0,K=(1,1))\n",
        "\n",
        "model=ConvBnDropout(model,16)\n",
        "model=ConvBnDropout(model,16)\n",
        "model=ConvBnDropout(model,10)\n",
        "# model=ConvBnDropout(model,16)\n",
        "\n",
        "\n",
        "# model=ConvBnDropout(model,10,0,K=(1,1))\n",
        "\n",
        "model.add(Convolution2D(10, 5))\n",
        "model.add(Flatten())\n",
        "model.add(Activation('softmax'))"
      ],
      "execution_count": 11,
      "outputs": [
        {
          "output_type": "stream",
          "text": [
            "WARNING:tensorflow:From /usr/local/lib/python3.6/dist-packages/tensorflow/python/framework/op_def_library.py:263: colocate_with (from tensorflow.python.framework.ops) is deprecated and will be removed in a future version.\n",
            "Instructions for updating:\n",
            "Colocations handled automatically by placer.\n"
          ],
          "name": "stdout"
        },
        {
          "output_type": "stream",
          "text": [
            "/usr/local/lib/python3.6/dist-packages/ipykernel_launcher.py:5: UserWarning: Update your `Conv2D` call to the Keras 2 API: `Conv2D(10, (3, 3), activation=\"relu\", input_shape=(28, 28, 1...)`\n",
            "  \"\"\"\n"
          ],
          "name": "stderr"
        },
        {
          "output_type": "stream",
          "text": [
            "WARNING:tensorflow:From /usr/local/lib/python3.6/dist-packages/keras/backend/tensorflow_backend.py:3445: calling dropout (from tensorflow.python.ops.nn_ops) with keep_prob is deprecated and will be removed in a future version.\n",
            "Instructions for updating:\n",
            "Please use `rate` instead of `keep_prob`. Rate should be set to `rate = 1 - keep_prob`.\n"
          ],
          "name": "stdout"
        }
      ]
    },
    {
      "cell_type": "code",
      "metadata": {
        "id": "TzdAYg1k9K7Z",
        "colab_type": "code",
        "outputId": "1ce5808d-1392-4241-b567-119b802a2bb4",
        "colab": {
          "base_uri": "https://localhost:8080/",
          "height": 1017
        }
      },
      "source": [
        "model.summary()"
      ],
      "execution_count": 12,
      "outputs": [
        {
          "output_type": "stream",
          "text": [
            "_________________________________________________________________\n",
            "Layer (type)                 Output Shape              Param #   \n",
            "=================================================================\n",
            "conv2d_1 (Conv2D)            (None, 26, 26, 10)        100       \n",
            "_________________________________________________________________\n",
            "batch_normalization_1 (Batch (None, 26, 26, 10)        40        \n",
            "_________________________________________________________________\n",
            "conv2d_2 (Conv2D)            (None, 24, 24, 16)        1456      \n",
            "_________________________________________________________________\n",
            "batch_normalization_2 (Batch (None, 24, 24, 16)        64        \n",
            "_________________________________________________________________\n",
            "dropout_1 (Dropout)          (None, 24, 24, 16)        0         \n",
            "_________________________________________________________________\n",
            "conv2d_3 (Conv2D)            (None, 22, 22, 24)        3480      \n",
            "_________________________________________________________________\n",
            "batch_normalization_3 (Batch (None, 22, 22, 24)        96        \n",
            "_________________________________________________________________\n",
            "dropout_2 (Dropout)          (None, 22, 22, 24)        0         \n",
            "_________________________________________________________________\n",
            "max_pooling2d_1 (MaxPooling2 (None, 11, 11, 24)        0         \n",
            "_________________________________________________________________\n",
            "conv2d_4 (Conv2D)            (None, 11, 11, 10)        250       \n",
            "_________________________________________________________________\n",
            "batch_normalization_4 (Batch (None, 11, 11, 10)        40        \n",
            "_________________________________________________________________\n",
            "dropout_3 (Dropout)          (None, 11, 11, 10)        0         \n",
            "_________________________________________________________________\n",
            "conv2d_5 (Conv2D)            (None, 9, 9, 16)          1456      \n",
            "_________________________________________________________________\n",
            "batch_normalization_5 (Batch (None, 9, 9, 16)          64        \n",
            "_________________________________________________________________\n",
            "dropout_4 (Dropout)          (None, 9, 9, 16)          0         \n",
            "_________________________________________________________________\n",
            "conv2d_6 (Conv2D)            (None, 7, 7, 16)          2320      \n",
            "_________________________________________________________________\n",
            "batch_normalization_6 (Batch (None, 7, 7, 16)          64        \n",
            "_________________________________________________________________\n",
            "dropout_5 (Dropout)          (None, 7, 7, 16)          0         \n",
            "_________________________________________________________________\n",
            "conv2d_7 (Conv2D)            (None, 5, 5, 10)          1450      \n",
            "_________________________________________________________________\n",
            "batch_normalization_7 (Batch (None, 5, 5, 10)          40        \n",
            "_________________________________________________________________\n",
            "dropout_6 (Dropout)          (None, 5, 5, 10)          0         \n",
            "_________________________________________________________________\n",
            "conv2d_8 (Conv2D)            (None, 1, 1, 10)          2510      \n",
            "_________________________________________________________________\n",
            "flatten_1 (Flatten)          (None, 10)                0         \n",
            "_________________________________________________________________\n",
            "activation_1 (Activation)    (None, 10)                0         \n",
            "=================================================================\n",
            "Total params: 13,430\n",
            "Trainable params: 13,226\n",
            "Non-trainable params: 204\n",
            "_________________________________________________________________\n"
          ],
          "name": "stdout"
        }
      ]
    },
    {
      "cell_type": "markdown",
      "metadata": {
        "id": "U_K3Qq8ML1IO",
        "colab_type": "text"
      },
      "source": [
        "Adding checkpoints "
      ]
    },
    {
      "cell_type": "code",
      "metadata": {
        "id": "U6BMWovKhJEW",
        "colab_type": "code",
        "colab": {}
      },
      "source": [
        "from keras.callbacks import ModelCheckpoint\n",
        "filepath=\"Best_weights.hdf5\"\n",
        "from keras.optimizers import Adam\n",
        "from keras.callbacks import LearningRateScheduler\n",
        "def scheduler(epoch, lr):\n",
        "  return round(0.003 * 1/(1 + 0.319 * epoch), 10)\n",
        "\n",
        "model.compile(loss='categorical_crossentropy', optimizer=Adam(lr=0.003), metrics=['accuracy'])\n",
        "checkpoint = ModelCheckpoint(filepath, monitor='val_acc', verbose=1, save_best_only=True, mode='max')\n",
        "\n",
        "# callbacks_list = [checkpoint]"
      ],
      "execution_count": 0,
      "outputs": []
    },
    {
      "cell_type": "code",
      "metadata": {
        "id": "Zp6SuGrL9M3h",
        "colab_type": "code",
        "outputId": "1b5a18d0-50de-45b8-9645-fc18d5125f87",
        "colab": {
          "base_uri": "https://localhost:8080/",
          "height": 2310
        }
      },
      "source": [
        "model.fit(X_train, Y_train, batch_size=128, epochs=20, verbose=1, validation_data=(X_test, Y_test), callbacks=[checkpoint,LearningRateScheduler(scheduler, verbose=1)])\n"
      ],
      "execution_count": 16,
      "outputs": [
        {
          "output_type": "stream",
          "text": [
            "WARNING:tensorflow:From /usr/local/lib/python3.6/dist-packages/tensorflow/python/ops/math_ops.py:3066: to_int32 (from tensorflow.python.ops.math_ops) is deprecated and will be removed in a future version.\n",
            "Instructions for updating:\n",
            "Use tf.cast instead.\n",
            "Train on 60000 samples, validate on 10000 samples\n",
            "Epoch 1/20\n",
            "\n",
            "Epoch 00001: LearningRateScheduler setting learning rate to 0.003.\n",
            "60000/60000 [==============================] - 10s 161us/step - loss: 0.2596 - acc: 0.9155 - val_loss: 0.0927 - val_acc: 0.9693\n",
            "\n",
            "Epoch 00001: val_acc improved from -inf to 0.96930, saving model to Best_weights.hdf5\n",
            "Epoch 2/20\n",
            "\n",
            "Epoch 00002: LearningRateScheduler setting learning rate to 0.0022744503.\n",
            "60000/60000 [==============================] - 7s 114us/step - loss: 0.0728 - acc: 0.9768 - val_loss: 0.0715 - val_acc: 0.9774\n",
            "\n",
            "Epoch 00002: val_acc improved from 0.96930 to 0.97740, saving model to Best_weights.hdf5\n",
            "Epoch 3/20\n",
            "\n",
            "Epoch 00003: LearningRateScheduler setting learning rate to 0.0018315018.\n",
            "60000/60000 [==============================] - 7s 114us/step - loss: 0.0577 - acc: 0.9823 - val_loss: 0.0338 - val_acc: 0.9897\n",
            "\n",
            "Epoch 00003: val_acc improved from 0.97740 to 0.98970, saving model to Best_weights.hdf5\n",
            "Epoch 4/20\n",
            "\n",
            "Epoch 00004: LearningRateScheduler setting learning rate to 0.0015329586.\n",
            "60000/60000 [==============================] - 7s 122us/step - loss: 0.0520 - acc: 0.9836 - val_loss: 0.0359 - val_acc: 0.9882\n",
            "\n",
            "Epoch 00004: val_acc did not improve from 0.98970\n",
            "Epoch 5/20\n",
            "\n",
            "Epoch 00005: LearningRateScheduler setting learning rate to 0.0013181019.\n",
            "60000/60000 [==============================] - 7s 115us/step - loss: 0.0448 - acc: 0.9858 - val_loss: 0.0257 - val_acc: 0.9923\n",
            "\n",
            "Epoch 00005: val_acc improved from 0.98970 to 0.99230, saving model to Best_weights.hdf5\n",
            "Epoch 6/20\n",
            "\n",
            "Epoch 00006: LearningRateScheduler setting learning rate to 0.0011560694.\n",
            "60000/60000 [==============================] - 7s 113us/step - loss: 0.0413 - acc: 0.9866 - val_loss: 0.0329 - val_acc: 0.9906\n",
            "\n",
            "Epoch 00006: val_acc did not improve from 0.99230\n",
            "Epoch 7/20\n",
            "\n",
            "Epoch 00007: LearningRateScheduler setting learning rate to 0.0010295127.\n",
            "60000/60000 [==============================] - 7s 114us/step - loss: 0.0399 - acc: 0.9873 - val_loss: 0.0284 - val_acc: 0.9919\n",
            "\n",
            "Epoch 00007: val_acc did not improve from 0.99230\n",
            "Epoch 8/20\n",
            "\n",
            "Epoch 00008: LearningRateScheduler setting learning rate to 0.0009279307.\n",
            "60000/60000 [==============================] - 7s 120us/step - loss: 0.0385 - acc: 0.9879 - val_loss: 0.0245 - val_acc: 0.9925\n",
            "\n",
            "Epoch 00008: val_acc improved from 0.99230 to 0.99250, saving model to Best_weights.hdf5\n",
            "Epoch 9/20\n",
            "\n",
            "Epoch 00009: LearningRateScheduler setting learning rate to 0.0008445946.\n",
            "60000/60000 [==============================] - 7s 113us/step - loss: 0.0355 - acc: 0.9886 - val_loss: 0.0235 - val_acc: 0.9919\n",
            "\n",
            "Epoch 00009: val_acc did not improve from 0.99250\n",
            "Epoch 10/20\n",
            "\n",
            "Epoch 00010: LearningRateScheduler setting learning rate to 0.0007749935.\n",
            "60000/60000 [==============================] - 7s 113us/step - loss: 0.0350 - acc: 0.9886 - val_loss: 0.0233 - val_acc: 0.9923\n",
            "\n",
            "Epoch 00010: val_acc did not improve from 0.99250\n",
            "Epoch 11/20\n",
            "\n",
            "Epoch 00011: LearningRateScheduler setting learning rate to 0.0007159905.\n",
            "60000/60000 [==============================] - 7s 113us/step - loss: 0.0315 - acc: 0.9898 - val_loss: 0.0205 - val_acc: 0.9933\n",
            "\n",
            "Epoch 00011: val_acc improved from 0.99250 to 0.99330, saving model to Best_weights.hdf5\n",
            "Epoch 12/20\n",
            "\n",
            "Epoch 00012: LearningRateScheduler setting learning rate to 0.000665336.\n",
            "60000/60000 [==============================] - 7s 113us/step - loss: 0.0308 - acc: 0.9904 - val_loss: 0.0219 - val_acc: 0.9932\n",
            "\n",
            "Epoch 00012: val_acc did not improve from 0.99330\n",
            "Epoch 13/20\n",
            "\n",
            "Epoch 00013: LearningRateScheduler setting learning rate to 0.0006213753.\n",
            "60000/60000 [==============================] - 7s 114us/step - loss: 0.0305 - acc: 0.9903 - val_loss: 0.0210 - val_acc: 0.9933\n",
            "\n",
            "Epoch 00013: val_acc did not improve from 0.99330\n",
            "Epoch 14/20\n",
            "\n",
            "Epoch 00014: LearningRateScheduler setting learning rate to 0.0005828638.\n",
            "60000/60000 [==============================] - 7s 113us/step - loss: 0.0281 - acc: 0.9907 - val_loss: 0.0212 - val_acc: 0.9934\n",
            "\n",
            "Epoch 00014: val_acc improved from 0.99330 to 0.99340, saving model to Best_weights.hdf5\n",
            "Epoch 15/20\n",
            "\n",
            "Epoch 00015: LearningRateScheduler setting learning rate to 0.0005488474.\n",
            "60000/60000 [==============================] - 7s 117us/step - loss: 0.0293 - acc: 0.9908 - val_loss: 0.0205 - val_acc: 0.9944\n",
            "\n",
            "Epoch 00015: val_acc improved from 0.99340 to 0.99440, saving model to Best_weights.hdf5\n",
            "Epoch 16/20\n",
            "\n",
            "Epoch 00016: LearningRateScheduler setting learning rate to 0.0005185825.\n",
            "60000/60000 [==============================] - 7s 121us/step - loss: 0.0267 - acc: 0.9916 - val_loss: 0.0203 - val_acc: 0.9940\n",
            "\n",
            "Epoch 00016: val_acc did not improve from 0.99440\n",
            "Epoch 17/20\n",
            "\n",
            "Epoch 00017: LearningRateScheduler setting learning rate to 0.000491481.\n",
            "60000/60000 [==============================] - 7s 125us/step - loss: 0.0264 - acc: 0.9916 - val_loss: 0.0251 - val_acc: 0.9928\n",
            "\n",
            "Epoch 00017: val_acc did not improve from 0.99440\n",
            "Epoch 18/20\n",
            "\n",
            "Epoch 00018: LearningRateScheduler setting learning rate to 0.0004670715.\n",
            "60000/60000 [==============================] - 7s 119us/step - loss: 0.0263 - acc: 0.9912 - val_loss: 0.0202 - val_acc: 0.9934\n",
            "\n",
            "Epoch 00018: val_acc did not improve from 0.99440\n",
            "Epoch 19/20\n",
            "\n",
            "Epoch 00019: LearningRateScheduler setting learning rate to 0.0004449718.\n",
            "60000/60000 [==============================] - 7s 113us/step - loss: 0.0260 - acc: 0.9913 - val_loss: 0.0220 - val_acc: 0.9935\n",
            "\n",
            "Epoch 00019: val_acc did not improve from 0.99440\n",
            "Epoch 20/20\n",
            "\n",
            "Epoch 00020: LearningRateScheduler setting learning rate to 0.000424869.\n",
            "60000/60000 [==============================] - 7s 113us/step - loss: 0.0245 - acc: 0.9922 - val_loss: 0.0207 - val_acc: 0.9940\n",
            "\n",
            "Epoch 00020: val_acc did not improve from 0.99440\n"
          ],
          "name": "stdout"
        },
        {
          "output_type": "execute_result",
          "data": {
            "text/plain": [
              "<keras.callbacks.History at 0x7f27012f3550>"
            ]
          },
          "metadata": {
            "tags": []
          },
          "execution_count": 16
        }
      ]
    },
    {
      "cell_type": "markdown",
      "metadata": {
        "id": "AB41gA_yJAHv",
        "colab_type": "text"
      },
      "source": [
        "## from the above cell's output we find that validation loss is lesser than training loss and vice vera with the accuracy ,which means if I train this network for a longer period it can still perform better."
      ]
    },
    {
      "cell_type": "code",
      "metadata": {
        "id": "AtsH-lLk-eLb",
        "colab_type": "code",
        "colab": {}
      },
      "source": [
        "score = model.evaluate(X_test, Y_test, verbose=0)"
      ],
      "execution_count": 0,
      "outputs": []
    },
    {
      "cell_type": "code",
      "metadata": {
        "id": "mkX8JMv79q9r",
        "colab_type": "code",
        "outputId": "04ac97dd-4e29-42f2-9928-63f354522392",
        "colab": {
          "base_uri": "https://localhost:8080/",
          "height": 35
        }
      },
      "source": [
        "print(score)\n"
      ],
      "execution_count": 18,
      "outputs": [
        {
          "output_type": "stream",
          "text": [
            "[0.020700958139137946, 0.994]\n"
          ],
          "name": "stdout"
        }
      ]
    },
    {
      "cell_type": "code",
      "metadata": {
        "id": "EgC7msp_QgK5",
        "colab_type": "code",
        "colab": {}
      },
      "source": [
        "from keras.callbacks import *"
      ],
      "execution_count": 0,
      "outputs": []
    },
    {
      "cell_type": "code",
      "metadata": {
        "id": "rpOtmVmwL9c9",
        "colab_type": "code",
        "outputId": "484b0b1f-04fb-4b88-c5e0-c114c04d70f3",
        "colab": {
          "base_uri": "https://localhost:8080/",
          "height": 35
        }
      },
      "source": [
        "import keras\n",
        "model1=keras.models.load_model('Best_weights.hdf5')\n",
        "print(model1.evaluate(X_test, Y_test, verbose=0))"
      ],
      "execution_count": 19,
      "outputs": [
        {
          "output_type": "stream",
          "text": [
            "[0.020463143050370853, 0.9944]\n"
          ],
          "name": "stdout"
        }
      ]
    },
    {
      "cell_type": "code",
      "metadata": {
        "id": "HOEqN1IaQJ6i",
        "colab_type": "code",
        "colab": {}
      },
      "source": [
        "reduce_lr = ReduceLROnPlateau(monitor='val_loss', factor=0.2,\n",
        "                              patience=5, min_lr=0.001)\n"
      ],
      "execution_count": 0,
      "outputs": []
    },
    {
      "cell_type": "code",
      "metadata": {
        "id": "Re1EK1W1QSYN",
        "colab_type": "code",
        "colab": {
          "base_uri": "https://localhost:8080/",
          "height": 1508
        },
        "outputId": "a0204bac-f505-453d-db86-a2b088001aaa"
      },
      "source": [
        "model.fit(X_train, Y_train, batch_size=128, epochs=20, verbose=1, validation_data=(X_test, Y_test), callbacks=[checkpoint,reduce_lr])\n"
      ],
      "execution_count": 25,
      "outputs": [
        {
          "output_type": "stream",
          "text": [
            "Train on 60000 samples, validate on 10000 samples\n",
            "Epoch 1/20\n",
            "60000/60000 [==============================] - 7s 116us/step - loss: 0.0245 - acc: 0.9918 - val_loss: 0.0197 - val_acc: 0.9938\n",
            "\n",
            "Epoch 00001: val_acc did not improve from 0.99440\n",
            "Epoch 2/20\n",
            "60000/60000 [==============================] - 7s 113us/step - loss: 0.0229 - acc: 0.9925 - val_loss: 0.0190 - val_acc: 0.9941\n",
            "\n",
            "Epoch 00002: val_acc did not improve from 0.99440\n",
            "Epoch 3/20\n",
            "60000/60000 [==============================] - 7s 113us/step - loss: 0.0256 - acc: 0.9915 - val_loss: 0.0195 - val_acc: 0.9943\n",
            "\n",
            "Epoch 00003: val_acc did not improve from 0.99440\n",
            "Epoch 4/20\n",
            "60000/60000 [==============================] - 7s 114us/step - loss: 0.0235 - acc: 0.9924 - val_loss: 0.0211 - val_acc: 0.9937\n",
            "\n",
            "Epoch 00004: val_acc did not improve from 0.99440\n",
            "Epoch 5/20\n",
            "60000/60000 [==============================] - 7s 113us/step - loss: 0.0232 - acc: 0.9926 - val_loss: 0.0189 - val_acc: 0.9938\n",
            "\n",
            "Epoch 00005: val_acc did not improve from 0.99440\n",
            "Epoch 6/20\n",
            "60000/60000 [==============================] - 7s 113us/step - loss: 0.0234 - acc: 0.9926 - val_loss: 0.0186 - val_acc: 0.9941\n",
            "\n",
            "Epoch 00006: val_acc did not improve from 0.99440\n",
            "Epoch 7/20\n",
            "60000/60000 [==============================] - 7s 113us/step - loss: 0.0236 - acc: 0.9922 - val_loss: 0.0189 - val_acc: 0.9942\n",
            "\n",
            "Epoch 00007: val_acc did not improve from 0.99440\n",
            "Epoch 8/20\n",
            "60000/60000 [==============================] - 7s 114us/step - loss: 0.0235 - acc: 0.9920 - val_loss: 0.0210 - val_acc: 0.9934\n",
            "\n",
            "Epoch 00008: val_acc did not improve from 0.99440\n",
            "Epoch 9/20\n",
            "60000/60000 [==============================] - 7s 114us/step - loss: 0.0238 - acc: 0.9922 - val_loss: 0.0200 - val_acc: 0.9937\n",
            "\n",
            "Epoch 00009: val_acc did not improve from 0.99440\n",
            "Epoch 10/20\n",
            "60000/60000 [==============================] - 7s 122us/step - loss: 0.0222 - acc: 0.9929 - val_loss: 0.0205 - val_acc: 0.9933\n",
            "\n",
            "Epoch 00010: val_acc did not improve from 0.99440\n",
            "Epoch 11/20\n",
            "60000/60000 [==============================] - 7s 115us/step - loss: 0.0217 - acc: 0.9928 - val_loss: 0.0185 - val_acc: 0.9939\n",
            "\n",
            "Epoch 00011: val_acc did not improve from 0.99440\n",
            "Epoch 12/20\n",
            "60000/60000 [==============================] - 7s 112us/step - loss: 0.0219 - acc: 0.9929 - val_loss: 0.0193 - val_acc: 0.9946\n",
            "\n",
            "Epoch 00012: val_acc improved from 0.99440 to 0.99460, saving model to Best_weights.hdf5\n",
            "Epoch 13/20\n",
            "60000/60000 [==============================] - 7s 112us/step - loss: 0.0220 - acc: 0.9927 - val_loss: 0.0189 - val_acc: 0.9938\n",
            "\n",
            "Epoch 00013: val_acc did not improve from 0.99460\n",
            "Epoch 14/20\n",
            "60000/60000 [==============================] - 7s 112us/step - loss: 0.0222 - acc: 0.9928 - val_loss: 0.0209 - val_acc: 0.9938\n",
            "\n",
            "Epoch 00014: val_acc did not improve from 0.99460\n",
            "Epoch 15/20\n",
            "60000/60000 [==============================] - 7s 112us/step - loss: 0.0203 - acc: 0.9934 - val_loss: 0.0184 - val_acc: 0.9943\n",
            "\n",
            "Epoch 00015: val_acc did not improve from 0.99460\n",
            "Epoch 16/20\n",
            "60000/60000 [==============================] - 7s 113us/step - loss: 0.0203 - acc: 0.9931 - val_loss: 0.0209 - val_acc: 0.9937\n",
            "\n",
            "Epoch 00016: val_acc did not improve from 0.99460\n",
            "Epoch 17/20\n",
            "60000/60000 [==============================] - 7s 112us/step - loss: 0.0207 - acc: 0.9932 - val_loss: 0.0192 - val_acc: 0.9943\n",
            "\n",
            "Epoch 00017: val_acc did not improve from 0.99460\n",
            "Epoch 18/20\n",
            "60000/60000 [==============================] - 7s 113us/step - loss: 0.0197 - acc: 0.9934 - val_loss: 0.0208 - val_acc: 0.9935\n",
            "\n",
            "Epoch 00018: val_acc did not improve from 0.99460\n",
            "Epoch 19/20\n",
            "60000/60000 [==============================] - 7s 113us/step - loss: 0.0210 - acc: 0.9933 - val_loss: 0.0219 - val_acc: 0.9939\n",
            "\n",
            "Epoch 00019: val_acc did not improve from 0.99460\n",
            "Epoch 20/20\n",
            "60000/60000 [==============================] - 7s 115us/step - loss: 0.0198 - acc: 0.9935 - val_loss: 0.0180 - val_acc: 0.9947\n",
            "\n",
            "Epoch 00020: val_acc improved from 0.99460 to 0.99470, saving model to Best_weights.hdf5\n"
          ],
          "name": "stdout"
        },
        {
          "output_type": "execute_result",
          "data": {
            "text/plain": [
              "<keras.callbacks.History at 0x7f26c3a218d0>"
            ]
          },
          "metadata": {
            "tags": []
          },
          "execution_count": 25
        }
      ]
    },
    {
      "cell_type": "code",
      "metadata": {
        "id": "_dgq-9UQRJEL",
        "colab_type": "code",
        "colab": {
          "base_uri": "https://localhost:8080/",
          "height": 35
        },
        "outputId": "444490b9-9c39-48c9-fd65-c14fc4d93594"
      },
      "source": [
        "score = model.evaluate(X_test, Y_test, verbose=0)\n",
        "print(score)"
      ],
      "execution_count": 26,
      "outputs": [
        {
          "output_type": "stream",
          "text": [
            "[0.017955765196610445, 0.9947]\n"
          ],
          "name": "stdout"
        }
      ]
    },
    {
      "cell_type": "code",
      "metadata": {
        "id": "OCWoJkwE9suh",
        "colab_type": "code",
        "colab": {}
      },
      "source": [
        "y_pred = model.predict(X_test)"
      ],
      "execution_count": 0,
      "outputs": []
    },
    {
      "cell_type": "code",
      "metadata": {
        "id": "Ym7iCFBm9uBs",
        "colab_type": "code",
        "outputId": "4f4f34b9-1e05-4bd8-ade1-7362ab969b25",
        "colab": {
          "base_uri": "https://localhost:8080/",
          "height": 526
        }
      },
      "source": [
        "print(y_pred[:9])\n",
        "print(y_test[:9])"
      ],
      "execution_count": 28,
      "outputs": [
        {
          "output_type": "stream",
          "text": [
            "[[8.79316325e-12 1.04744789e-10 1.65146730e-09 5.20119336e-10\n",
            "  6.25320212e-11 6.02012953e-11 2.54179205e-14 9.99999881e-01\n",
            "  3.68794838e-12 1.69203261e-07]\n",
            " [1.13337160e-06 1.47746948e-06 9.99977827e-01 2.52758365e-08\n",
            "  4.80111453e-08 2.86509943e-12 1.94981440e-05 8.47338733e-09\n",
            "  5.61663516e-09 1.46831089e-10]\n",
            " [1.08409095e-08 9.99994516e-01 1.91474729e-08 2.57039301e-09\n",
            "  1.66261157e-06 4.16888426e-08 6.44245262e-08 3.74940851e-06\n",
            "  2.39959136e-10 4.48997994e-08]\n",
            " [9.99989629e-01 8.24482704e-11 5.77285633e-08 2.07872453e-09\n",
            "  1.05215325e-09 1.06196847e-08 9.54338066e-06 4.32972241e-10\n",
            "  5.51479786e-07 1.81006399e-07]\n",
            " [2.34615688e-10 2.18588370e-09 1.65863423e-09 3.11324642e-12\n",
            "  9.99989033e-01 2.91602276e-09 2.87264901e-09 9.53177270e-09\n",
            "  5.96538907e-09 1.09947650e-05]\n",
            " [9.42112166e-09 9.99956846e-01 3.59610866e-08 1.41178147e-09\n",
            "  2.22757444e-06 1.10615881e-08 7.28197165e-08 4.07490043e-05\n",
            "  2.74659018e-10 1.39706742e-07]\n",
            " [2.73910864e-12 1.64336438e-08 1.42305584e-10 2.63670878e-12\n",
            "  9.99967337e-01 2.16879714e-09 9.41954084e-11 1.65083147e-05\n",
            "  2.87753579e-07 1.59028314e-05]\n",
            " [2.00697571e-07 3.20648480e-10 1.18719235e-07 6.30364871e-09\n",
            "  1.20920173e-04 5.57433992e-08 2.29189903e-10 2.28679586e-09\n",
            "  5.71622934e-07 9.99878049e-01]\n",
            " [1.94013104e-04 6.70810341e-09 1.24925566e-06 4.19519711e-06\n",
            "  1.32816469e-09 9.96483922e-01 3.29521531e-03 1.60834579e-09\n",
            "  1.94176828e-05 1.95656935e-06]]\n",
            "[7 2 1 0 4 1 4 9 5]\n"
          ],
          "name": "stdout"
        }
      ]
    },
    {
      "cell_type": "code",
      "metadata": {
        "id": "CT--y98_dr2T",
        "colab_type": "code",
        "colab": {}
      },
      "source": [
        "layer_dict = dict([(layer.name, layer) for layer in model.layers])"
      ],
      "execution_count": 0,
      "outputs": []
    },
    {
      "cell_type": "code",
      "metadata": {
        "id": "2GY4Upv4dsUR",
        "colab_type": "code",
        "colab": {}
      },
      "source": [
        "import numpy as np\n",
        "from matplotlib import pyplot as plt\n",
        "from keras import backend as K\n",
        "%matplotlib inline\n",
        "# util function to convert a tensor into a valid image\n",
        "def deprocess_image(x):\n",
        "    # normalize tensor: center on 0., ensure std is 0.1\n",
        "    x -= x.mean()\n",
        "    x /= (x.std() + 1e-5)\n",
        "    x *= 0.1\n",
        "\n",
        "    # clip to [0, 1]\n",
        "    x += 0.5\n",
        "    x = np.clip(x, 0, 1)\n",
        "\n",
        "    # convert to RGB array\n",
        "    x *= 255\n",
        "    #x = x.transpose((1, 2, 0))\n",
        "    x = np.clip(x, 0, 255).astype('uint8')\n",
        "    return x\n",
        "\n",
        "def vis_img_in_filter(img = np.array(X_train[2]).reshape((1, 28, 28, 1)).astype(np.float64), \n",
        "                      layer_name = 'conv2d_24'):\n",
        "    layer_output = layer_dict[layer_name].output\n",
        "    img_ascs = list()\n",
        "    for filter_index in range(layer_output.shape[3]):\n",
        "        # build a loss function that maximizes the activation\n",
        "        # of the nth filter of the layer considered\n",
        "        loss = K.mean(layer_output[:, :, :, filter_index])\n",
        "\n",
        "        # compute the gradient of the input picture wrt this loss\n",
        "        grads = K.gradients(loss, model.input)[0]\n",
        "\n",
        "        # normalization trick: we normalize the gradient\n",
        "        grads /= (K.sqrt(K.mean(K.square(grads))) + 1e-5)\n",
        "\n",
        "        # this function returns the loss and grads given the input picture\n",
        "        iterate = K.function([model.input], [loss, grads])\n",
        "\n",
        "        # step size for gradient ascent\n",
        "        step = 5.\n",
        "\n",
        "        img_asc = np.array(img)\n",
        "        # run gradient ascent for 20 steps\n",
        "        for i in range(20):\n",
        "            loss_value, grads_value = iterate([img_asc])\n",
        "            img_asc += grads_value * step\n",
        "\n",
        "        img_asc = img_asc[0]\n",
        "        img_ascs.append(deprocess_image(img_asc).reshape((28, 28)))\n",
        "        \n",
        "    if layer_output.shape[3] >= 35:\n",
        "        plot_x, plot_y = 6, 6\n",
        "    elif layer_output.shape[3] >= 23:\n",
        "        plot_x, plot_y = 4, 6\n",
        "    elif layer_output.shape[3] >= 11:\n",
        "        plot_x, plot_y = 2, 6\n",
        "    else:\n",
        "        plot_x, plot_y = 1, 2\n",
        "    fig, ax = plt.subplots(plot_x, plot_y, figsize = (12, 12))\n",
        "    ax[0, 0].imshow(img.reshape((28, 28)), cmap = 'gray')\n",
        "    ax[0, 0].set_title('Input image')\n",
        "    fig.suptitle('Input image and %s filters' % (layer_name,))\n",
        "    fig.tight_layout(pad = 0.3, rect = [0, 0, 0.9, 0.9])\n",
        "    for (x, y) in [(i, j) for i in range(plot_x) for j in range(plot_y)]:\n",
        "        if x == 0 and y == 0:\n",
        "            continue\n",
        "        ax[x, y].imshow(img_ascs[x * plot_y + y - 1], cmap = 'gray')\n",
        "        ax[x, y].set_title('filter %d' % (x * plot_y + y - 1))\n",
        "\n",
        "vis_img_in_filter()"
      ],
      "execution_count": 0,
      "outputs": []
    },
    {
      "cell_type": "code",
      "metadata": {
        "id": "9tvptcn8dxvp",
        "colab_type": "code",
        "colab": {}
      },
      "source": [
        ""
      ],
      "execution_count": 0,
      "outputs": []
    }
  ]
}