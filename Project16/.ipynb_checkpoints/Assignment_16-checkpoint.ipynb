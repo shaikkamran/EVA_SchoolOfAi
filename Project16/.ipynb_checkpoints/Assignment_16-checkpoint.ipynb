{
 "cells": [
  {
   "cell_type": "code",
   "execution_count": 1,
   "metadata": {},
   "outputs": [],
   "source": [
    "import os\n",
    "import math\n",
    "import ast\n",
    "import pandas as pd\n",
    "import numpy as np\n",
    "from pathlib import Path\n",
    "import matplotlib.pyplot as plt "
   ]
  },
  {
   "cell_type": "markdown",
   "metadata": {},
   "source": [
    "## Rename files"
   ]
  },
  {
   "cell_type": "code",
   "execution_count": 11,
   "metadata": {},
   "outputs": [],
   "source": [
    "def rename_files(folder):\n",
    "    files = os.listdir(folder)\n",
    "    for i,file in enumerate(files):\n",
    "        fname=f\"img_{'{0:03}'.format(i)}.jpg\"\n",
    "        try:\n",
    "            os.rename(folder/file,folder/fname)\n",
    "        except Exception as e:\n",
    "            print(f\"Error {e}\")\n"
   ]
  },
  {
   "cell_type": "code",
   "execution_count": 12,
   "metadata": {},
   "outputs": [],
   "source": [
    "rename_files(Path(\"/home/ravil/EVA/Session_16/raw\"))"
   ]
  },
  {
   "cell_type": "markdown",
   "metadata": {},
   "source": [
    "## Resize images to 400 x 400"
   ]
  },
  {
   "cell_type": "code",
   "execution_count": 53,
   "metadata": {},
   "outputs": [],
   "source": [
    "from PIL import Image\n",
    "\n",
    "def resize_img(folder,size):\n",
    "    \n",
    "    files = os.listdir(folder)\n",
    "    if not os.path.exists(folder/\"resized\"):\n",
    "        os.mkdir(folder/\"resized\")\n",
    "    for file in files:\n",
    "        #print(file)\n",
    "        img = Image.open(folder/file)\n",
    "        fname = file.split(\".\")[0]\n",
    "#         print(fname)\n",
    "\n",
    "        width, height = img.size[:2]\n",
    "\n",
    "        if height > width:\n",
    "            baseheight = size\n",
    "            hpercent = (baseheight/float(img.size[1]))\n",
    "            wsize = int((float(img.size[0])*float(hpercent)))\n",
    "            img = img.resize((wsize, baseheight), Image.ANTIALIAS)\n",
    "            img.save(folder/\"resized\"/f'{fname}.jpg')\n",
    "        else:\n",
    "            basewidth = size\n",
    "            wpercent = (basewidth/float(img.size[0]))\n",
    "            hsize = int((float(img.size[1])*float(wpercent)))\n",
    "            img = img.resize((basewidth,hsize), Image.ANTIALIAS)\n",
    "            img.save(folder/\"resized\"/f'{fname}.jpg')"
   ]
  },
  {
   "cell_type": "code",
   "execution_count": 54,
   "metadata": {},
   "outputs": [],
   "source": [
    "resize_img(Path(\"/home/ravil/EVA/Session_16/raw/\"),400)"
   ]
  },
  {
   "cell_type": "markdown",
   "metadata": {},
   "source": [
    "## Read csv and normalize region shape attributes"
   ]
  },
  {
   "cell_type": "code",
   "execution_count": 364,
   "metadata": {},
   "outputs": [],
   "source": [
    "df = pd.read_csv(\"Assignment_16.csv\")"
   ]
  },
  {
   "cell_type": "code",
   "execution_count": 365,
   "metadata": {},
   "outputs": [
    {
     "data": {
      "text/html": [
       "<div>\n",
       "<style scoped>\n",
       "    .dataframe tbody tr th:only-of-type {\n",
       "        vertical-align: middle;\n",
       "    }\n",
       "\n",
       "    .dataframe tbody tr th {\n",
       "        vertical-align: top;\n",
       "    }\n",
       "\n",
       "    .dataframe thead th {\n",
       "        text-align: right;\n",
       "    }\n",
       "</style>\n",
       "<table border=\"1\" class=\"dataframe\">\n",
       "  <thead>\n",
       "    <tr style=\"text-align: right;\">\n",
       "      <th></th>\n",
       "      <th>filename</th>\n",
       "      <th>file_size</th>\n",
       "      <th>file_attributes</th>\n",
       "      <th>region_count</th>\n",
       "      <th>region_id</th>\n",
       "      <th>region_shape_attributes</th>\n",
       "      <th>region_attributes</th>\n",
       "    </tr>\n",
       "  </thead>\n",
       "  <tbody>\n",
       "    <tr>\n",
       "      <th>0</th>\n",
       "      <td>img_045.jpg</td>\n",
       "      <td>26905</td>\n",
       "      <td>{\"series\":\"\",\"frame_id\":\"\"}</td>\n",
       "      <td>1</td>\n",
       "      <td>0</td>\n",
       "      <td>{\"name\":\"rect\",\"x\":175,\"y\":41,\"width\":92,\"heig...</td>\n",
       "      <td>{\"pose\":\"Front\"}</td>\n",
       "    </tr>\n",
       "    <tr>\n",
       "      <th>1</th>\n",
       "      <td>img_098.jpg</td>\n",
       "      <td>18817</td>\n",
       "      <td>{\"series\":\"\",\"frame_id\":\"\"}</td>\n",
       "      <td>1</td>\n",
       "      <td>0</td>\n",
       "      <td>{\"name\":\"rect\",\"x\":111,\"y\":162,\"width\":139,\"he...</td>\n",
       "      <td>{\"pose\":\"Left\"}</td>\n",
       "    </tr>\n",
       "    <tr>\n",
       "      <th>2</th>\n",
       "      <td>img_000.jpg</td>\n",
       "      <td>19678</td>\n",
       "      <td>{\"series\":\"\",\"frame_id\":\"\"}</td>\n",
       "      <td>1</td>\n",
       "      <td>0</td>\n",
       "      <td>{\"name\":\"rect\",\"x\":76,\"y\":119,\"width\":156,\"hei...</td>\n",
       "      <td>{\"pose\":\"Right\"}</td>\n",
       "    </tr>\n",
       "    <tr>\n",
       "      <th>3</th>\n",
       "      <td>img_055.jpg</td>\n",
       "      <td>12839</td>\n",
       "      <td>{\"series\":\"\",\"frame_id\":\"\"}</td>\n",
       "      <td>1</td>\n",
       "      <td>0</td>\n",
       "      <td>{\"name\":\"rect\",\"x\":72,\"y\":100,\"width\":261,\"hei...</td>\n",
       "      <td>{\"pose\":\"Front\"}</td>\n",
       "    </tr>\n",
       "    <tr>\n",
       "      <th>4</th>\n",
       "      <td>img_057.jpg</td>\n",
       "      <td>28801</td>\n",
       "      <td>{\"series\":\"\",\"frame_id\":\"\"}</td>\n",
       "      <td>1</td>\n",
       "      <td>0</td>\n",
       "      <td>{\"name\":\"rect\",\"x\":115,\"y\":58,\"width\":164,\"hei...</td>\n",
       "      <td>{\"pose\":\"Front\"}</td>\n",
       "    </tr>\n",
       "  </tbody>\n",
       "</table>\n",
       "</div>"
      ],
      "text/plain": [
       "      filename  file_size              file_attributes  region_count  \\\n",
       "0  img_045.jpg      26905  {\"series\":\"\",\"frame_id\":\"\"}             1   \n",
       "1  img_098.jpg      18817  {\"series\":\"\",\"frame_id\":\"\"}             1   \n",
       "2  img_000.jpg      19678  {\"series\":\"\",\"frame_id\":\"\"}             1   \n",
       "3  img_055.jpg      12839  {\"series\":\"\",\"frame_id\":\"\"}             1   \n",
       "4  img_057.jpg      28801  {\"series\":\"\",\"frame_id\":\"\"}             1   \n",
       "\n",
       "   region_id                            region_shape_attributes  \\\n",
       "0          0  {\"name\":\"rect\",\"x\":175,\"y\":41,\"width\":92,\"heig...   \n",
       "1          0  {\"name\":\"rect\",\"x\":111,\"y\":162,\"width\":139,\"he...   \n",
       "2          0  {\"name\":\"rect\",\"x\":76,\"y\":119,\"width\":156,\"hei...   \n",
       "3          0  {\"name\":\"rect\",\"x\":72,\"y\":100,\"width\":261,\"hei...   \n",
       "4          0  {\"name\":\"rect\",\"x\":115,\"y\":58,\"width\":164,\"hei...   \n",
       "\n",
       "  region_attributes  \n",
       "0  {\"pose\":\"Front\"}  \n",
       "1   {\"pose\":\"Left\"}  \n",
       "2  {\"pose\":\"Right\"}  \n",
       "3  {\"pose\":\"Front\"}  \n",
       "4  {\"pose\":\"Front\"}  "
      ]
     },
     "execution_count": 365,
     "metadata": {},
     "output_type": "execute_result"
    }
   ],
   "source": [
    "df.head()"
   ]
  },
  {
   "cell_type": "code",
   "execution_count": 366,
   "metadata": {},
   "outputs": [],
   "source": [
    "shape = df.region_shape_attributes.apply(lambda x: ast.literal_eval(x)).tolist()"
   ]
  },
  {
   "cell_type": "code",
   "execution_count": 367,
   "metadata": {},
   "outputs": [],
   "source": [
    "df2 = pd.DataFrame(shape)\n",
    "df2 = df2[[\"height\",\"width\", \"x\", \"y\"]]"
   ]
  },
  {
   "cell_type": "code",
   "execution_count": 368,
   "metadata": {},
   "outputs": [
    {
     "data": {
      "text/html": [
       "<div>\n",
       "<style scoped>\n",
       "    .dataframe tbody tr th:only-of-type {\n",
       "        vertical-align: middle;\n",
       "    }\n",
       "\n",
       "    .dataframe tbody tr th {\n",
       "        vertical-align: top;\n",
       "    }\n",
       "\n",
       "    .dataframe thead th {\n",
       "        text-align: right;\n",
       "    }\n",
       "</style>\n",
       "<table border=\"1\" class=\"dataframe\">\n",
       "  <thead>\n",
       "    <tr style=\"text-align: right;\">\n",
       "      <th></th>\n",
       "      <th>height</th>\n",
       "      <th>width</th>\n",
       "      <th>x</th>\n",
       "      <th>y</th>\n",
       "    </tr>\n",
       "  </thead>\n",
       "  <tbody>\n",
       "    <tr>\n",
       "      <th>0</th>\n",
       "      <td>104</td>\n",
       "      <td>92</td>\n",
       "      <td>175</td>\n",
       "      <td>41</td>\n",
       "    </tr>\n",
       "    <tr>\n",
       "      <th>1</th>\n",
       "      <td>181</td>\n",
       "      <td>139</td>\n",
       "      <td>111</td>\n",
       "      <td>162</td>\n",
       "    </tr>\n",
       "    <tr>\n",
       "      <th>2</th>\n",
       "      <td>136</td>\n",
       "      <td>156</td>\n",
       "      <td>76</td>\n",
       "      <td>119</td>\n",
       "    </tr>\n",
       "    <tr>\n",
       "      <th>3</th>\n",
       "      <td>279</td>\n",
       "      <td>261</td>\n",
       "      <td>72</td>\n",
       "      <td>100</td>\n",
       "    </tr>\n",
       "    <tr>\n",
       "      <th>4</th>\n",
       "      <td>171</td>\n",
       "      <td>164</td>\n",
       "      <td>115</td>\n",
       "      <td>58</td>\n",
       "    </tr>\n",
       "  </tbody>\n",
       "</table>\n",
       "</div>"
      ],
      "text/plain": [
       "   height  width    x    y\n",
       "0     104     92  175   41\n",
       "1     181    139  111  162\n",
       "2     136    156   76  119\n",
       "3     279    261   72  100\n",
       "4     171    164  115   58"
      ]
     },
     "execution_count": 368,
     "metadata": {},
     "output_type": "execute_result"
    }
   ],
   "source": [
    "df2.head()"
   ]
  },
  {
   "cell_type": "markdown",
   "metadata": {},
   "source": [
    "## Normalise height and width based on image size"
   ]
  },
  {
   "cell_type": "code",
   "execution_count": 369,
   "metadata": {},
   "outputs": [],
   "source": [
    "df2.height = df2.height.apply(lambda x: x/400)\n",
    "df2.width = df2.width.apply(lambda x: x/400)\n",
    "df2.x = df2.x.apply(lambda x: x/400)\n",
    "df2.y = df2.y.apply(lambda x: x/400)"
   ]
  },
  {
   "cell_type": "code",
   "execution_count": 370,
   "metadata": {},
   "outputs": [],
   "source": [
    "df2[\"log(h)\"]=df2.height.apply(lambda x: math.log(x))\n",
    "df2[\"log(w)\"]=df2.width.apply(lambda x: math.log(x))"
   ]
  },
  {
   "cell_type": "code",
   "execution_count": 371,
   "metadata": {},
   "outputs": [
    {
     "data": {
      "text/html": [
       "<div>\n",
       "<style scoped>\n",
       "    .dataframe tbody tr th:only-of-type {\n",
       "        vertical-align: middle;\n",
       "    }\n",
       "\n",
       "    .dataframe tbody tr th {\n",
       "        vertical-align: top;\n",
       "    }\n",
       "\n",
       "    .dataframe thead th {\n",
       "        text-align: right;\n",
       "    }\n",
       "</style>\n",
       "<table border=\"1\" class=\"dataframe\">\n",
       "  <thead>\n",
       "    <tr style=\"text-align: right;\">\n",
       "      <th></th>\n",
       "      <th>height</th>\n",
       "      <th>width</th>\n",
       "      <th>x</th>\n",
       "      <th>y</th>\n",
       "      <th>log(h)</th>\n",
       "      <th>log(w)</th>\n",
       "    </tr>\n",
       "  </thead>\n",
       "  <tbody>\n",
       "    <tr>\n",
       "      <th>0</th>\n",
       "      <td>0.2600</td>\n",
       "      <td>0.2300</td>\n",
       "      <td>0.4375</td>\n",
       "      <td>0.1025</td>\n",
       "      <td>-1.347074</td>\n",
       "      <td>-1.469676</td>\n",
       "    </tr>\n",
       "    <tr>\n",
       "      <th>1</th>\n",
       "      <td>0.4525</td>\n",
       "      <td>0.3475</td>\n",
       "      <td>0.2775</td>\n",
       "      <td>0.4050</td>\n",
       "      <td>-0.792968</td>\n",
       "      <td>-1.056991</td>\n",
       "    </tr>\n",
       "    <tr>\n",
       "      <th>2</th>\n",
       "      <td>0.3400</td>\n",
       "      <td>0.3900</td>\n",
       "      <td>0.1900</td>\n",
       "      <td>0.2975</td>\n",
       "      <td>-1.078810</td>\n",
       "      <td>-0.941609</td>\n",
       "    </tr>\n",
       "    <tr>\n",
       "      <th>3</th>\n",
       "      <td>0.6975</td>\n",
       "      <td>0.6525</td>\n",
       "      <td>0.1800</td>\n",
       "      <td>0.2500</td>\n",
       "      <td>-0.360253</td>\n",
       "      <td>-0.426944</td>\n",
       "    </tr>\n",
       "    <tr>\n",
       "      <th>4</th>\n",
       "      <td>0.4275</td>\n",
       "      <td>0.4100</td>\n",
       "      <td>0.2875</td>\n",
       "      <td>0.1450</td>\n",
       "      <td>-0.849801</td>\n",
       "      <td>-0.891598</td>\n",
       "    </tr>\n",
       "  </tbody>\n",
       "</table>\n",
       "</div>"
      ],
      "text/plain": [
       "   height   width       x       y    log(h)    log(w)\n",
       "0  0.2600  0.2300  0.4375  0.1025 -1.347074 -1.469676\n",
       "1  0.4525  0.3475  0.2775  0.4050 -0.792968 -1.056991\n",
       "2  0.3400  0.3900  0.1900  0.2975 -1.078810 -0.941609\n",
       "3  0.6975  0.6525  0.1800  0.2500 -0.360253 -0.426944\n",
       "4  0.4275  0.4100  0.2875  0.1450 -0.849801 -0.891598"
      ]
     },
     "execution_count": 371,
     "metadata": {},
     "output_type": "execute_result"
    }
   ],
   "source": [
    "df2.head()"
   ]
  },
  {
   "cell_type": "markdown",
   "metadata": {},
   "source": [
    "## Plot graphs for h vs w"
   ]
  },
  {
   "cell_type": "code",
   "execution_count": 372,
   "metadata": {},
   "outputs": [
    {
     "data": {
      "image/png": "[encoded data removed]",
      "text/plain": [
       "<Figure size 432x288 with 1 Axes>"
      ]
     },
     "metadata": {
      "needs_background": "light"
     },
     "output_type": "display_data"
    }
   ],
   "source": [
    "\n",
    "# plotting the points  \n",
    "plt.scatter(df2.width, df2.height) \n",
    "\n",
    "# naming the x axis \n",
    "plt.xlabel('width') \n",
    "# naming the y axis \n",
    "plt.ylabel('height') \n",
    "  \n",
    "# giving a title to my graph \n",
    "plt.title('h vs w graph') \n",
    "  \n",
    "# function to show the plot \n",
    "plt.show()"
   ]
  },
  {
   "cell_type": "code",
   "execution_count": 446,
   "metadata": {},
   "outputs": [
    {
     "data": {
      "image/png": "[encoded data removed]",
      "text/plain": [
       "<Figure size 432x288 with 1 Axes>"
      ]
     },
     "metadata": {
      "needs_background": "light"
     },
     "output_type": "display_data"
    }
   ],
   "source": [
    "\n",
    "# plotting the points  \n",
    "plt.scatter(df2[\"log(w)\"], df2[\"log(h)\"]) \n",
    "\n",
    "# naming the x axis \n",
    "plt.xlabel('log(width)') \n",
    "# naming the y axis \n",
    "plt.ylabel('log(height)') \n",
    "  \n",
    "# giving a title to my graph \n",
    "plt.title('log(h) vs log(w) graph') \n",
    "  \n",
    "# function to show the plot \n",
    "plt.show()"
   ]
  },
  {
   "cell_type": "markdown",
   "metadata": {},
   "source": [
    "## Calculate k-means clustering"
   ]
  },
  {
   "cell_type": "code",
   "execution_count": 375,
   "metadata": {},
   "outputs": [],
   "source": [
    "data = np.array([df2[\"width\"].tolist(),df2[\"height\"].tolist()]).T"
   ]
  },
  {
   "cell_type": "code",
   "execution_count": 416,
   "metadata": {},
   "outputs": [],
   "source": [
    "from sklearn.cluster import KMeans"
   ]
  },
  {
   "cell_type": "code",
   "execution_count": 428,
   "metadata": {},
   "outputs": [
    {
     "name": "stdout",
     "output_type": "stream",
     "text": [
      "Mean IOU = 81.50%\n",
      "Boxes:\n",
      " [[0.29883333 0.3295    ]\n",
      " [0.48361111 0.65666667]\n",
      " [0.2084     0.2295    ]\n",
      " [0.3971875  0.4730625 ]]\n"
     ]
    }
   ],
   "source": [
    "kmeans = KMeans(n_clusters=4)\n",
    "kmeans.fit(df2[[\"width\",\"height\"]])\n",
    "centroids = kmeans.cluster_centers_\n",
    "print(\"Mean IOU = {:.2f}%\".format(avg_iou(data, centroids) * 100))\n",
    "print(\"Boxes:\\n {}\".format(centroids))\n",
    "boxes = centroids"
   ]
  },
  {
   "cell_type": "code",
   "execution_count": 419,
   "metadata": {},
   "outputs": [
    {
     "data": {
      "image/png": "[encoded data removed]",
      "text/plain": [
       "<Figure size 360x360 with 1 Axes>"
      ]
     },
     "metadata": {
      "needs_background": "light"
     },
     "output_type": "display_data"
    }
   ],
   "source": [
    "fig = plt.figure(figsize=(5, 5))\n",
    "\n",
    "colmap = {1: 'r', 2: 'g', 3: 'b', 4:'y'}\n",
    "plt.scatter(df2['width'], df2['height'], alpha=0.3, edgecolor='k')\n",
    "for idx, centroid in enumerate(centroids):\n",
    "    plt.scatter(*centroid, color=colmap[idx+1],s=200)\n",
    "    \n",
    "# naming the x axis \n",
    "plt.xlabel('width') \n",
    "# naming the y axis \n",
    "plt.ylabel('height') \n",
    "  \n",
    "# giving a title to my graph \n",
    "plt.title('k-means') \n",
    "plt.show()"
   ]
  },
  {
   "cell_type": "markdown",
   "metadata": {},
   "source": [
    "## Plot Centroid vs Mean IOU graph"
   ]
  },
  {
   "cell_type": "code",
   "execution_count": 425,
   "metadata": {},
   "outputs": [],
   "source": [
    "def iou(box, clusters):\n",
    "    x = np.minimum(clusters[:, 0], box[0])\n",
    "    y = np.minimum(clusters[:, 1], box[1])\n",
    "    if np.count_nonzero(x == 0) > 0 or np.count_nonzero(y == 0) > 0:\n",
    "        raise ValueError(\"Box has no area\")\n",
    "\n",
    "    intersection = x * y\n",
    "    box_area = box[0] * box[1]\n",
    "    cluster_area = clusters[:, 0] * clusters[:, 1]\n",
    "\n",
    "    iou_ = intersection / (box_area + cluster_area - intersection)\n",
    "\n",
    "    return iou_\n",
    "\n",
    "\n",
    "def avg_iou(boxes, clusters):\n",
    "    return np.mean([np.max(iou(boxes[i], clusters)) for i in range(boxes.shape[0])])\n"
   ]
  },
  {
   "cell_type": "code",
   "execution_count": 426,
   "metadata": {},
   "outputs": [
    {
     "data": {
      "image/png": "[encoded data removed]",
      "text/plain": [
       "<Figure size 432x288 with 1 Axes>"
      ]
     },
     "metadata": {
      "needs_background": "light"
     },
     "output_type": "display_data"
    }
   ],
   "source": [
    "k=[]\n",
    "mean_iou=[]\n",
    "for i in range(2,15):\n",
    "    K = KMeans(i, random_state=1)\n",
    "    K.fit(data)\n",
    "    centroids = K.cluster_centers_\n",
    "    k.append(i)\n",
    "    mean_iou.append(avg_iou(data,centroids))\n",
    "\n",
    "\n",
    "# plotting the points  \n",
    "plt.plot(k, mean_iou,'-o',c='b',markeredgecolor='r') \n",
    "\n",
    "# naming the x axis \n",
    "plt.xlabel('No. of clusters') \n",
    "# naming the y axis \n",
    "plt.ylabel('Mean IOU') \n",
    "  \n",
    "# giving a title to my graph \n",
    "plt.title('Centroid vs Mean IOU graph') \n",
    "  \n",
    "# function to show the plot \n",
    "plt.show()"
   ]
  },
  {
   "cell_type": "markdown",
   "metadata": {},
   "source": [
    "## As we can see, the elbow is pointed at k=4 and k=7 "
   ]
  },
  {
   "cell_type": "code",
   "execution_count": 452,
   "metadata": {},
   "outputs": [
    {
     "data": {
      "text/plain": [
       "array([[0.29883333, 0.3295    ],\n",
       "       [0.48361111, 0.65666667],\n",
       "       [0.2084    , 0.2295    ],\n",
       "       [0.3971875 , 0.4730625 ]])"
      ]
     },
     "execution_count": 452,
     "metadata": {},
     "output_type": "execute_result"
    }
   ],
   "source": [
    "boxes"
   ]
  },
  {
   "cell_type": "code",
   "execution_count": 453,
   "metadata": {},
   "outputs": [],
   "source": [
    "plt.Rectangle((0., 0.), 0.4, 0.15, color='k', fill=True)\n",
    "plt.show()"
   ]
  },
  {
   "cell_type": "code",
   "execution_count": 464,
   "metadata": {},
   "outputs": [
    {
     "data": {
      "image/png": "[encoded data removed]",
      "text/plain": [
       "<Figure size 432x288 with 1 Axes>"
      ]
     },
     "metadata": {
      "needs_background": "light"
     },
     "output_type": "display_data"
    }
   ],
   "source": [
    "import matplotlib.pyplot as plt\n",
    "import matplotlib.patches as patches\n",
    "from PIL import Image\n",
    "import numpy as np\n",
    "\n",
    "im = np.array(Image.open('background.png'))\n",
    "\n",
    "# Create figure and axes\n",
    "fig,ax = plt.subplots(1)\n",
    "\n",
    "# Display the image\n",
    "ax.imshow(im)\n",
    "\n",
    "# Create a Rectangle patch\n",
    "rect = patches.Rectangle((0,0),40,30,linewidth=1,edgecolor='r',facecolor='none')\n",
    "\n",
    "# Add the patch to the Axes\n",
    "ax.add_patch(rect)\n",
    "\n",
    "plt.show()"
   ]
  },
  {
   "cell_type": "code",
   "execution_count": null,
   "metadata": {},
   "outputs": [],
   "source": []
  }
 ],
 "metadata": {
  "kernelspec": {
   "display_name": "Python 3",
   "language": "python",
   "name": "python3"
  },
  "language_info": {
   "codemirror_mode": {
    "name": "ipython",
    "version": 3
   },
   "file_extension": ".py",
   "mimetype": "text/x-python",
   "name": "python",
   "nbconvert_exporter": "python",
   "pygments_lexer": "ipython3",
   "version": "3.7.3"
  }
 },
 "nbformat": 4,
 "nbformat_minor": 2
}
