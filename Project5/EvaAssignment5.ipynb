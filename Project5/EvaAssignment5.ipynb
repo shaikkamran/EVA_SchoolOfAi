{
  "nbformat": 4,
  "nbformat_minor": 0,
  "metadata": {
    "colab": {
      "name": "EvaAssignment5.ipynb",
      "version": "0.3.2",
      "provenance": [],
      "collapsed_sections": []
    },
    "kernelspec": {
      "name": "python3",
      "display_name": "Python 3"
    },
    "accelerator": "GPU"
  },
  "cells": [
    {
      "cell_type": "markdown",
      "metadata": {
        "id": "aNyZv-Ec52ot",
        "colab_type": "text"
      },
      "source": [
        "# **Import Libraries and modules**"
      ]
    },
    {
      "cell_type": "code",
      "metadata": {
        "id": "Eso6UHE080D4",
        "colab_type": "code",
        "colab": {}
      },
      "source": [
        "import numpy as np\n",
        "\n",
        "from keras.models import Sequential\n",
        "from keras.layers import Dense, Dropout, Activation, Flatten, Add, BatchNormalization\n",
        "from keras.layers import Convolution2D, MaxPooling2D\n",
        "from keras.utils import np_utils\n",
        "from keras.datasets import mnist\n",
        "from keras.preprocessing.image import ImageDataGenerator"
      ],
      "execution_count": 0,
      "outputs": []
    },
    {
      "cell_type": "markdown",
      "metadata": {
        "id": "zByEi95J86RD",
        "colab_type": "text"
      },
      "source": [
        "### Load pre-shuffled MNIST data into train and test sets"
      ]
    },
    {
      "cell_type": "code",
      "metadata": {
        "id": "7eRM0QWN83PV",
        "colab_type": "code",
        "colab": {}
      },
      "source": [
        "(X_train, y_train), (X_test, y_test) = mnist.load_data()"
      ],
      "execution_count": 0,
      "outputs": []
    },
    {
      "cell_type": "code",
      "metadata": {
        "id": "4a4Be72j8-ZC",
        "colab_type": "code",
        "outputId": "3f2ffcd3-dab1-49a2-fcf3-f7fbb147ed98",
        "colab": {
          "base_uri": "https://localhost:8080/",
          "height": 304
        }
      },
      "source": [
        "print (X_train.shape)\n",
        "from matplotlib import pyplot as plt\n",
        "%matplotlib inline\n",
        "plt.imshow(X_train[0])"
      ],
      "execution_count": 44,
      "outputs": [
        {
          "output_type": "stream",
          "text": [
            "(60000, 28, 28)\n"
          ],
          "name": "stdout"
        },
        {
          "output_type": "execute_result",
          "data": {
            "text/plain": [
              "<matplotlib.image.AxesImage at 0x7f208b19f7f0>"
            ]
          },
          "metadata": {
            "tags": []
          },
          "execution_count": 44
        },
        {
          "output_type": "display_data",
          "data": {
            "image/png": "[encoded data removed]",
            "text/plain": [
              "<Figure size 432x288 with 1 Axes>"
            ]
          },
          "metadata": {
            "tags": []
          }
        }
      ]
    },
    {
      "cell_type": "code",
      "metadata": {
        "id": "8_yoUvwUpB-y",
        "colab_type": "code",
        "colab": {}
      },
      "source": [
        ""
      ],
      "execution_count": 0,
      "outputs": []
    },
    {
      "cell_type": "code",
      "metadata": {
        "id": "dkmprriw9AnZ",
        "colab_type": "code",
        "colab": {}
      },
      "source": [
        "X_train = X_train.reshape(X_train.shape[0], 28, 28,1)\n",
        "X_test = X_test.reshape(X_test.shape[0], 28, 28,1)"
      ],
      "execution_count": 0,
      "outputs": []
    },
    {
      "cell_type": "code",
      "metadata": {
        "id": "X2m4YS4E9CRh",
        "colab_type": "code",
        "colab": {}
      },
      "source": [
        "X_train = X_train.astype('float32')\n",
        "X_test = X_test.astype('float32')\n",
        "X_train /= 255\n",
        "X_test /= 255"
      ],
      "execution_count": 0,
      "outputs": []
    },
    {
      "cell_type": "code",
      "metadata": {
        "id": "WrnDXhwxn8G3",
        "colab_type": "code",
        "colab": {}
      },
      "source": [
        "datagen = ImageDataGenerator(featurewise_center=True, featurewise_std_normalization=True)\n",
        "# # calculate the mean on the training dataset\n",
        "# datagen.fit(X_train)\n",
        "# print('Data Generator mean=%.3f, std=%.3f' % (datagen.mean, datagen.std))\n",
        "# # demonstrate effect on a single batch of samples\n",
        "# iterator = datagen.flow(X_train, y_train, batch_size=128)\n",
        "# # get a batch\n",
        "# batchX, batchy = iterator.next()\n",
        "# # pixel stats in the batch\n",
        "# # print(batchX.shape, batchX.mean(), batchX.std())\n",
        "# # # demonstrate effect on entire training dataset\n",
        "# # iterator = datagen.flow(trainX, trainy, batch_size=len(trainX), shuffle=False)\n",
        "# # # get a batch\n",
        "# # batchX, batchy = iterator.next()\n",
        "# # # pixel stats in the batch\n",
        "# print(batchX.shape, batchX.mean(), batchX.std())"
      ],
      "execution_count": 0,
      "outputs": []
    },
    {
      "cell_type": "code",
      "metadata": {
        "id": "0Mn0vAYD9DvB",
        "colab_type": "code",
        "outputId": "6b37465d-680f-46ed-937a-32dbcee131b6",
        "colab": {
          "base_uri": "https://localhost:8080/",
          "height": 286
        }
      },
      "source": [
        "plt.imshow(batchX[2].reshape(28,28))"
      ],
      "execution_count": 48,
      "outputs": [
        {
          "output_type": "execute_result",
          "data": {
            "text/plain": [
              "<matplotlib.image.AxesImage at 0x7f208e1fc2e8>"
            ]
          },
          "metadata": {
            "tags": []
          },
          "execution_count": 48
        },
        {
          "output_type": "display_data",
          "data": {
            "image/png": "[encoded data removed]",
            "text/plain": [
              "<Figure size 432x288 with 1 Axes>"
            ]
          },
          "metadata": {
            "tags": []
          }
        }
      ]
    },
    {
      "cell_type": "code",
      "metadata": {
        "id": "ZG8JiXR39FHC",
        "colab_type": "code",
        "colab": {}
      },
      "source": [
        "# Convert 1-dimensional class arrays to 10-dimensional class matrices\n",
        "Y_train = np_utils.to_categorical(y_train, 10)\n",
        "Y_test = np_utils.to_categorical(y_test, 10)"
      ],
      "execution_count": 0,
      "outputs": []
    },
    {
      "cell_type": "code",
      "metadata": {
        "id": "fYlFRvKS9HMB",
        "colab_type": "code",
        "colab": {}
      },
      "source": [
        "# Y_train[:10]\n"
      ],
      "execution_count": 0,
      "outputs": []
    },
    {
      "cell_type": "markdown",
      "metadata": {
        "id": "6hj1u28JyqOB",
        "colab_type": "text"
      },
      "source": [
        "## Adding l2 regularization from every conv and Relu after BN\n",
        "\n",
        "\n",
        "\n"
      ]
    },
    {
      "cell_type": "code",
      "metadata": {
        "id": "zoT9jI-69Oeq",
        "colab_type": "code",
        "colab": {}
      },
      "source": [
        "from keras.regularizers import l2"
      ],
      "execution_count": 0,
      "outputs": []
    },
    {
      "cell_type": "code",
      "metadata": {
        "id": "Uz46b7lLzWuy",
        "colab_type": "code",
        "colab": {}
      },
      "source": [
        "def ConvBnDropout(model,size,dout=0.2,K=(3,3)):\n",
        "  \n",
        "  model.add(Convolution2D(size, kernel_size=K,kernel_regularizer=l2(0.01) ))\n",
        "  model.add(BatchNormalization())\n",
        "  model.add(Activation('relu'))\n",
        "  model.add(Dropout(dout))\n",
        "  return model  \n",
        "  \n",
        "  \n",
        "  "
      ],
      "execution_count": 0,
      "outputs": []
    },
    {
      "cell_type": "code",
      "metadata": {
        "id": "osKqT73Q9JJB",
        "colab_type": "code",
        "colab": {}
      },
      "source": [
        "from keras.layers import *"
      ],
      "execution_count": 0,
      "outputs": []
    },
    {
      "cell_type": "code",
      "metadata": {
        "id": "HeGqhm2y21Qx",
        "colab_type": "code",
        "outputId": "c2c3f8f3-bad6-49cd-dd9d-2fd94ac69ae6",
        "colab": {
          "base_uri": "https://localhost:8080/",
          "height": 72
        }
      },
      "source": [
        "\n",
        "model = Sequential()\n",
        "\n",
        " \n",
        "model.add(Convolution2D(10, 3, 3, activation='relu', input_shape=(28,28,1))) # 26\n",
        "model.add(BatchNormalization())\n",
        "\n",
        "model=ConvBnDropout(model,16)\n",
        "model=ConvBnDropout(model,24)\n",
        "\n",
        "model.add(MaxPooling2D(pool_size=(2, 2))) # 11\n",
        "model=ConvBnDropout(model,10,0,K=(1,1))\n",
        "\n",
        "model=ConvBnDropout(model,16)\n",
        "model=ConvBnDropout(model,16)\n",
        "model=ConvBnDropout(model,10)\n",
        "# model=ConvBnDropout(model,16)\n",
        "\n",
        "\n",
        "# model=ConvBnDropout(model,10,0,K=(1,1))\n",
        "\n",
        "model.add(Convolution2D(10, 5))\n",
        "model.add(Flatten())\n",
        "model.add(Activation('softmax'))"
      ],
      "execution_count": 75,
      "outputs": [
        {
          "output_type": "stream",
          "text": [
            "/usr/local/lib/python3.6/dist-packages/ipykernel_launcher.py:5: UserWarning: Update your `Conv2D` call to the Keras 2 API: `Conv2D(10, (3, 3), activation=\"relu\", input_shape=(28, 28, 1...)`\n",
            "  \"\"\"\n"
          ],
          "name": "stderr"
        }
      ]
    },
    {
      "cell_type": "code",
      "metadata": {
        "id": "TzdAYg1k9K7Z",
        "colab_type": "code",
        "outputId": "f2dffa0f-d490-44a5-fb29-193f13f7d1f6",
        "colab": {
          "base_uri": "https://localhost:8080/",
          "height": 1207
        }
      },
      "source": [
        "model.summary()"
      ],
      "execution_count": 76,
      "outputs": [
        {
          "output_type": "stream",
          "text": [
            "_________________________________________________________________\n",
            "Layer (type)                 Output Shape              Param #   \n",
            "=================================================================\n",
            "conv2d_27 (Conv2D)           (None, 26, 26, 10)        100       \n",
            "_________________________________________________________________\n",
            "batch_normalization_24 (Batc (None, 26, 26, 10)        40        \n",
            "_________________________________________________________________\n",
            "conv2d_28 (Conv2D)           (None, 24, 24, 16)        1456      \n",
            "_________________________________________________________________\n",
            "batch_normalization_25 (Batc (None, 24, 24, 16)        64        \n",
            "_________________________________________________________________\n",
            "activation_10 (Activation)   (None, 24, 24, 16)        0         \n",
            "_________________________________________________________________\n",
            "dropout_19 (Dropout)         (None, 24, 24, 16)        0         \n",
            "_________________________________________________________________\n",
            "conv2d_29 (Conv2D)           (None, 22, 22, 24)        3480      \n",
            "_________________________________________________________________\n",
            "batch_normalization_26 (Batc (None, 22, 22, 24)        96        \n",
            "_________________________________________________________________\n",
            "activation_11 (Activation)   (None, 22, 22, 24)        0         \n",
            "_________________________________________________________________\n",
            "dropout_20 (Dropout)         (None, 22, 22, 24)        0         \n",
            "_________________________________________________________________\n",
            "max_pooling2d_4 (MaxPooling2 (None, 11, 11, 24)        0         \n",
            "_________________________________________________________________\n",
            "conv2d_30 (Conv2D)           (None, 11, 11, 10)        250       \n",
            "_________________________________________________________________\n",
            "batch_normalization_27 (Batc (None, 11, 11, 10)        40        \n",
            "_________________________________________________________________\n",
            "activation_12 (Activation)   (None, 11, 11, 10)        0         \n",
            "_________________________________________________________________\n",
            "dropout_21 (Dropout)         (None, 11, 11, 10)        0         \n",
            "_________________________________________________________________\n",
            "conv2d_31 (Conv2D)           (None, 9, 9, 16)          1456      \n",
            "_________________________________________________________________\n",
            "batch_normalization_28 (Batc (None, 9, 9, 16)          64        \n",
            "_________________________________________________________________\n",
            "activation_13 (Activation)   (None, 9, 9, 16)          0         \n",
            "_________________________________________________________________\n",
            "dropout_22 (Dropout)         (None, 9, 9, 16)          0         \n",
            "_________________________________________________________________\n",
            "conv2d_32 (Conv2D)           (None, 7, 7, 16)          2320      \n",
            "_________________________________________________________________\n",
            "batch_normalization_29 (Batc (None, 7, 7, 16)          64        \n",
            "_________________________________________________________________\n",
            "activation_14 (Activation)   (None, 7, 7, 16)          0         \n",
            "_________________________________________________________________\n",
            "dropout_23 (Dropout)         (None, 7, 7, 16)          0         \n",
            "_________________________________________________________________\n",
            "conv2d_33 (Conv2D)           (None, 5, 5, 10)          1450      \n",
            "_________________________________________________________________\n",
            "batch_normalization_30 (Batc (None, 5, 5, 10)          40        \n",
            "_________________________________________________________________\n",
            "activation_15 (Activation)   (None, 5, 5, 10)          0         \n",
            "_________________________________________________________________\n",
            "dropout_24 (Dropout)         (None, 5, 5, 10)          0         \n",
            "_________________________________________________________________\n",
            "conv2d_34 (Conv2D)           (None, 1, 1, 10)          2510      \n",
            "_________________________________________________________________\n",
            "flatten_4 (Flatten)          (None, 10)                0         \n",
            "_________________________________________________________________\n",
            "activation_16 (Activation)   (None, 10)                0         \n",
            "=================================================================\n",
            "Total params: 13,430\n",
            "Trainable params: 13,226\n",
            "Non-trainable params: 204\n",
            "_________________________________________________________________\n"
          ],
          "name": "stdout"
        }
      ]
    },
    {
      "cell_type": "markdown",
      "metadata": {
        "id": "U_K3Qq8ML1IO",
        "colab_type": "text"
      },
      "source": [
        "Adding checkpoints "
      ]
    },
    {
      "cell_type": "code",
      "metadata": {
        "id": "U6BMWovKhJEW",
        "colab_type": "code",
        "colab": {}
      },
      "source": [
        "from keras.callbacks import ModelCheckpoint\n",
        "filepath=\"Best_weights.hdf5\"\n",
        "from keras.optimizers import Adam\n",
        "from keras.callbacks import LearningRateScheduler\n",
        "def scheduler(epoch, lr):\n",
        "  return round(0.005 * 1/(1 + 0.319 * epoch), 10)\n",
        "\n",
        "model.compile(loss='categorical_crossentropy', optimizer=Adam(lr=0.003), metrics=['accuracy'])\n",
        "checkpoint = ModelCheckpoint(filepath, monitor='val_acc', verbose=1, save_best_only=True, mode='max')\n",
        "\n",
        "# callbacks_list = [checkpoint]"
      ],
      "execution_count": 0,
      "outputs": []
    },
    {
      "cell_type": "code",
      "metadata": {
        "id": "ZqSciXq4r6Tw",
        "colab_type": "code",
        "outputId": "54ac0000-2994-4102-b665-47a8d58d3742",
        "colab": {
          "base_uri": "https://localhost:8080/",
          "height": 34
        }
      },
      "source": [
        "Y_train.shape"
      ],
      "execution_count": 64,
      "outputs": [
        {
          "output_type": "execute_result",
          "data": {
            "text/plain": [
              "(60000, 10)"
            ]
          },
          "metadata": {
            "tags": []
          },
          "execution_count": 64
        }
      ]
    },
    {
      "cell_type": "code",
      "metadata": {
        "id": "Zp6SuGrL9M3h",
        "colab_type": "code",
        "outputId": "4372d1d2-9efb-427f-bcba-328453d8b79f",
        "colab": {
          "base_uri": "https://localhost:8080/",
          "height": 2258
        }
      },
      "source": [
        "# model.fit(X_train, Y_train, batch_size=128, epochs=20, verbose=1, validation_data=(X_test, Y_test), callbacks=[checkpoint,LearningRateScheduler(scheduler, verbose=1)])\n",
        "model.fit_generator(datagen.flow(X_train, Y_train, batch_size=128),\n",
        "\tvalidation_data=(X_test, Y_test), steps_per_epoch=len(X_train) // 128,\n",
        "\tepochs=20,callbacks=[checkpoint,LearningRateScheduler(scheduler, verbose=1)])\n"
      ],
      "execution_count": 78,
      "outputs": [
        {
          "output_type": "stream",
          "text": [
            "Epoch 1/20\n"
          ],
          "name": "stdout"
        },
        {
          "output_type": "stream",
          "text": [
            "/usr/local/lib/python3.6/dist-packages/keras_preprocessing/image/image_data_generator.py:699: UserWarning: This ImageDataGenerator specifies `featurewise_center`, but it hasn't been fit on any training data. Fit it first by calling `.fit(numpy_data)`.\n",
            "  warnings.warn('This ImageDataGenerator specifies '\n",
            "/usr/local/lib/python3.6/dist-packages/keras_preprocessing/image/image_data_generator.py:707: UserWarning: This ImageDataGenerator specifies `featurewise_std_normalization`, but it hasn't been fit on any training data. Fit it first by calling `.fit(numpy_data)`.\n",
            "  warnings.warn('This ImageDataGenerator specifies '\n"
          ],
          "name": "stderr"
        },
        {
          "output_type": "stream",
          "text": [
            "\n",
            "Epoch 00001: LearningRateScheduler setting learning rate to 0.005.\n",
            "468/468 [==============================] - 12s 25ms/step - loss: 0.4796 - acc: 0.9172 - val_loss: 0.2347 - val_acc: 0.9610\n",
            "\n",
            "Epoch 00001: val_acc improved from -inf to 0.96100, saving model to Best_weights.hdf5\n",
            "Epoch 2/20\n",
            "\n",
            "Epoch 00002: LearningRateScheduler setting learning rate to 0.0037907506.\n",
            "468/468 [==============================] - 8s 17ms/step - loss: 0.1982 - acc: 0.9663 - val_loss: 0.2392 - val_acc: 0.9525\n",
            "\n",
            "Epoch 00002: val_acc did not improve from 0.96100\n",
            "Epoch 3/20\n",
            "\n",
            "Epoch 00003: LearningRateScheduler setting learning rate to 0.0030525031.\n",
            "468/468 [==============================] - 8s 17ms/step - loss: 0.1712 - acc: 0.9707 - val_loss: 0.1698 - val_acc: 0.9706\n",
            "\n",
            "Epoch 00003: val_acc improved from 0.96100 to 0.97060, saving model to Best_weights.hdf5\n",
            "Epoch 4/20\n",
            "\n",
            "Epoch 00004: LearningRateScheduler setting learning rate to 0.002554931.\n",
            "468/468 [==============================] - 8s 17ms/step - loss: 0.1529 - acc: 0.9728 - val_loss: 0.1336 - val_acc: 0.9814\n",
            "\n",
            "Epoch 00004: val_acc improved from 0.97060 to 0.98140, saving model to Best_weights.hdf5\n",
            "Epoch 5/20\n",
            "\n",
            "Epoch 00005: LearningRateScheduler setting learning rate to 0.0021968366.\n",
            "468/468 [==============================] - 8s 17ms/step - loss: 0.1363 - acc: 0.9756 - val_loss: 0.1401 - val_acc: 0.9743\n",
            "\n",
            "Epoch 00005: val_acc did not improve from 0.98140\n",
            "Epoch 6/20\n",
            "\n",
            "Epoch 00006: LearningRateScheduler setting learning rate to 0.0019267823.\n",
            "468/468 [==============================] - 8s 17ms/step - loss: 0.1275 - acc: 0.9770 - val_loss: 0.0989 - val_acc: 0.9854\n",
            "\n",
            "Epoch 00006: val_acc improved from 0.98140 to 0.98540, saving model to Best_weights.hdf5\n",
            "Epoch 7/20\n",
            "\n",
            "Epoch 00007: LearningRateScheduler setting learning rate to 0.0017158545.\n",
            "468/468 [==============================] - 8s 18ms/step - loss: 0.1185 - acc: 0.9780 - val_loss: 0.0964 - val_acc: 0.9852\n",
            "\n",
            "Epoch 00007: val_acc did not improve from 0.98540\n",
            "Epoch 8/20\n",
            "\n",
            "Epoch 00008: LearningRateScheduler setting learning rate to 0.0015465512.\n",
            "468/468 [==============================] - 9s 18ms/step - loss: 0.1108 - acc: 0.9794 - val_loss: 0.0897 - val_acc: 0.9862\n",
            "\n",
            "Epoch 00008: val_acc improved from 0.98540 to 0.98620, saving model to Best_weights.hdf5\n",
            "Epoch 9/20\n",
            "\n",
            "Epoch 00009: LearningRateScheduler setting learning rate to 0.0014076577.\n",
            "468/468 [==============================] - 8s 17ms/step - loss: 0.1044 - acc: 0.9804 - val_loss: 0.1418 - val_acc: 0.9680\n",
            "\n",
            "Epoch 00009: val_acc did not improve from 0.98620\n",
            "Epoch 10/20\n",
            "\n",
            "Epoch 00010: LearningRateScheduler setting learning rate to 0.0012916559.\n",
            "468/468 [==============================] - 8s 17ms/step - loss: 0.0997 - acc: 0.9816 - val_loss: 0.0899 - val_acc: 0.9831\n",
            "\n",
            "Epoch 00010: val_acc did not improve from 0.98620\n",
            "Epoch 11/20\n",
            "\n",
            "Epoch 00011: LearningRateScheduler setting learning rate to 0.0011933174.\n",
            "468/468 [==============================] - 8s 17ms/step - loss: 0.0944 - acc: 0.9813 - val_loss: 0.0723 - val_acc: 0.9892\n",
            "\n",
            "Epoch 00011: val_acc improved from 0.98620 to 0.98920, saving model to Best_weights.hdf5\n",
            "Epoch 12/20\n",
            "\n",
            "Epoch 00012: LearningRateScheduler setting learning rate to 0.0011088933.\n",
            "468/468 [==============================] - 8s 17ms/step - loss: 0.0938 - acc: 0.9818 - val_loss: 0.0867 - val_acc: 0.9838\n",
            "\n",
            "Epoch 00012: val_acc did not improve from 0.98920\n",
            "Epoch 13/20\n",
            "\n",
            "Epoch 00013: LearningRateScheduler setting learning rate to 0.0010356255.\n",
            "468/468 [==============================] - 8s 17ms/step - loss: 0.0892 - acc: 0.9827 - val_loss: 0.0791 - val_acc: 0.9854\n",
            "\n",
            "Epoch 00013: val_acc did not improve from 0.98920\n",
            "Epoch 14/20\n",
            "\n",
            "Epoch 00014: LearningRateScheduler setting learning rate to 0.0009714397.\n",
            "468/468 [==============================] - 8s 17ms/step - loss: 0.0859 - acc: 0.9832 - val_loss: 0.0691 - val_acc: 0.9892\n",
            "\n",
            "Epoch 00014: val_acc did not improve from 0.98920\n",
            "Epoch 15/20\n",
            "\n",
            "Epoch 00015: LearningRateScheduler setting learning rate to 0.0009147457.\n",
            "468/468 [==============================] - 8s 17ms/step - loss: 0.0805 - acc: 0.9845 - val_loss: 0.0676 - val_acc: 0.9870\n",
            "\n",
            "Epoch 00015: val_acc did not improve from 0.98920\n",
            "Epoch 16/20\n",
            "\n",
            "Epoch 00016: LearningRateScheduler setting learning rate to 0.0008643042.\n",
            "468/468 [==============================] - 8s 17ms/step - loss: 0.0814 - acc: 0.9834 - val_loss: 0.0663 - val_acc: 0.9896\n",
            "\n",
            "Epoch 00016: val_acc improved from 0.98920 to 0.98960, saving model to Best_weights.hdf5\n",
            "Epoch 17/20\n",
            "\n",
            "Epoch 00017: LearningRateScheduler setting learning rate to 0.000819135.\n",
            "468/468 [==============================] - 8s 18ms/step - loss: 0.0762 - acc: 0.9851 - val_loss: 0.0727 - val_acc: 0.9860\n",
            "\n",
            "Epoch 00017: val_acc did not improve from 0.98960\n",
            "Epoch 18/20\n",
            "\n",
            "Epoch 00018: LearningRateScheduler setting learning rate to 0.0007784524.\n",
            "468/468 [==============================] - 9s 18ms/step - loss: 0.0770 - acc: 0.9847 - val_loss: 0.0693 - val_acc: 0.9876\n",
            "\n",
            "Epoch 00018: val_acc did not improve from 0.98960\n",
            "Epoch 19/20\n",
            "\n",
            "Epoch 00019: LearningRateScheduler setting learning rate to 0.0007416197.\n",
            "468/468 [==============================] - 8s 17ms/step - loss: 0.0734 - acc: 0.9853 - val_loss: 0.0631 - val_acc: 0.9891\n",
            "\n",
            "Epoch 00019: val_acc did not improve from 0.98960\n",
            "Epoch 20/20\n",
            "\n",
            "Epoch 00020: LearningRateScheduler setting learning rate to 0.000708115.\n",
            "468/468 [==============================] - 8s 17ms/step - loss: 0.0715 - acc: 0.9855 - val_loss: 0.0555 - val_acc: 0.9908\n",
            "\n",
            "Epoch 00020: val_acc improved from 0.98960 to 0.99080, saving model to Best_weights.hdf5\n"
          ],
          "name": "stdout"
        },
        {
          "output_type": "execute_result",
          "data": {
            "text/plain": [
              "<keras.callbacks.History at 0x7f2065f817b8>"
            ]
          },
          "metadata": {
            "tags": []
          },
          "execution_count": 78
        }
      ]
    },
    {
      "cell_type": "code",
      "metadata": {
        "id": "9bhrOPwkyBa2",
        "colab_type": "code",
        "colab": {}
      },
      "source": [
        "def scheduler(epoch, lr):\n",
        "  return round(0.003 * 1/(1 + 0.319 * epoch), 10)\n",
        "\n",
        "# model.compile(loss='categorical_crossentropy', optimizer=Adam(lr=0.003), metrics=['accuracy'])\n"
      ],
      "execution_count": 0,
      "outputs": []
    },
    {
      "cell_type": "code",
      "metadata": {
        "id": "tMUdjFlarx2w",
        "colab_type": "code",
        "colab": {
          "base_uri": "https://localhost:8080/",
          "height": 2258
        },
        "outputId": "aca76471-dea7-4654-93de-3b6bc5003e3e"
      },
      "source": [
        "model.fit_generator(datagen.flow(X_train, Y_train, batch_size=128),\n",
        "\tvalidation_data=(X_test, Y_test), steps_per_epoch=len(X_train) // 128,\n",
        "\tepochs=20,callbacks=[checkpoint,LearningRateScheduler(scheduler, verbose=1)])\n"
      ],
      "execution_count": 82,
      "outputs": [
        {
          "output_type": "stream",
          "text": [
            "Epoch 1/20\n",
            "\n",
            "Epoch 00001: LearningRateScheduler setting learning rate to 0.003.\n",
            " 10/468 [..............................] - ETA: 9s - loss: 0.0972 - acc: 0.9766"
          ],
          "name": "stdout"
        },
        {
          "output_type": "stream",
          "text": [
            "/usr/local/lib/python3.6/dist-packages/keras_preprocessing/image/image_data_generator.py:699: UserWarning: This ImageDataGenerator specifies `featurewise_center`, but it hasn't been fit on any training data. Fit it first by calling `.fit(numpy_data)`.\n",
            "  warnings.warn('This ImageDataGenerator specifies '\n",
            "/usr/local/lib/python3.6/dist-packages/keras_preprocessing/image/image_data_generator.py:707: UserWarning: This ImageDataGenerator specifies `featurewise_std_normalization`, but it hasn't been fit on any training data. Fit it first by calling `.fit(numpy_data)`.\n",
            "  warnings.warn('This ImageDataGenerator specifies '\n"
          ],
          "name": "stderr"
        },
        {
          "output_type": "stream",
          "text": [
            "468/468 [==============================] - 8s 17ms/step - loss: 0.1408 - acc: 0.9750 - val_loss: 0.1204 - val_acc: 0.9802\n",
            "\n",
            "Epoch 00001: val_acc did not improve from 0.99080\n",
            "Epoch 2/20\n",
            "\n",
            "Epoch 00002: LearningRateScheduler setting learning rate to 0.0022744503.\n",
            "468/468 [==============================] - 8s 17ms/step - loss: 0.1168 - acc: 0.9801 - val_loss: 0.0948 - val_acc: 0.9861\n",
            "\n",
            "Epoch 00002: val_acc did not improve from 0.99080\n",
            "Epoch 3/20\n",
            "\n",
            "Epoch 00003: LearningRateScheduler setting learning rate to 0.0018315018.\n",
            "468/468 [==============================] - 8s 17ms/step - loss: 0.1048 - acc: 0.9819 - val_loss: 0.1075 - val_acc: 0.9786\n",
            "\n",
            "Epoch 00003: val_acc did not improve from 0.99080\n",
            "Epoch 4/20\n",
            "\n",
            "Epoch 00004: LearningRateScheduler setting learning rate to 0.0015329586.\n",
            "468/468 [==============================] - 8s 17ms/step - loss: 0.1008 - acc: 0.9817 - val_loss: 0.0782 - val_acc: 0.9876\n",
            "\n",
            "Epoch 00004: val_acc did not improve from 0.99080\n",
            "Epoch 5/20\n",
            "\n",
            "Epoch 00005: LearningRateScheduler setting learning rate to 0.0013181019.\n",
            "468/468 [==============================] - 8s 17ms/step - loss: 0.0954 - acc: 0.9822 - val_loss: 0.1158 - val_acc: 0.9774\n",
            "\n",
            "Epoch 00005: val_acc did not improve from 0.99080\n",
            "Epoch 6/20\n",
            "\n",
            "Epoch 00006: LearningRateScheduler setting learning rate to 0.0011560694.\n",
            "468/468 [==============================] - 8s 17ms/step - loss: 0.0879 - acc: 0.9837 - val_loss: 0.0741 - val_acc: 0.9874\n",
            "\n",
            "Epoch 00006: val_acc did not improve from 0.99080\n",
            "Epoch 7/20\n",
            "\n",
            "Epoch 00007: LearningRateScheduler setting learning rate to 0.0010295127.\n",
            "468/468 [==============================] - 8s 17ms/step - loss: 0.0846 - acc: 0.9835 - val_loss: 0.0683 - val_acc: 0.9892\n",
            "\n",
            "Epoch 00007: val_acc did not improve from 0.99080\n",
            "Epoch 8/20\n",
            "\n",
            "Epoch 00008: LearningRateScheduler setting learning rate to 0.0009279307.\n",
            "468/468 [==============================] - 8s 17ms/step - loss: 0.0792 - acc: 0.9847 - val_loss: 0.0652 - val_acc: 0.9897\n",
            "\n",
            "Epoch 00008: val_acc did not improve from 0.99080\n",
            "Epoch 9/20\n",
            "\n",
            "Epoch 00009: LearningRateScheduler setting learning rate to 0.0008445946.\n",
            "468/468 [==============================] - 9s 19ms/step - loss: 0.0782 - acc: 0.9838 - val_loss: 0.0844 - val_acc: 0.9824\n",
            "\n",
            "Epoch 00009: val_acc did not improve from 0.99080\n",
            "Epoch 10/20\n",
            "\n",
            "Epoch 00010: LearningRateScheduler setting learning rate to 0.0007749935.\n",
            "468/468 [==============================] - 8s 17ms/step - loss: 0.0736 - acc: 0.9846 - val_loss: 0.0611 - val_acc: 0.9889\n",
            "\n",
            "Epoch 00010: val_acc did not improve from 0.99080\n",
            "Epoch 11/20\n",
            "\n",
            "Epoch 00011: LearningRateScheduler setting learning rate to 0.0007159905.\n",
            "468/468 [==============================] - 8s 17ms/step - loss: 0.0690 - acc: 0.9856 - val_loss: 0.0528 - val_acc: 0.9909\n",
            "\n",
            "Epoch 00011: val_acc improved from 0.99080 to 0.99090, saving model to Best_weights.hdf5\n",
            "Epoch 12/20\n",
            "\n",
            "Epoch 00012: LearningRateScheduler setting learning rate to 0.000665336.\n",
            "468/468 [==============================] - 8s 17ms/step - loss: 0.0693 - acc: 0.9853 - val_loss: 0.0595 - val_acc: 0.9892\n",
            "\n",
            "Epoch 00012: val_acc did not improve from 0.99090\n",
            "Epoch 13/20\n",
            "\n",
            "Epoch 00013: LearningRateScheduler setting learning rate to 0.0006213753.\n",
            "468/468 [==============================] - 8s 17ms/step - loss: 0.0651 - acc: 0.9868 - val_loss: 0.0515 - val_acc: 0.9910\n",
            "\n",
            "Epoch 00013: val_acc improved from 0.99090 to 0.99100, saving model to Best_weights.hdf5\n",
            "Epoch 14/20\n",
            "\n",
            "Epoch 00014: LearningRateScheduler setting learning rate to 0.0005828638.\n",
            "468/468 [==============================] - 8s 17ms/step - loss: 0.0660 - acc: 0.9858 - val_loss: 0.0496 - val_acc: 0.9919\n",
            "\n",
            "Epoch 00014: val_acc improved from 0.99100 to 0.99190, saving model to Best_weights.hdf5\n",
            "Epoch 15/20\n",
            "\n",
            "Epoch 00015: LearningRateScheduler setting learning rate to 0.0005488474.\n",
            "468/468 [==============================] - 8s 17ms/step - loss: 0.0608 - acc: 0.9875 - val_loss: 0.0476 - val_acc: 0.9923\n",
            "\n",
            "Epoch 00015: val_acc improved from 0.99190 to 0.99230, saving model to Best_weights.hdf5\n",
            "Epoch 16/20\n",
            "\n",
            "Epoch 00016: LearningRateScheduler setting learning rate to 0.0005185825.\n",
            "468/468 [==============================] - 8s 17ms/step - loss: 0.0602 - acc: 0.9877 - val_loss: 0.0570 - val_acc: 0.9890\n",
            "\n",
            "Epoch 00016: val_acc did not improve from 0.99230\n",
            "Epoch 17/20\n",
            "\n",
            "Epoch 00017: LearningRateScheduler setting learning rate to 0.000491481.\n",
            "468/468 [==============================] - 8s 17ms/step - loss: 0.0576 - acc: 0.9883 - val_loss: 0.0530 - val_acc: 0.9902\n",
            "\n",
            "Epoch 00017: val_acc did not improve from 0.99230\n",
            "Epoch 18/20\n",
            "\n",
            "Epoch 00018: LearningRateScheduler setting learning rate to 0.0004670715.\n",
            "468/468 [==============================] - 8s 18ms/step - loss: 0.0563 - acc: 0.9884 - val_loss: 0.0546 - val_acc: 0.9902\n",
            "\n",
            "Epoch 00018: val_acc did not improve from 0.99230\n",
            "Epoch 19/20\n",
            "\n",
            "Epoch 00019: LearningRateScheduler setting learning rate to 0.0004449718.\n",
            "468/468 [==============================] - 9s 19ms/step - loss: 0.0551 - acc: 0.9884 - val_loss: 0.0552 - val_acc: 0.9887\n",
            "\n",
            "Epoch 00019: val_acc did not improve from 0.99230\n",
            "Epoch 20/20\n",
            "\n",
            "Epoch 00020: LearningRateScheduler setting learning rate to 0.000424869.\n",
            "468/468 [==============================] - 8s 17ms/step - loss: 0.0571 - acc: 0.9881 - val_loss: 0.0531 - val_acc: 0.9896\n",
            "\n",
            "Epoch 00020: val_acc did not improve from 0.99230\n"
          ],
          "name": "stdout"
        },
        {
          "output_type": "execute_result",
          "data": {
            "text/plain": [
              "<keras.callbacks.History at 0x7f20633c1e48>"
            ]
          },
          "metadata": {
            "tags": []
          },
          "execution_count": 82
        }
      ]
    },
    {
      "cell_type": "code",
      "metadata": {
        "id": "AtsH-lLk-eLb",
        "colab_type": "code",
        "colab": {}
      },
      "source": [
        "score = model.evaluate(X_test, Y_test, verbose=0)"
      ],
      "execution_count": 0,
      "outputs": []
    },
    {
      "cell_type": "code",
      "metadata": {
        "id": "mkX8JMv79q9r",
        "colab_type": "code",
        "outputId": "b7c254fe-bfc7-45bd-b365-c5c841a538aa",
        "colab": {
          "base_uri": "https://localhost:8080/",
          "height": 34
        }
      },
      "source": [
        "print(score)\n"
      ],
      "execution_count": 84,
      "outputs": [
        {
          "output_type": "stream",
          "text": [
            "[0.053122282722592354, 0.9896]\n"
          ],
          "name": "stdout"
        }
      ]
    },
    {
      "cell_type": "code",
      "metadata": {
        "id": "EgC7msp_QgK5",
        "colab_type": "code",
        "colab": {}
      },
      "source": [
        "from keras.callbacks import *"
      ],
      "execution_count": 0,
      "outputs": []
    },
    {
      "cell_type": "code",
      "metadata": {
        "id": "rpOtmVmwL9c9",
        "colab_type": "code",
        "outputId": "c905f7b1-4365-454d-ceff-4b6fba84e7f9",
        "colab": {
          "base_uri": "https://localhost:8080/",
          "height": 34
        }
      },
      "source": [
        "import keras\n",
        "model1=keras.models.load_model('Best_weights.hdf5')\n",
        "print(model1.evaluate(X_test, Y_test, verbose=0))"
      ],
      "execution_count": 86,
      "outputs": [
        {
          "output_type": "stream",
          "text": [
            "[0.04756727140843868, 0.9923]\n"
          ],
          "name": "stdout"
        }
      ]
    },
    {
      "cell_type": "code",
      "metadata": {
        "id": "HOEqN1IaQJ6i",
        "colab_type": "code",
        "colab": {
          "base_uri": "https://localhost:8080/",
          "height": 1547
        },
        "outputId": "8ab37a48-fbc7-48f7-afd2-8843f19910b1"
      },
      "source": [
        "reduce_lr = ReduceLROnPlateau(monitor='val_loss', factor=0.2,\n",
        "                              patience=5, min_lr=0.001)\n",
        "\n",
        "model.fit_generator(datagen.flow(X_train, Y_train, batch_size=128),\n",
        "\tvalidation_data=(X_test, Y_test), steps_per_epoch=len(X_train) // 128,\n",
        "\tepochs=20,callbacks=[checkpoint,reduce_lr])\n"
      ],
      "execution_count": 88,
      "outputs": [
        {
          "output_type": "stream",
          "text": [
            "Epoch 1/20\n",
            " 10/468 [..............................] - ETA: 8s - loss: 0.0689 - acc: 0.9852"
          ],
          "name": "stdout"
        },
        {
          "output_type": "stream",
          "text": [
            "/usr/local/lib/python3.6/dist-packages/keras_preprocessing/image/image_data_generator.py:699: UserWarning: This ImageDataGenerator specifies `featurewise_center`, but it hasn't been fit on any training data. Fit it first by calling `.fit(numpy_data)`.\n",
            "  warnings.warn('This ImageDataGenerator specifies '\n",
            "/usr/local/lib/python3.6/dist-packages/keras_preprocessing/image/image_data_generator.py:707: UserWarning: This ImageDataGenerator specifies `featurewise_std_normalization`, but it hasn't been fit on any training data. Fit it first by calling `.fit(numpy_data)`.\n",
            "  warnings.warn('This ImageDataGenerator specifies '\n"
          ],
          "name": "stderr"
        },
        {
          "output_type": "stream",
          "text": [
            "468/468 [==============================] - 8s 17ms/step - loss: 0.0550 - acc: 0.9877 - val_loss: 0.0461 - val_acc: 0.9911\n",
            "\n",
            "Epoch 00001: val_acc did not improve from 0.99230\n",
            "Epoch 2/20\n",
            "468/468 [==============================] - 8s 17ms/step - loss: 0.0529 - acc: 0.9883 - val_loss: 0.0441 - val_acc: 0.9911\n",
            "\n",
            "Epoch 00002: val_acc did not improve from 0.99230\n",
            "Epoch 3/20\n",
            "468/468 [==============================] - 8s 17ms/step - loss: 0.0544 - acc: 0.9881 - val_loss: 0.0463 - val_acc: 0.9916\n",
            "\n",
            "Epoch 00003: val_acc did not improve from 0.99230\n",
            "Epoch 4/20\n",
            "468/468 [==============================] - 9s 19ms/step - loss: 0.0521 - acc: 0.9891 - val_loss: 0.0612 - val_acc: 0.9867\n",
            "\n",
            "Epoch 00004: val_acc did not improve from 0.99230\n",
            "Epoch 5/20\n",
            "468/468 [==============================] - 8s 17ms/step - loss: 0.0540 - acc: 0.9880 - val_loss: 0.0478 - val_acc: 0.9904\n",
            "\n",
            "Epoch 00005: val_acc did not improve from 0.99230\n",
            "Epoch 6/20\n",
            "468/468 [==============================] - 8s 17ms/step - loss: 0.0526 - acc: 0.9883 - val_loss: 0.0430 - val_acc: 0.9926\n",
            "\n",
            "Epoch 00006: val_acc improved from 0.99230 to 0.99260, saving model to Best_weights.hdf5\n",
            "Epoch 7/20\n",
            "468/468 [==============================] - 8s 17ms/step - loss: 0.0541 - acc: 0.9882 - val_loss: 0.0455 - val_acc: 0.9912\n",
            "\n",
            "Epoch 00007: val_acc did not improve from 0.99260\n",
            "Epoch 8/20\n",
            "468/468 [==============================] - 8s 17ms/step - loss: 0.0526 - acc: 0.9886 - val_loss: 0.0442 - val_acc: 0.9922\n",
            "\n",
            "Epoch 00008: val_acc did not improve from 0.99260\n",
            "Epoch 9/20\n",
            "468/468 [==============================] - 8s 17ms/step - loss: 0.0527 - acc: 0.9890 - val_loss: 0.0573 - val_acc: 0.9882\n",
            "\n",
            "Epoch 00009: val_acc did not improve from 0.99260\n",
            "Epoch 10/20\n",
            "468/468 [==============================] - 8s 17ms/step - loss: 0.0536 - acc: 0.9888 - val_loss: 0.0419 - val_acc: 0.9926\n",
            "\n",
            "Epoch 00010: val_acc did not improve from 0.99260\n",
            "Epoch 11/20\n",
            "468/468 [==============================] - 8s 17ms/step - loss: 0.0530 - acc: 0.9885 - val_loss: 0.0473 - val_acc: 0.9906\n",
            "\n",
            "Epoch 00011: val_acc did not improve from 0.99260\n",
            "Epoch 12/20\n",
            "468/468 [==============================] - 8s 17ms/step - loss: 0.0551 - acc: 0.9877 - val_loss: 0.0455 - val_acc: 0.9910\n",
            "\n",
            "Epoch 00012: val_acc did not improve from 0.99260\n",
            "Epoch 13/20\n",
            "468/468 [==============================] - 8s 17ms/step - loss: 0.0511 - acc: 0.9889 - val_loss: 0.0558 - val_acc: 0.9890\n",
            "\n",
            "Epoch 00013: val_acc did not improve from 0.99260\n",
            "Epoch 14/20\n",
            "468/468 [==============================] - 9s 19ms/step - loss: 0.0529 - acc: 0.9884 - val_loss: 0.0417 - val_acc: 0.9917\n",
            "\n",
            "Epoch 00014: val_acc did not improve from 0.99260\n",
            "Epoch 15/20\n",
            "468/468 [==============================] - 8s 17ms/step - loss: 0.0529 - acc: 0.9886 - val_loss: 0.0437 - val_acc: 0.9918\n",
            "\n",
            "Epoch 00015: val_acc did not improve from 0.99260\n",
            "Epoch 16/20\n",
            "468/468 [==============================] - 8s 17ms/step - loss: 0.0529 - acc: 0.9884 - val_loss: 0.0410 - val_acc: 0.9929\n",
            "\n",
            "Epoch 00016: val_acc improved from 0.99260 to 0.99290, saving model to Best_weights.hdf5\n",
            "Epoch 17/20\n",
            "468/468 [==============================] - 8s 17ms/step - loss: 0.0516 - acc: 0.9892 - val_loss: 0.0603 - val_acc: 0.9875\n",
            "\n",
            "Epoch 00017: val_acc did not improve from 0.99290\n",
            "Epoch 18/20\n",
            "468/468 [==============================] - 8s 17ms/step - loss: 0.0527 - acc: 0.9886 - val_loss: 0.0471 - val_acc: 0.9910\n",
            "\n",
            "Epoch 00018: val_acc did not improve from 0.99290\n",
            "Epoch 19/20\n",
            "468/468 [==============================] - 8s 17ms/step - loss: 0.0534 - acc: 0.9882 - val_loss: 0.0509 - val_acc: 0.9902\n",
            "\n",
            "Epoch 00019: val_acc did not improve from 0.99290\n",
            "Epoch 20/20\n",
            "468/468 [==============================] - 8s 17ms/step - loss: 0.0528 - acc: 0.9886 - val_loss: 0.0483 - val_acc: 0.9901\n",
            "\n",
            "Epoch 00020: val_acc did not improve from 0.99290\n"
          ],
          "name": "stdout"
        },
        {
          "output_type": "execute_result",
          "data": {
            "text/plain": [
              "<keras.callbacks.History at 0x7f20633d0320>"
            ]
          },
          "metadata": {
            "tags": []
          },
          "execution_count": 88
        }
      ]
    },
    {
      "cell_type": "code",
      "metadata": {
        "id": "OCWoJkwE9suh",
        "colab_type": "code",
        "colab": {
          "base_uri": "https://localhost:8080/",
          "height": 34
        },
        "outputId": "2af145f7-0cb6-4dd3-9c20-30bf554252cf"
      },
      "source": [
        "model1=keras.models.load_model('Best_weights.hdf5')\n",
        "print(model1.evaluate(X_test, Y_test, verbose=0))\n",
        "y_pred = model1.predict(X_test)"
      ],
      "execution_count": 106,
      "outputs": [
        {
          "output_type": "stream",
          "text": [
            "[0.041015708714723584, 0.9929]\n"
          ],
          "name": "stdout"
        }
      ]
    },
    {
      "cell_type": "markdown",
      "metadata": {
        "id": "daxxt_k--_dk",
        "colab_type": "text"
      },
      "source": [
        "###  actual_y=storing the actual test image predictions </br> Y_pred storing the predicted values </br> idxs storing the index values which are misclassified \n",
        "        "
      ]
    },
    {
      "cell_type": "code",
      "metadata": {
        "id": "_Tz-8so20fxR",
        "colab_type": "code",
        "colab": {}
      },
      "source": [
        ""
      ],
      "execution_count": 0,
      "outputs": []
    },
    {
      "cell_type": "code",
      "metadata": {
        "id": "I6jlVzE40LzK",
        "colab_type": "code",
        "colab": {}
      },
      "source": [
        "Y_pred=[np.argmax(i) for i in y_pred]"
      ],
      "execution_count": 0,
      "outputs": []
    },
    {
      "cell_type": "code",
      "metadata": {
        "id": "esYPu-PQ0rB7",
        "colab_type": "code",
        "colab": {}
      },
      "source": [
        "actual_y=[i for i in y_test]"
      ],
      "execution_count": 0,
      "outputs": []
    },
    {
      "cell_type": "code",
      "metadata": {
        "id": "Du4IZGJh05RL",
        "colab_type": "code",
        "colab": {}
      },
      "source": [
        "ans=[i==j for i,j in zip(Y_pred,actual_y)]"
      ],
      "execution_count": 0,
      "outputs": []
    },
    {
      "cell_type": "code",
      "metadata": {
        "id": "nC59fpgN1s2u",
        "colab_type": "code",
        "colab": {}
      },
      "source": [
        "idxs=[]\n",
        "for i,j in enumerate(ans):\n",
        "  if j==False:\n",
        "    idxs.append(i)"
      ],
      "execution_count": 0,
      "outputs": []
    },
    {
      "cell_type": "code",
      "metadata": {
        "id": "pVKkSKle18nl",
        "colab_type": "code",
        "colab": {
          "base_uri": "https://localhost:8080/",
          "height": 34
        },
        "outputId": "460c868b-9e4c-4216-c10d-b39d6eb37f11"
      },
      "source": [
        "(1000-len(idxs))  / 1000  #which is the accuracy ,Hence we have correct set of misclassified images"
      ],
      "execution_count": 112,
      "outputs": [
        {
          "output_type": "execute_result",
          "data": {
            "text/plain": [
              "0.929"
            ]
          },
          "metadata": {
            "tags": []
          },
          "execution_count": 112
        }
      ]
    },
    {
      "cell_type": "markdown",
      "metadata": {
        "id": "fQoI9ggo3tUL",
        "colab_type": "text"
      },
      "source": [
        "##Visualizing and plotting misclassified images\n",
        "\n",
        "---\n",
        "\n"
      ]
    },
    {
      "cell_type": "code",
      "metadata": {
        "id": "VLXD4k8d251b",
        "colab_type": "code",
        "colab": {
          "base_uri": "https://localhost:8080/",
          "height": 357
        },
        "outputId": "716f5a1e-dd2d-49e5-fa8d-3f81b367820b"
      },
      "source": [
        "plt.imshow(X_test[idxs[0]].reshape(28,28)) \n",
        "print(\"Predicted Image Label   :\",Y_pred[idxs[0]],\"\\n\\nActual Image label:\",actual_y[idxs[0]],\"\\n\\nActual Image\")"
      ],
      "execution_count": 120,
      "outputs": [
        {
          "output_type": "stream",
          "text": [
            "Predicted Image Label   : 4 \n",
            "\n",
            "Actual Image label: 9 \n",
            "\n",
            "Actual Image\n"
          ],
          "name": "stdout"
        },
        {
          "output_type": "display_data",
          "data": {
            "image/png": "[encoded data removed]",
            "text/plain": [
              "<Figure size 432x288 with 1 Axes>"
            ]
          },
          "metadata": {
            "tags": []
          }
        }
      ]
    },
    {
      "cell_type": "code",
      "metadata": {
        "id": "7qUA2tW533wy",
        "colab_type": "code",
        "colab": {
          "base_uri": "https://localhost:8080/",
          "height": 874
        },
        "outputId": "ab9d5cd4-2150-4afb-9a3f-4f88ae20efb6"
      },
      "source": [
        "\n",
        "fig=plt.figure(figsize=(12, 12))\n",
        "columns = 5\n",
        "rows = 5\n",
        "for i in range(1, columns*rows+1 ):\n",
        "    img = X_test[idxs[i]].reshape(28,28)\n",
        "    Str=\"Actual :\"+str(actual_y[idxs[i]])+\"\\nPredicted:\"+str(Y_pred[idxs[i]])\n",
        "    fig.add_subplot(rows, columns, i,).set_title(Str)\n",
        "    plt.imshow(img,)\n",
        "\n",
        "plt.tight_layout(True)\n",
        "plt.show()"
      ],
      "execution_count": 141,
      "outputs": [
        {
          "output_type": "display_data",
          "data": {
            "image/png": "[encoded data removed]",
            "text/plain": [
              "<Figure size 864x864 with 25 Axes>"
            ]
          },
          "metadata": {
            "tags": []
          }
        }
      ]
    },
    {
      "cell_type": "code",
      "metadata": {
        "id": "Ym7iCFBm9uBs",
        "colab_type": "code",
        "outputId": "5230d034-f7a0-4431-ea7f-0382bb4f84ef",
        "colab": {
          "base_uri": "https://localhost:8080/",
          "height": 514
        }
      },
      "source": [
        "\n",
        "print(y_pred[:9])\n",
        "print(y_test[:9])"
      ],
      "execution_count": 90,
      "outputs": [
        {
          "output_type": "stream",
          "text": [
            "[[1.28103486e-10 8.13767713e-07 1.05855520e-06 1.45713159e-06\n",
            "  6.24948496e-11 5.15483967e-09 7.24867768e-17 9.99996543e-01\n",
            "  4.09871959e-09 8.91371954e-08]\n",
            " [9.92371724e-07 1.41378201e-04 9.99786198e-01 2.82476287e-09\n",
            "  2.65297928e-07 1.12266676e-08 7.08824009e-05 1.29671079e-10\n",
            "  2.15540084e-07 3.01963288e-10]\n",
            " [1.30583002e-08 9.99981999e-01 8.73189583e-06 1.24557420e-10\n",
            "  3.81983091e-06 7.37717983e-07 1.48181198e-06 2.96654093e-06\n",
            "  7.96029127e-08 9.96461864e-08]\n",
            " [9.99583185e-01 1.17328425e-10 4.42014834e-06 1.19671441e-07\n",
            "  1.83267116e-06 9.08927177e-06 2.84149515e-04 1.54677355e-08\n",
            "  4.09307950e-06 1.13118949e-04]\n",
            " [2.42948110e-11 6.38671427e-09 1.59939670e-08 2.72858125e-11\n",
            "  9.99957442e-01 5.42630732e-11 1.25621922e-08 2.53963583e-09\n",
            "  9.48173948e-08 4.24950995e-05]\n",
            " [2.01775308e-08 9.99979496e-01 8.02269733e-06 5.77243670e-11\n",
            "  5.77076162e-06 3.10888083e-07 1.43706040e-06 4.70576060e-06\n",
            "  1.40250975e-07 9.36974729e-08]\n",
            " [1.12478874e-13 9.80733312e-05 6.36912105e-08 3.62581076e-09\n",
            "  9.99338806e-01 4.00761095e-08 1.30578437e-12 3.68732755e-04\n",
            "  1.18501041e-04 7.58316164e-05]\n",
            " [5.76707407e-06 1.90414468e-07 5.62479363e-06 8.21135745e-06\n",
            "  1.89621579e-02 6.96725183e-05 7.55687708e-08 1.57766815e-04\n",
            "  2.17197041e-04 9.80573356e-01]\n",
            " [4.14064743e-06 8.16525798e-08 9.49755304e-06 3.55723605e-05\n",
            "  7.59040120e-08 9.80829179e-01 1.49542242e-02 1.67506107e-06\n",
            "  4.15393198e-03 1.15754929e-05]]\n",
            "[7 2 1 0 4 1 4 9 5]\n"
          ],
          "name": "stdout"
        }
      ]
    },
    {
      "cell_type": "code",
      "metadata": {
        "id": "CT--y98_dr2T",
        "colab_type": "code",
        "colab": {}
      },
      "source": [
        "layer_dict = dict([(layer.name, layer) for layer in model.layers])"
      ],
      "execution_count": 0,
      "outputs": []
    },
    {
      "cell_type": "code",
      "metadata": {
        "id": "2GY4Upv4dsUR",
        "colab_type": "code",
        "colab": {}
      },
      "source": [
        "import numpy as np\n",
        "from matplotlib import pyplot as plt\n",
        "from keras import backend as K\n",
        "%matplotlib inline\n",
        "# util function to convert a tensor into a valid image\n",
        "def deprocess_image(x):\n",
        "    # normalize tensor: center on 0., ensure std is 0.1\n",
        "    x -= x.mean()\n",
        "    x /= (x.std() + 1e-5)\n",
        "    x *= 0.1\n",
        "\n",
        "    # clip to [0, 1]\n",
        "    x += 0.5\n",
        "    x = np.clip(x, 0, 1)\n",
        "\n",
        "    # convert to RGB array\n",
        "    x *= 255\n",
        "    #x = x.transpose((1, 2, 0))\n",
        "    x = np.clip(x, 0, 255).astype('uint8')\n",
        "    return x\n",
        "\n",
        "def vis_img_in_filter(img = np.array(X_train[2]).reshape((1, 28, 28, 1)).astype(np.float64), \n",
        "                      layer_name = 'conv2d_24'):\n",
        "    layer_output = layer_dict[layer_name].output\n",
        "    img_ascs = list()\n",
        "    for filter_index in range(layer_output.shape[3]):\n",
        "        # build a loss function that maximizes the activation\n",
        "        # of the nth filter of the layer considered\n",
        "        loss = K.mean(layer_output[:, :, :, filter_index])\n",
        "\n",
        "        # compute the gradient of the input picture wrt this loss\n",
        "        grads = K.gradients(loss, model.input)[0]\n",
        "\n",
        "        # normalization trick: we normalize the gradient\n",
        "        grads /= (K.sqrt(K.mean(K.square(grads))) + 1e-5)\n",
        "\n",
        "        # this function returns the loss and grads given the input picture\n",
        "        iterate = K.function([model.input], [loss, grads])\n",
        "\n",
        "        # step size for gradient ascent\n",
        "        step = 5.\n",
        "\n",
        "        img_asc = np.array(img)\n",
        "        # run gradient ascent for 20 steps\n",
        "        for i in range(20):\n",
        "            loss_value, grads_value = iterate([img_asc])\n",
        "            img_asc += grads_value * step\n",
        "\n",
        "        img_asc = img_asc[0]\n",
        "        img_ascs.append(deprocess_image(img_asc).reshape((28, 28)))\n",
        "        \n",
        "    if layer_output.shape[3] >= 35:\n",
        "        plot_x, plot_y = 6, 6\n",
        "    elif layer_output.shape[3] >= 23:\n",
        "        plot_x, plot_y = 4, 6\n",
        "    elif layer_output.shape[3] >= 11:\n",
        "        plot_x, plot_y = 2, 6\n",
        "    else:\n",
        "        plot_x, plot_y = 1, 2\n",
        "    fig, ax = plt.subplots(plot_x, plot_y, figsize = (12, 12))\n",
        "    ax[0, 0].imshow(img.reshape((28, 28)), cmap = 'gray')\n",
        "    ax[0, 0].set_title('Input image')\n",
        "    fig.suptitle('Input image and %s filters' % (layer_name,))\n",
        "    fig.tight_layout(pad = 0.3, rect = [0, 0, 0.9, 0.9])\n",
        "    for (x, y) in [(i, j) for i in range(plot_x) for j in range(plot_y)]:\n",
        "        if x == 0 and y == 0:\n",
        "            continue\n",
        "        ax[x, y].imshow(img_ascs[x * plot_y + y - 1], cmap = 'gray')\n",
        "        ax[x, y].set_title('filter %d' % (x * plot_y + y - 1))\n",
        "\n",
        "vis_img_in_filter()"
      ],
      "execution_count": 0,
      "outputs": []
    },
    {
      "cell_type": "code",
      "metadata": {
        "id": "9tvptcn8dxvp",
        "colab_type": "code",
        "colab": {}
      },
      "source": [
        ""
      ],
      "execution_count": 0,
      "outputs": []
    }
  ]
}