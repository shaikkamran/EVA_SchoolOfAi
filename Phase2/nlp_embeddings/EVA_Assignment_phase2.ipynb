{
  "nbformat": 4,
  "nbformat_minor": 0,
  "metadata": {
    "colab": {
      "name": "EVA_Assignment_phase2.ipynb",
      "provenance": [],
      "collapsed_sections": []
    },
    "kernelspec": {
      "name": "python3",
      "display_name": "Python 3"
    },
    "accelerator": "GPU"
  },
  "cells": [
    {
      "cell_type": "code",
      "metadata": {
        "id": "hJAVBWX4m1db",
        "colab_type": "code",
        "colab": {}
      },
      "source": [
        "from google.colab import drive"
      ],
      "execution_count": 0,
      "outputs": []
    },
    {
      "cell_type": "code",
      "metadata": {
        "id": "qAbM3-uHzWr3",
        "colab_type": "code",
        "outputId": "2a16cfa7-44fc-4cdf-889f-827da4b5c261",
        "colab": {
          "base_uri": "https://localhost:8080/",
          "height": 118
        }
      },
      "source": [
        "drive.mount(\"/gdrive/\")"
      ],
      "execution_count": 3,
      "outputs": [
        {
          "output_type": "stream",
          "text": [
            "Go to this URL in a browser: https://accounts.google.com/o/oauth2/auth?client_id=947318989803-6bn6qk8qdgf4n4g3pfee6491hc0brc4i.apps.googleusercontent.com&redirect_uri=urn%3aietf%3awg%3aoauth%3a2.0%3aoob&response_type=code&scope=email%20https%3a%2f%2fwww.googleapis.com%2fauth%2fdocs.test%20https%3a%2f%2fwww.googleapis.com%2fauth%2fdrive%20https%3a%2f%2fwww.googleapis.com%2fauth%2fdrive.photos.readonly%20https%3a%2f%2fwww.googleapis.com%2fauth%2fpeopleapi.readonly\n",
            "\n",
            "Enter your authorization code:\n",
            "··········\n",
            "Mounted at /gdrive/\n"
          ],
          "name": "stdout"
        }
      ]
    },
    {
      "cell_type": "code",
      "metadata": {
        "id": "Snc0KU2Nza8f",
        "colab_type": "code",
        "outputId": "343d4d23-daf8-4853-bffb-3ee6f38b0235",
        "colab": {
          "base_uri": "https://localhost:8080/",
          "height": 33
        }
      },
      "source": [
        "# !mkdir /gdrive/\"My Drive\"/EVA_phase2/\n",
        "%cd /gdrive/\"My Drive\"/EVA_phase2/\n"
      ],
      "execution_count": 4,
      "outputs": [
        {
          "output_type": "stream",
          "text": [
            "/gdrive/My Drive/EVA_phase2\n"
          ],
          "name": "stdout"
        }
      ]
    },
    {
      "cell_type": "code",
      "metadata": {
        "id": "akTEHUvOhBkv",
        "colab_type": "code",
        "outputId": "55b218eb-8b20-4e34-d4ee-9c986d2937e0",
        "colab": {
          "base_uri": "https://localhost:8080/",
          "height": 196
        }
      },
      "source": [
        "# !wget --header=\"Host: s3.amazonaws.com\" --header=\"User-Agent: Mozilla/5.0 (X11; Linux x86_64) AppleWebKit/537.36 (KHTML, like Gecko) Chrome/79.0.3945.88 Safari/537.36\" --header=\"Accept: text/html,application/xhtml+xml,application/xml;q=0.9,image/webp,image/apng,*/*;q=0.8,application/signed-exchange;v=b3;q=0.9\" --header=\"Accept-Language: en-GB,en-US;q=0.9,en;q=0.8\" \"http://s3.amazonaws.com/text-datasets/aclImdb.zip\" -O \"aclImdb.zip\" -c"
      ],
      "execution_count": 0,
      "outputs": [
        {
          "output_type": "stream",
          "text": [
            "--2020-01-20 05:54:39--  http://s3.amazonaws.com/text-datasets/aclImdb.zip\n",
            "Resolving s3.amazonaws.com (s3.amazonaws.com)... 52.217.32.30\n",
            "Connecting to s3.amazonaws.com (s3.amazonaws.com)|52.217.32.30|:80... connected.\n",
            "HTTP request sent, awaiting response... 200 OK\n",
            "Length: 60711700 (58M) [application/zip]\n",
            "Saving to: ‘aclImdb.zip’\n",
            "\n",
            "aclImdb.zip         100%[===================>]  57.90M  24.6MB/s    in 2.4s    \n",
            "\n",
            "2020-01-20 05:54:41 (24.6 MB/s) - ‘aclImdb.zip’ saved [60711700/60711700]\n",
            "\n"
          ],
          "name": "stdout"
        }
      ]
    },
    {
      "cell_type": "code",
      "metadata": {
        "id": "TZrWQRt6stW5",
        "colab_type": "code",
        "outputId": "bc0178e5-0d1f-4115-bc8a-67eacdc8bc4b",
        "colab": {
          "base_uri": "https://localhost:8080/",
          "height": 33
        }
      },
      "source": [
        "!ls datasets/"
      ],
      "execution_count": 5,
      "outputs": [
        {
          "output_type": "stream",
          "text": [
            "aclImdb.zip  imdb_dataset.pickle  imdb.npz\n"
          ],
          "name": "stdout"
        }
      ]
    },
    {
      "cell_type": "code",
      "metadata": {
        "id": "1dP4xV-D1mGs",
        "colab_type": "code",
        "outputId": "2a7d0e32-e4c0-484d-a9a9-ec187fbaaef7",
        "colab": {
          "base_uri": "https://localhost:8080/",
          "height": 77
        }
      },
      "source": [
        "import numpy as np\n",
        "from numpy import load\n",
        "from keras.preprocessing.text import Tokenizer\n",
        "from keras.preprocessing.sequence import pad_sequences\n",
        "import pickle"
      ],
      "execution_count": 6,
      "outputs": [
        {
          "output_type": "stream",
          "text": [
            "Using TensorFlow backend.\n"
          ],
          "name": "stderr"
        },
        {
          "output_type": "display_data",
          "data": {
            "text/html": [
              "<p style=\"color: red;\">\n",
              "The default version of TensorFlow in Colab will soon switch to TensorFlow 2.x.<br>\n",
              "We recommend you <a href=\"https://www.tensorflow.org/guide/migrate\" target=\"_blank\">upgrade</a> now \n",
              "or ensure your notebook will continue to use TensorFlow 1.x via the <code>%tensorflow_version 1.x</code> magic:\n",
              "<a href=\"https://colab.research.google.com/notebooks/tensorflow_version.ipynb\" target=\"_blank\">more info</a>.</p>\n"
            ],
            "text/plain": [
              "<IPython.core.display.HTML object>"
            ]
          },
          "metadata": {
            "tags": []
          }
        }
      ]
    },
    {
      "cell_type": "code",
      "metadata": {
        "id": "hPHwmTPw2hXw",
        "colab_type": "code",
        "colab": {}
      },
      "source": [
        "with open(\"datasets/imdb_dataset.pickle\",\"rb\") as file:\n",
        "  data=pickle.load(file)"
      ],
      "execution_count": 0,
      "outputs": []
    },
    {
      "cell_type": "markdown",
      "metadata": {
        "id": "5XxPRgr-Ew2F",
        "colab_type": "text"
      },
      "source": [
        "## data object is a tuple of train and test split 50-50 (25000 sentences)"
      ]
    },
    {
      "cell_type": "code",
      "metadata": {
        "id": "7iVRuXke4kkF",
        "colab_type": "code",
        "outputId": "9cd03871-7b15-4b8b-f4be-799097170a7d",
        "colab": {
          "base_uri": "https://localhost:8080/",
          "height": 33
        }
      },
      "source": [
        "data[0][1][:10]"
      ],
      "execution_count": 8,
      "outputs": [
        {
          "output_type": "execute_result",
          "data": {
            "text/plain": [
              "['pos', 'pos', 'pos', 'pos', 'pos', 'pos', 'pos', 'pos', 'pos', 'pos']"
            ]
          },
          "metadata": {
            "tags": []
          },
          "execution_count": 8
        }
      ]
    },
    {
      "cell_type": "code",
      "metadata": {
        "id": "evC4VX4MekcK",
        "colab_type": "code",
        "colab": {}
      },
      "source": [
        "import pandas as pd"
      ],
      "execution_count": 0,
      "outputs": []
    },
    {
      "cell_type": "code",
      "metadata": {
        "id": "w5dXs_8kNGWH",
        "colab_type": "code",
        "colab": {}
      },
      "source": [
        "texts=data[0][0]+data[1][0]\n",
        "labels=data[0][1]+data[1][1]"
      ],
      "execution_count": 0,
      "outputs": []
    },
    {
      "cell_type": "code",
      "metadata": {
        "id": "ELWCS1n3empn",
        "colab_type": "code",
        "colab": {}
      },
      "source": [
        "df=pd.DataFrame({\"texts\":texts,\"topics\":labels})"
      ],
      "execution_count": 0,
      "outputs": []
    },
    {
      "cell_type": "code",
      "metadata": {
        "id": "Cmfovusue4YT",
        "colab_type": "code",
        "outputId": "ccc86361-7362-4e89-defc-e85ac6837ab6",
        "colab": {
          "base_uri": "https://localhost:8080/",
          "height": 191
        }
      },
      "source": [
        "df.head()"
      ],
      "execution_count": 12,
      "outputs": [
        {
          "output_type": "execute_result",
          "data": {
            "text/html": [
              "<div>\n",
              "<style scoped>\n",
              "    .dataframe tbody tr th:only-of-type {\n",
              "        vertical-align: middle;\n",
              "    }\n",
              "\n",
              "    .dataframe tbody tr th {\n",
              "        vertical-align: top;\n",
              "    }\n",
              "\n",
              "    .dataframe thead th {\n",
              "        text-align: right;\n",
              "    }\n",
              "</style>\n",
              "<table border=\"1\" class=\"dataframe\">\n",
              "  <thead>\n",
              "    <tr style=\"text-align: right;\">\n",
              "      <th></th>\n",
              "      <th>texts</th>\n",
              "      <th>topics</th>\n",
              "    </tr>\n",
              "  </thead>\n",
              "  <tbody>\n",
              "    <tr>\n",
              "      <th>0</th>\n",
              "      <td>For anyone who liked the series this movie wil...</td>\n",
              "      <td>pos</td>\n",
              "    </tr>\n",
              "    <tr>\n",
              "      <th>1</th>\n",
              "      <td>I sell the dead revolves around convicted grav...</td>\n",
              "      <td>pos</td>\n",
              "    </tr>\n",
              "    <tr>\n",
              "      <th>2</th>\n",
              "      <td>This film is a very descent remake of the famo...</td>\n",
              "      <td>pos</td>\n",
              "    </tr>\n",
              "    <tr>\n",
              "      <th>3</th>\n",
              "      <td>Joseph Conrad's timeless novel, Heart of Darkn...</td>\n",
              "      <td>pos</td>\n",
              "    </tr>\n",
              "    <tr>\n",
              "      <th>4</th>\n",
              "      <td>The Closer She Gets... is an artful documentar...</td>\n",
              "      <td>pos</td>\n",
              "    </tr>\n",
              "  </tbody>\n",
              "</table>\n",
              "</div>"
            ],
            "text/plain": [
              "                                               texts topics\n",
              "0  For anyone who liked the series this movie wil...    pos\n",
              "1  I sell the dead revolves around convicted grav...    pos\n",
              "2  This film is a very descent remake of the famo...    pos\n",
              "3  Joseph Conrad's timeless novel, Heart of Darkn...    pos\n",
              "4  The Closer She Gets... is an artful documentar...    pos"
            ]
          },
          "metadata": {
            "tags": []
          },
          "execution_count": 12
        }
      ]
    },
    {
      "cell_type": "code",
      "metadata": {
        "id": "6HAIvLwdM3AB",
        "colab_type": "code",
        "colab": {}
      },
      "source": [
        "maxlen = 100 # cuts off reviews after 100 words\n",
        "training_samples = 40000 # train only on 200 samples\n",
        "validation_samples = 10000\n",
        "max_words = 124252\n",
        "\n",
        "tokenizer = Tokenizer(num_words=max_words)\n",
        "tokenizer.fit_on_texts(texts)\n"
      ],
      "execution_count": 0,
      "outputs": []
    },
    {
      "cell_type": "code",
      "metadata": {
        "id": "RlxRTrOlQA0U",
        "colab_type": "code",
        "colab": {}
      },
      "source": [
        "df[\"labels\"]=df[\"topics\"].map({\"pos\":1,\"neg\":0})"
      ],
      "execution_count": 0,
      "outputs": []
    },
    {
      "cell_type": "code",
      "metadata": {
        "id": "TsbCcepRfckj",
        "colab_type": "code",
        "outputId": "25c331e8-c6ac-402e-b3ac-f2965e46ee91",
        "colab": {
          "base_uri": "https://localhost:8080/",
          "height": 191
        }
      },
      "source": [
        "df=df.sample(frac=1).reset_index(drop=True)\n",
        "df.head()"
      ],
      "execution_count": 20,
      "outputs": [
        {
          "output_type": "execute_result",
          "data": {
            "text/html": [
              "<div>\n",
              "<style scoped>\n",
              "    .dataframe tbody tr th:only-of-type {\n",
              "        vertical-align: middle;\n",
              "    }\n",
              "\n",
              "    .dataframe tbody tr th {\n",
              "        vertical-align: top;\n",
              "    }\n",
              "\n",
              "    .dataframe thead th {\n",
              "        text-align: right;\n",
              "    }\n",
              "</style>\n",
              "<table border=\"1\" class=\"dataframe\">\n",
              "  <thead>\n",
              "    <tr style=\"text-align: right;\">\n",
              "      <th></th>\n",
              "      <th>texts</th>\n",
              "      <th>topics</th>\n",
              "      <th>labels</th>\n",
              "    </tr>\n",
              "  </thead>\n",
              "  <tbody>\n",
              "    <tr>\n",
              "      <th>0</th>\n",
              "      <td>If \"B\" movies, tired and corny scripts, and go...</td>\n",
              "      <td>neg</td>\n",
              "      <td>0</td>\n",
              "    </tr>\n",
              "    <tr>\n",
              "      <th>1</th>\n",
              "      <td>Prue and Piper bring Dr. Griffiths to their ho...</td>\n",
              "      <td>pos</td>\n",
              "      <td>1</td>\n",
              "    </tr>\n",
              "    <tr>\n",
              "      <th>2</th>\n",
              "      <td>This documentary was very thorough and exposin...</td>\n",
              "      <td>pos</td>\n",
              "      <td>1</td>\n",
              "    </tr>\n",
              "    <tr>\n",
              "      <th>3</th>\n",
              "      <td>THE DEADLY MANTIS certainly won't scare any on...</td>\n",
              "      <td>neg</td>\n",
              "      <td>0</td>\n",
              "    </tr>\n",
              "    <tr>\n",
              "      <th>4</th>\n",
              "      <td>OK, so one night me and some friends decided t...</td>\n",
              "      <td>neg</td>\n",
              "      <td>0</td>\n",
              "    </tr>\n",
              "  </tbody>\n",
              "</table>\n",
              "</div>"
            ],
            "text/plain": [
              "                                               texts topics  labels\n",
              "0  If \"B\" movies, tired and corny scripts, and go...    neg       0\n",
              "1  Prue and Piper bring Dr. Griffiths to their ho...    pos       1\n",
              "2  This documentary was very thorough and exposin...    pos       1\n",
              "3  THE DEADLY MANTIS certainly won't scare any on...    neg       0\n",
              "4  OK, so one night me and some friends decided t...    neg       0"
            ]
          },
          "metadata": {
            "tags": []
          },
          "execution_count": 20
        }
      ]
    },
    {
      "cell_type": "markdown",
      "metadata": {
        "id": "ZGKDfe6ANt08",
        "colab_type": "text"
      },
      "source": [
        "## word_index is a dictionary of word_to_idx"
      ]
    },
    {
      "cell_type": "code",
      "metadata": {
        "id": "6TGbJNsH8Wn8",
        "colab_type": "code",
        "outputId": "36732256-1b2a-4911-dbe6-bac1b0b44243",
        "colab": {
          "base_uri": "https://localhost:8080/",
          "height": 33
        }
      },
      "source": [
        "sequences = tokenizer.texts_to_sequences(df[\"texts\"])\n",
        "word_index = tokenizer.word_index\n",
        "print('Found %s unique tokens.' % len(word_index))\n",
        "data_vectors= pad_sequences(sequences, maxlen=maxlen)\n",
        "\n",
        "idx_to_word={word_index[i]:i for i in word_index}\n",
        "idxs_to_text=lambda li_idx:\" \".join( [idx_to_word[i] if i in idx_to_word else \"#\" for i in li_idx] )\n"
      ],
      "execution_count": 21,
      "outputs": [
        {
          "output_type": "stream",
          "text": [
            "Found 124252 unique tokens.\n"
          ],
          "name": "stdout"
        }
      ]
    },
    {
      "cell_type": "code",
      "metadata": {
        "id": "K3Sf1FZgOZR_",
        "colab_type": "code",
        "outputId": "a35ee8de-3b07-4767-f5b0-c9c2e45ec989",
        "colab": {
          "base_uri": "https://localhost:8080/",
          "height": 212
        }
      },
      "source": [
        "data_vectors[0]"
      ],
      "execution_count": 22,
      "outputs": [
        {
          "output_type": "execute_result",
          "data": {
            "text/plain": [
              "array([    0,     0,     0,     0,     0,     0,     0,     0,     0,\n",
              "           0,     0,     0,     0,     0,     0,     0,     0,     0,\n",
              "           0,     0,     0,     0,     0,     0,     0,     0,     0,\n",
              "           0,     0,     0,     0,     0,     0,     0,     0,     0,\n",
              "           0,     0,     0,     0,     0,     0,     0,     0,     0,\n",
              "           0,     0,     0,     0,     0,     0,     0,     0,     0,\n",
              "           0,    43,   492,    97,  1431,     2,  2089,  3076,     2,\n",
              "        5240, 24017,  1873,    53,    14,    47,   430,     4,  4602,\n",
              "        4572,     4,  8083,    23,   125,   430,     4,   728,   474,\n",
              "         239,   354,    11,   902,   834,     9,     1,  4485, 62696,\n",
              "         151,   334,  4493,   115,   197,     3,   171,  1621,     4,\n",
              "        5688], dtype=int32)"
            ]
          },
          "metadata": {
            "tags": []
          },
          "execution_count": 22
        }
      ]
    },
    {
      "cell_type": "code",
      "metadata": {
        "id": "n-6B6n9FAJU8",
        "colab_type": "code",
        "outputId": "50ca692d-92a5-45d1-e7cd-caca2ed8167b",
        "colab": {
          "base_uri": "https://localhost:8080/",
          "height": 53
        }
      },
      "source": [
        "print(idxs_to_text(data_vectors[0]),df[\"topics\"][0])"
      ],
      "execution_count": 23,
      "outputs": [
        {
          "output_type": "stream",
          "text": [
            "# # # # # # # # # # # # # # # # # # # # # # # # # # # # # # # # # # # # # # # # # # # # # # # # # # # # # # # if b movies tired and corny scripts and golf carts dressed up as some sort of futuristic mode of transport are your sort of entertainment you'll probably enjoy this otherwise forget it the topless newsreader though completely irrelevant did give a few seconds of amusement neg\n"
          ],
          "name": "stdout"
        }
      ]
    },
    {
      "cell_type": "code",
      "metadata": {
        "id": "_cikfjjPgsnE",
        "colab_type": "code",
        "outputId": "bbd7913b-cded-4389-ddab-54821d6dccbc",
        "colab": {
          "base_uri": "https://localhost:8080/",
          "height": 53
        }
      },
      "source": [
        "print(df[\"texts\"][0])"
      ],
      "execution_count": 24,
      "outputs": [
        {
          "output_type": "stream",
          "text": [
            "If \"B\" movies, tired and corny scripts, and golf carts dressed up as some sort of futuristic mode of transport are your sort of entertainment, you'll probably enjoy this. Otherwise, forget it. The topless newsreader, though completely irrelevant, did give a few seconds of amusement.\n"
          ],
          "name": "stdout"
        }
      ]
    },
    {
      "cell_type": "code",
      "metadata": {
        "id": "o2n8JmWlHOhn",
        "colab_type": "code",
        "colab": {}
      },
      "source": [
        "len(idx_to_word)\n",
        "\n",
        "from sklearn.model_selection import train_test_split"
      ],
      "execution_count": 0,
      "outputs": []
    },
    {
      "cell_type": "code",
      "metadata": {
        "colab_type": "code",
        "id": "86_u7bBwPads",
        "colab": {}
      },
      "source": [
        "def split_data(data_vectors,label_vectors,test_size=0.1):\n",
        "  x_train,x_test,y_train,y_test=train_test_split(data_vectors,label_vectors,test_size=test_size)\n",
        "  \n",
        "  return x_train,y_train,x_test,y_test\n",
        "\n",
        "\n"
      ],
      "execution_count": 0,
      "outputs": []
    },
    {
      "cell_type": "code",
      "metadata": {
        "colab_type": "code",
        "id": "1Z0y-WWXPZss",
        "colab": {}
      },
      "source": [
        "x_train,y_train,x_test,y_test=split_data(data_vectors,np.array(df[\"labels\"]))"
      ],
      "execution_count": 0,
      "outputs": []
    },
    {
      "cell_type": "code",
      "metadata": {
        "id": "q4EatSAbIX8g",
        "colab_type": "code",
        "outputId": "d93fe315-7d38-4f4a-cdb0-ff96875bd8a0",
        "colab": {
          "base_uri": "https://localhost:8080/",
          "height": 33
        }
      },
      "source": [
        "x_train.shape,y_train.shape"
      ],
      "execution_count": 28,
      "outputs": [
        {
          "output_type": "execute_result",
          "data": {
            "text/plain": [
              "((45000, 100), (45000,))"
            ]
          },
          "metadata": {
            "tags": []
          },
          "execution_count": 28
        }
      ]
    },
    {
      "cell_type": "code",
      "metadata": {
        "id": "EpNEcPOCRNmV",
        "colab_type": "code",
        "outputId": "bffab659-9523-480b-9368-c6fb3630e291",
        "colab": {
          "base_uri": "https://localhost:8080/",
          "height": 33
        }
      },
      "source": [
        "y_train[:10]"
      ],
      "execution_count": 29,
      "outputs": [
        {
          "output_type": "execute_result",
          "data": {
            "text/plain": [
              "array([1, 0, 0, 1, 1, 1, 1, 0, 1, 0])"
            ]
          },
          "metadata": {
            "tags": []
          },
          "execution_count": 29
        }
      ]
    },
    {
      "cell_type": "markdown",
      "metadata": {
        "id": "OeCDlEZtKgN9",
        "colab_type": "text"
      },
      "source": [
        "## Download and load pretrained word embeddigs (Glove)"
      ]
    },
    {
      "cell_type": "code",
      "metadata": {
        "id": "bLQmwzzvK4cm",
        "colab_type": "code",
        "outputId": "ba429f20-47d9-4974-d8d3-a4ef74563c40",
        "colab": {
          "base_uri": "https://localhost:8080/",
          "height": 196
        }
      },
      "source": [
        "# !wget http://downloads.cs.stanford.edu/nlp/data/glove.6B.zip"
      ],
      "execution_count": 0,
      "outputs": [
        {
          "output_type": "stream",
          "text": [
            "--2020-01-19 19:29:45--  http://downloads.cs.stanford.edu/nlp/data/glove.6B.zip\n",
            "Resolving downloads.cs.stanford.edu (downloads.cs.stanford.edu)... 171.64.64.22\n",
            "Connecting to downloads.cs.stanford.edu (downloads.cs.stanford.edu)|171.64.64.22|:80... connected.\n",
            "HTTP request sent, awaiting response... 200 OK\n",
            "Length: 862182613 (822M) [application/zip]\n",
            "Saving to: ‘glove.6B.zip’\n",
            "\n",
            "glove.6B.zip        100%[===================>] 822.24M  2.06MB/s    in 6m 27s  \n",
            "\n",
            "2020-01-19 19:36:12 (2.12 MB/s) - ‘glove.6B.zip’ saved [862182613/862182613]\n",
            "\n"
          ],
          "name": "stdout"
        }
      ]
    },
    {
      "cell_type": "code",
      "metadata": {
        "id": "M3wlvt6tLj9t",
        "colab_type": "code",
        "colab": {}
      },
      "source": [
        "# !unzip glove.6B.zip\n",
        "import os"
      ],
      "execution_count": 0,
      "outputs": []
    },
    {
      "cell_type": "markdown",
      "metadata": {
        "id": "-by0tjA6ihmp",
        "colab_type": "text"
      },
      "source": [
        "## Loading glove 100d embeddings"
      ]
    },
    {
      "cell_type": "code",
      "metadata": {
        "id": "BbPWBfARPdSg",
        "colab_type": "code",
        "colab": {}
      },
      "source": [
        "embeddings_index = {}\n",
        "f = open(os.path.join( 'glove/glove.6B.100d.txt'))\n",
        "for line in f:\n",
        "  values = line.split()\n",
        "  word = values[0]\n",
        "  coefs = np.asarray(values[1:], dtype='float32')\n",
        "  embeddings_index[word] = coefs\n",
        "f.close()"
      ],
      "execution_count": 0,
      "outputs": []
    },
    {
      "cell_type": "code",
      "metadata": {
        "id": "urY67gKGWgTr",
        "colab_type": "code",
        "outputId": "1c37852d-ef91-4cc2-b007-1b98f114894d",
        "colab": {
          "base_uri": "https://localhost:8080/",
          "height": 33
        }
      },
      "source": [
        "len(embeddings_index)"
      ],
      "execution_count": 32,
      "outputs": [
        {
          "output_type": "execute_result",
          "data": {
            "text/plain": [
              "400000"
            ]
          },
          "metadata": {
            "tags": []
          },
          "execution_count": 32
        }
      ]
    },
    {
      "cell_type": "code",
      "metadata": {
        "id": "__1TXhyiWsKj",
        "colab_type": "code",
        "outputId": "9c95cb63-fef9-4c02-d8fb-3ff1b213713d",
        "colab": {
          "base_uri": "https://localhost:8080/",
          "height": 358
        }
      },
      "source": [
        "embeddings_index[\"growing\"]"
      ],
      "execution_count": 33,
      "outputs": [
        {
          "output_type": "execute_result",
          "data": {
            "text/plain": [
              "array([-3.0191e-01,  8.8384e-01,  3.3208e-01,  1.0923e-01,  1.9068e-01,\n",
              "       -3.2629e-01, -7.4598e-01, -5.7549e-01,  4.7926e-01,  2.0772e-01,\n",
              "       -1.2972e+00, -3.8137e-01, -3.9921e-03, -5.3190e-01,  1.6570e-01,\n",
              "       -3.3231e-01, -3.2595e-01,  8.2377e-02,  6.6829e-02, -1.0943e-01,\n",
              "       -3.9902e-01,  5.1666e-01,  2.4612e-01,  2.0786e-01,  1.7056e-03,\n",
              "        2.2861e-01,  5.2369e-01, -7.5865e-01, -3.3429e-02,  4.7330e-01,\n",
              "       -6.6450e-02,  1.3777e-01,  8.0831e-01, -4.9327e-01, -7.5526e-02,\n",
              "        4.9018e-01,  5.1670e-01, -1.5269e-01,  1.4589e-01,  2.6081e-01,\n",
              "       -8.4302e-01, -5.3116e-01,  9.6419e-02, -7.5570e-02,  7.9627e-01,\n",
              "       -3.8372e-01,  9.0381e-01,  3.7004e-01,  3.1373e-01, -8.7537e-01,\n",
              "       -2.1100e-02, -3.1616e-01, -2.8370e-01,  1.1182e+00,  3.4998e-01,\n",
              "       -2.1596e+00, -9.8544e-02, -5.4007e-01,  1.4882e+00, -7.1375e-03,\n",
              "        3.3755e-01,  6.4208e-01, -6.0304e-02, -3.1889e-01,  4.6451e-01,\n",
              "        2.3915e-01,  5.5707e-01, -7.2938e-01,  1.3341e+00,  2.4504e-01,\n",
              "        5.8198e-01, -1.8045e-03, -9.9862e-01, -5.8057e-01, -6.1994e-02,\n",
              "        4.5864e-01, -7.9132e-02, -4.4248e-01, -8.6542e-01,  4.5304e-01,\n",
              "        9.3833e-01,  1.5027e-01, -6.4825e-01,  4.4343e-01, -8.9933e-01,\n",
              "       -1.0739e+00, -3.0381e-01, -2.5865e-01, -6.3163e-01,  6.9123e-02,\n",
              "       -1.8253e-01,  3.5781e-01, -6.8590e-01, -4.8005e-01, -5.2098e-01,\n",
              "       -3.9855e-01, -3.0265e-01, -5.9626e-01,  1.1173e+00,  3.7148e-01],\n",
              "      dtype=float32)"
            ]
          },
          "metadata": {
            "tags": []
          },
          "execution_count": 33
        }
      ]
    },
    {
      "cell_type": "code",
      "metadata": {
        "id": "M24ELRnrWvRs",
        "colab_type": "code",
        "colab": {}
      },
      "source": [
        "embedding_dim = 100\n",
        "embedding_matrix = np.zeros((max_words+1, embedding_dim))\n",
        "\n",
        "for i,word in idx_to_word.items():\n",
        "  \n",
        "  if i < max_words:\n",
        "    embedding_vector = embeddings_index.get(word)\n",
        "  if embedding_vector is not None:\n",
        "    embedding_matrix[i] = embedding_vector\n",
        "\n",
        "# words not found in the embedding index will all be zeros\n"
      ],
      "execution_count": 0,
      "outputs": []
    },
    {
      "cell_type": "code",
      "metadata": {
        "id": "FIxACfiRX4uJ",
        "colab_type": "code",
        "outputId": "d032bead-6354-4ddf-a5ed-cc2d5932b191",
        "colab": {
          "base_uri": "https://localhost:8080/",
          "height": 33
        }
      },
      "source": [
        "embedding_matrix.shape"
      ],
      "execution_count": 35,
      "outputs": [
        {
          "output_type": "execute_result",
          "data": {
            "text/plain": [
              "(124253, 100)"
            ]
          },
          "metadata": {
            "tags": []
          },
          "execution_count": 35
        }
      ]
    },
    {
      "cell_type": "code",
      "metadata": {
        "id": "P6bYLozkksxT",
        "colab_type": "code",
        "colab": {}
      },
      "source": [
        "from keras.layers import BatchNormalization,GlobalAveragePooling1D,AveragePooling1D"
      ],
      "execution_count": 0,
      "outputs": []
    },
    {
      "cell_type": "code",
      "metadata": {
        "id": "KdFXON93XImh",
        "colab_type": "code",
        "colab": {}
      },
      "source": [
        "from keras.models import Sequential\n",
        "from keras.layers import Embedding, Flatten, Dense\n",
        "\n",
        "def model_():\n",
        "\n",
        "  model = Sequential()\n",
        "  model.add(Embedding(max_words+1, embedding_dim, input_length=maxlen))\n",
        "\n",
        "  model.add(GlobalAveragePooling1D())\n",
        "  model.add(Dense(128, activation='relu'))\n",
        "  # model.add(AveragePooling1D())\n",
        "  model.add(Dense(32, activation='relu'))\n",
        "  model.add(Dense(1, activation='sigmoid'))\n",
        "  model.summary()\n",
        "\n",
        "  # load Glove model\n",
        "  model.layers[0].set_weights([embedding_matrix])\n",
        "  model.layers[0].trainable = True\n",
        "  return model"
      ],
      "execution_count": 0,
      "outputs": []
    },
    {
      "cell_type": "code",
      "metadata": {
        "id": "RPXZ4CuAYoHS",
        "colab_type": "code",
        "outputId": "c67dc876-b328-4479-ab59-9f18d96aa00c",
        "colab": {
          "base_uri": "https://localhost:8080/",
          "height": 557
        }
      },
      "source": [
        "\n",
        "model.compile(optimizer='adam',loss='binary_crossentropy',metrics=['acc'])\n",
        "history = model.fit(x_train, y_train, \n",
        "epochs = 10,\n",
        "batch_size=128,\n",
        "validation_data=(x_test, y_test))\n",
        "model.save_weights('models/pre_trained_glove_model.h5')\n"
      ],
      "execution_count": 40,
      "outputs": [
        {
          "output_type": "stream",
          "text": [
            "WARNING:tensorflow:From /usr/local/lib/python3.6/dist-packages/keras/optimizers.py:793: The name tf.train.Optimizer is deprecated. Please use tf.compat.v1.train.Optimizer instead.\n",
            "\n",
            "WARNING:tensorflow:From /usr/local/lib/python3.6/dist-packages/keras/backend/tensorflow_backend.py:3657: The name tf.log is deprecated. Please use tf.math.log instead.\n",
            "\n",
            "WARNING:tensorflow:From /usr/local/lib/python3.6/dist-packages/tensorflow_core/python/ops/nn_impl.py:183: where (from tensorflow.python.ops.array_ops) is deprecated and will be removed in a future version.\n",
            "Instructions for updating:\n",
            "Use tf.where in 2.0, which has the same broadcast rule as np.where\n",
            "WARNING:tensorflow:From /usr/local/lib/python3.6/dist-packages/keras/backend/tensorflow_backend.py:1033: The name tf.assign_add is deprecated. Please use tf.compat.v1.assign_add instead.\n",
            "\n",
            "WARNING:tensorflow:From /usr/local/lib/python3.6/dist-packages/keras/backend/tensorflow_backend.py:1020: The name tf.assign is deprecated. Please use tf.compat.v1.assign instead.\n",
            "\n",
            "Train on 45000 samples, validate on 5000 samples\n",
            "Epoch 1/10\n",
            "45000/45000 [==============================] - 6s 142us/step - loss: 0.4701 - acc: 0.7700 - val_loss: 0.3709 - val_acc: 0.8348\n",
            "Epoch 2/10\n",
            "45000/45000 [==============================] - 4s 98us/step - loss: 0.2903 - acc: 0.8778 - val_loss: 0.3284 - val_acc: 0.8546\n",
            "Epoch 3/10\n",
            "45000/45000 [==============================] - 4s 96us/step - loss: 0.2203 - acc: 0.9123 - val_loss: 0.3284 - val_acc: 0.8600\n",
            "Epoch 4/10\n",
            "45000/45000 [==============================] - 4s 95us/step - loss: 0.1643 - acc: 0.9388 - val_loss: 0.3675 - val_acc: 0.8548\n",
            "Epoch 5/10\n",
            "45000/45000 [==============================] - 4s 97us/step - loss: 0.1225 - acc: 0.9573 - val_loss: 0.3946 - val_acc: 0.8578\n",
            "Epoch 6/10\n",
            "45000/45000 [==============================] - 4s 96us/step - loss: 0.0870 - acc: 0.9716 - val_loss: 0.4692 - val_acc: 0.8446\n",
            "Epoch 7/10\n",
            "45000/45000 [==============================] - 4s 95us/step - loss: 0.0587 - acc: 0.9818 - val_loss: 0.5445 - val_acc: 0.8482\n",
            "Epoch 8/10\n",
            "45000/45000 [==============================] - 4s 96us/step - loss: 0.0375 - acc: 0.9893 - val_loss: 0.6303 - val_acc: 0.8412\n",
            "Epoch 9/10\n",
            "45000/45000 [==============================] - 4s 96us/step - loss: 0.0241 - acc: 0.9940 - val_loss: 0.7148 - val_acc: 0.8398\n",
            "Epoch 10/10\n",
            "45000/45000 [==============================] - 4s 95us/step - loss: 0.0161 - acc: 0.9966 - val_loss: 0.8294 - val_acc: 0.8322\n"
          ],
          "name": "stdout"
        }
      ]
    },
    {
      "cell_type": "markdown",
      "metadata": {
        "id": "Uon9caqIjB1U",
        "colab_type": "text"
      },
      "source": [
        "## Now training on 8000 and validating on 42000 samples"
      ]
    },
    {
      "cell_type": "code",
      "metadata": {
        "id": "2hmQ83DXjH0t",
        "colab_type": "code",
        "colab": {}
      },
      "source": [
        "x_train,y_train,x_test,y_test=split_data(data_vectors,np.array(df[\"labels\"]),test_size=0.84)"
      ],
      "execution_count": 0,
      "outputs": []
    },
    {
      "cell_type": "code",
      "metadata": {
        "id": "PokABbyWjPeH",
        "colab_type": "code",
        "colab": {
          "base_uri": "https://localhost:8080/",
          "height": 310
        },
        "outputId": "d106c096-0126-4277-cce2-255f5c6472f0"
      },
      "source": [
        "model=model_()"
      ],
      "execution_count": 44,
      "outputs": [
        {
          "output_type": "stream",
          "text": [
            "Model: \"sequential_3\"\n",
            "_________________________________________________________________\n",
            "Layer (type)                 Output Shape              Param #   \n",
            "=================================================================\n",
            "embedding_3 (Embedding)      (None, 100, 100)          12425300  \n",
            "_________________________________________________________________\n",
            "global_average_pooling1d_2 ( (None, 100)               0         \n",
            "_________________________________________________________________\n",
            "dense_4 (Dense)              (None, 128)               12928     \n",
            "_________________________________________________________________\n",
            "dense_5 (Dense)              (None, 32)                4128      \n",
            "_________________________________________________________________\n",
            "dense_6 (Dense)              (None, 1)                 33        \n",
            "=================================================================\n",
            "Total params: 12,442,389\n",
            "Trainable params: 12,442,389\n",
            "Non-trainable params: 0\n",
            "_________________________________________________________________\n"
          ],
          "name": "stdout"
        }
      ]
    },
    {
      "cell_type": "code",
      "metadata": {
        "id": "e_7GaLW2jQ70",
        "colab_type": "code",
        "colab": {
          "base_uri": "https://localhost:8080/",
          "height": 358
        },
        "outputId": "dcd52571-0c03-474b-8e03-9807381aabb0"
      },
      "source": [
        "\n",
        "model.compile(optimizer='adam',loss='binary_crossentropy',metrics=['acc'])\n",
        "history = model.fit(x_train, y_train, \n",
        "epochs = 10,\n",
        "batch_size=128,\n",
        "validation_data=(x_test, y_test))\n",
        "model.save_weights('models/pre_trained_glove_model_8000_samples.h5')"
      ],
      "execution_count": 45,
      "outputs": [
        {
          "output_type": "stream",
          "text": [
            "Train on 8000 samples, validate on 42000 samples\n",
            "Epoch 1/10\n",
            "8000/8000 [==============================] - 2s 209us/step - loss: 0.6638 - acc: 0.6135 - val_loss: 0.6162 - val_acc: 0.6833\n",
            "Epoch 2/10\n",
            "8000/8000 [==============================] - 1s 154us/step - loss: 0.5251 - acc: 0.7530 - val_loss: 0.4650 - val_acc: 0.7840\n",
            "Epoch 3/10\n",
            "8000/8000 [==============================] - 1s 159us/step - loss: 0.3727 - acc: 0.8327 - val_loss: 0.4172 - val_acc: 0.8097\n",
            "Epoch 4/10\n",
            "8000/8000 [==============================] - 1s 162us/step - loss: 0.2740 - acc: 0.8850 - val_loss: 0.3899 - val_acc: 0.8276\n",
            "Epoch 5/10\n",
            "8000/8000 [==============================] - 1s 156us/step - loss: 0.2025 - acc: 0.9227 - val_loss: 0.4094 - val_acc: 0.8286\n",
            "Epoch 6/10\n",
            "8000/8000 [==============================] - 1s 157us/step - loss: 0.1418 - acc: 0.9491 - val_loss: 0.4149 - val_acc: 0.8347\n",
            "Epoch 7/10\n",
            "8000/8000 [==============================] - 1s 153us/step - loss: 0.0954 - acc: 0.9716 - val_loss: 0.4430 - val_acc: 0.8351\n",
            "Epoch 8/10\n",
            "8000/8000 [==============================] - 1s 153us/step - loss: 0.0615 - acc: 0.9831 - val_loss: 0.4781 - val_acc: 0.8338\n",
            "Epoch 9/10\n",
            "8000/8000 [==============================] - 1s 155us/step - loss: 0.0396 - acc: 0.9933 - val_loss: 0.5149 - val_acc: 0.8325\n",
            "Epoch 10/10\n",
            "8000/8000 [==============================] - 1s 152us/step - loss: 0.0248 - acc: 0.9964 - val_loss: 0.5536 - val_acc: 0.8303\n"
          ],
          "name": "stdout"
        }
      ]
    },
    {
      "cell_type": "code",
      "metadata": {
        "id": "yO7jLpz9jfsO",
        "colab_type": "code",
        "colab": {}
      },
      "source": [
        ""
      ],
      "execution_count": 0,
      "outputs": []
    }
  ]
}